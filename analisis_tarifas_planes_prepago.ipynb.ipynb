{
 "cells": [
  {
   "cell_type": "markdown",
   "metadata": {},
   "source": [
    "# Análisis de Tarifas y Comportamiento del Cliente en Planes Prepago"
   ]
  },
  {
   "cell_type": "markdown",
   "metadata": {
    "id": "3rYiDeEH0q0f"
   },
   "source": [
    "# Introducción\n",
    "\n",
    "La empresa ofrece a sus clientes dos tarifas de prepago, Surf y Ultimate. El departamento comercial quiere saber cuál de las tarifas genera más ingresos para poder ajustar el presupuesto de publicidad.\n",
    "\n",
    "Se realizara un análisis preliminar de las tarifas basado en una selección de clientes relativamente pequeña. Los datos de 500 clientes de Megaline: quiénes son los clientes, de dónde son, qué tarifa usan, así como la cantidad de llamadas que hicieron y los mensajes de texto que enviaron en 2018. Se analizar el comportamiento de los clientes y determinar qué tarifa de prepago genera más ingresos."
   ]
  },
  {
   "cell_type": "markdown",
   "metadata": {
    "id": "MQi4IPy70q0y"
   },
   "source": [
    "## Inicialización"
   ]
  },
  {
   "cell_type": "code",
   "execution_count": 1,
   "metadata": {
    "id": "MtYIuBxu0q0z"
   },
   "outputs": [],
   "source": [
    "# Cargar todas las librerías\n",
    "import pandas as pd\n",
    "import numpy as np\n",
    "import matplotlib.pyplot as plt\n",
    "import seaborn as sns"
   ]
  },
  {
   "cell_type": "markdown",
   "metadata": {
    "id": "4ysWWC5i0q00"
   },
   "source": [
    "## Cargar datos"
   ]
  },
  {
   "cell_type": "code",
   "execution_count": 2,
   "metadata": {},
   "outputs": [],
   "source": [
    "# Carga los archivos de datos en diferentes DataFrames\n",
    "df_user = pd.read_csv(\"/datasets/megaline_users.csv\")\n",
    "df_calls = pd.read_csv(\"/datasets/megaline_calls.csv\")\n",
    "df_messages = pd.read_csv(\"/datasets/megaline_messages.csv\")\n",
    "df_internet = pd.read_csv(\"/datasets/megaline_internet.csv\")\n",
    "df_plans = pd.read_csv(\"/datasets/megaline_plans.csv\")"
   ]
  },
  {
   "cell_type": "markdown",
   "metadata": {
    "id": "69qqoJ3r0q01"
   },
   "source": [
    "## Preparar los datos"
   ]
  },
  {
   "cell_type": "code",
   "execution_count": 3,
   "metadata": {},
   "outputs": [
    {
     "name": "stdout",
     "output_type": "stream",
     "text": [
      "<class 'pandas.core.frame.DataFrame'>\n",
      "RangeIndex: 500 entries, 0 to 499\n",
      "Data columns (total 8 columns):\n",
      " #   Column      Non-Null Count  Dtype \n",
      "---  ------      --------------  ----- \n",
      " 0   user_id     500 non-null    int64 \n",
      " 1   first_name  500 non-null    object\n",
      " 2   last_name   500 non-null    object\n",
      " 3   age         500 non-null    int64 \n",
      " 4   city        500 non-null    object\n",
      " 5   reg_date    500 non-null    object\n",
      " 6   plan        500 non-null    object\n",
      " 7   churn_date  34 non-null     object\n",
      "dtypes: int64(2), object(6)\n",
      "memory usage: 31.4+ KB\n",
      "None\n",
      "   user_id first_name  last_name  age                                   city  \\\n",
      "0     1000   Anamaria      Bauer   45  Atlanta-Sandy Springs-Roswell, GA MSA   \n",
      "1     1001     Mickey  Wilkerson   28        Seattle-Tacoma-Bellevue, WA MSA   \n",
      "2     1002     Carlee    Hoffman   36   Las Vegas-Henderson-Paradise, NV MSA   \n",
      "3     1003   Reynaldo    Jenkins   52                          Tulsa, OK MSA   \n",
      "4     1004    Leonila   Thompson   40        Seattle-Tacoma-Bellevue, WA MSA   \n",
      "\n",
      "     reg_date      plan churn_date  \n",
      "0  2018-12-24  ultimate        NaN  \n",
      "1  2018-08-13      surf        NaN  \n",
      "2  2018-10-21      surf        NaN  \n",
      "3  2018-01-28      surf        NaN  \n",
      "4  2018-05-23      surf        NaN  \n",
      "\n",
      "<class 'pandas.core.frame.DataFrame'>\n",
      "RangeIndex: 137735 entries, 0 to 137734\n",
      "Data columns (total 4 columns):\n",
      " #   Column     Non-Null Count   Dtype  \n",
      "---  ------     --------------   -----  \n",
      " 0   id         137735 non-null  object \n",
      " 1   user_id    137735 non-null  int64  \n",
      " 2   call_date  137735 non-null  object \n",
      " 3   duration   137735 non-null  float64\n",
      "dtypes: float64(1), int64(1), object(2)\n",
      "memory usage: 4.2+ MB\n",
      "None\n",
      "         id  user_id   call_date  duration\n",
      "0   1000_93     1000  2018-12-27      8.52\n",
      "1  1000_145     1000  2018-12-27     13.66\n",
      "2  1000_247     1000  2018-12-27     14.48\n",
      "3  1000_309     1000  2018-12-28      5.76\n",
      "4  1000_380     1000  2018-12-30      4.22\n",
      "\n",
      "<class 'pandas.core.frame.DataFrame'>\n",
      "RangeIndex: 76051 entries, 0 to 76050\n",
      "Data columns (total 3 columns):\n",
      " #   Column        Non-Null Count  Dtype \n",
      "---  ------        --------------  ----- \n",
      " 0   id            76051 non-null  object\n",
      " 1   user_id       76051 non-null  int64 \n",
      " 2   message_date  76051 non-null  object\n",
      "dtypes: int64(1), object(2)\n",
      "memory usage: 1.7+ MB\n",
      "None\n",
      "         id  user_id message_date\n",
      "0  1000_125     1000   2018-12-27\n",
      "1  1000_160     1000   2018-12-31\n",
      "2  1000_223     1000   2018-12-31\n",
      "3  1000_251     1000   2018-12-27\n",
      "4  1000_255     1000   2018-12-26\n",
      "\n",
      "<class 'pandas.core.frame.DataFrame'>\n",
      "RangeIndex: 104825 entries, 0 to 104824\n",
      "Data columns (total 4 columns):\n",
      " #   Column        Non-Null Count   Dtype  \n",
      "---  ------        --------------   -----  \n",
      " 0   id            104825 non-null  object \n",
      " 1   user_id       104825 non-null  int64  \n",
      " 2   session_date  104825 non-null  object \n",
      " 3   mb_used       104825 non-null  float64\n",
      "dtypes: float64(1), int64(1), object(2)\n",
      "memory usage: 3.2+ MB\n",
      "None\n",
      "         id  user_id session_date  mb_used\n",
      "0   1000_13     1000   2018-12-29    89.86\n",
      "1  1000_204     1000   2018-12-31     0.00\n",
      "2  1000_379     1000   2018-12-28   660.40\n",
      "3  1000_413     1000   2018-12-26   270.99\n",
      "4  1000_442     1000   2018-12-27   880.22\n"
     ]
    }
   ],
   "source": [
    "print(df_user.info())\n",
    "print(df_user.head())\n",
    "print()\n",
    "print(df_calls.info())\n",
    "print(df_calls.head())\n",
    "print()\n",
    "print(df_messages.info())\n",
    "print(df_messages.head())\n",
    "print()\n",
    "print(df_internet.info())\n",
    "print(df_internet.head())"
   ]
  },
  {
   "cell_type": "markdown",
   "metadata": {
    "id": "ohBhimvH0q01"
   },
   "source": [
    "## Tarifas"
   ]
  },
  {
   "cell_type": "code",
   "execution_count": 4,
   "metadata": {
    "id": "GptqP3Q40q02"
   },
   "outputs": [
    {
     "name": "stdout",
     "output_type": "stream",
     "text": [
      "<class 'pandas.core.frame.DataFrame'>\n",
      "RangeIndex: 2 entries, 0 to 1\n",
      "Data columns (total 8 columns):\n",
      " #   Column                 Non-Null Count  Dtype  \n",
      "---  ------                 --------------  -----  \n",
      " 0   messages_included      2 non-null      int64  \n",
      " 1   mb_per_month_included  2 non-null      int64  \n",
      " 2   minutes_included       2 non-null      int64  \n",
      " 3   usd_monthly_pay        2 non-null      int64  \n",
      " 4   usd_per_gb             2 non-null      int64  \n",
      " 5   usd_per_message        2 non-null      float64\n",
      " 6   usd_per_minute         2 non-null      float64\n",
      " 7   plan_name              2 non-null      object \n",
      "dtypes: float64(2), int64(5), object(1)\n",
      "memory usage: 256.0+ bytes\n"
     ]
    }
   ],
   "source": [
    "# Imprime la información general/resumida sobre el DataFrame de las tarifas\n",
    "df_plans.info()\n"
   ]
  },
  {
   "cell_type": "code",
   "execution_count": 5,
   "metadata": {
    "id": "64xzjwL70q02"
   },
   "outputs": [
    {
     "data": {
      "text/html": [
       "<div>\n",
       "<style scoped>\n",
       "    .dataframe tbody tr th:only-of-type {\n",
       "        vertical-align: middle;\n",
       "    }\n",
       "\n",
       "    .dataframe tbody tr th {\n",
       "        vertical-align: top;\n",
       "    }\n",
       "\n",
       "    .dataframe thead th {\n",
       "        text-align: right;\n",
       "    }\n",
       "</style>\n",
       "<table border=\"1\" class=\"dataframe\">\n",
       "  <thead>\n",
       "    <tr style=\"text-align: right;\">\n",
       "      <th></th>\n",
       "      <th>messages_included</th>\n",
       "      <th>mb_per_month_included</th>\n",
       "      <th>minutes_included</th>\n",
       "      <th>usd_monthly_pay</th>\n",
       "      <th>usd_per_gb</th>\n",
       "      <th>usd_per_message</th>\n",
       "      <th>usd_per_minute</th>\n",
       "      <th>plan_name</th>\n",
       "    </tr>\n",
       "  </thead>\n",
       "  <tbody>\n",
       "    <tr>\n",
       "      <th>0</th>\n",
       "      <td>50</td>\n",
       "      <td>15360</td>\n",
       "      <td>500</td>\n",
       "      <td>20</td>\n",
       "      <td>10</td>\n",
       "      <td>0.03</td>\n",
       "      <td>0.03</td>\n",
       "      <td>surf</td>\n",
       "    </tr>\n",
       "    <tr>\n",
       "      <th>1</th>\n",
       "      <td>1000</td>\n",
       "      <td>30720</td>\n",
       "      <td>3000</td>\n",
       "      <td>70</td>\n",
       "      <td>7</td>\n",
       "      <td>0.01</td>\n",
       "      <td>0.01</td>\n",
       "      <td>ultimate</td>\n",
       "    </tr>\n",
       "  </tbody>\n",
       "</table>\n",
       "</div>"
      ],
      "text/plain": [
       "   messages_included  mb_per_month_included  minutes_included  \\\n",
       "0                 50                  15360               500   \n",
       "1               1000                  30720              3000   \n",
       "\n",
       "   usd_monthly_pay  usd_per_gb  usd_per_message  usd_per_minute plan_name  \n",
       "0               20          10             0.03            0.03      surf  \n",
       "1               70           7             0.01            0.01  ultimate  "
      ]
     },
     "execution_count": 5,
     "metadata": {},
     "output_type": "execute_result"
    }
   ],
   "source": [
    "# Imprime una muestra de los datos para las tarifas\n",
    "df_plans.head()\n"
   ]
  },
  {
   "cell_type": "code",
   "execution_count": 6,
   "metadata": {},
   "outputs": [
    {
     "data": {
      "text/html": [
       "<div>\n",
       "<style scoped>\n",
       "    .dataframe tbody tr th:only-of-type {\n",
       "        vertical-align: middle;\n",
       "    }\n",
       "\n",
       "    .dataframe tbody tr th {\n",
       "        vertical-align: top;\n",
       "    }\n",
       "\n",
       "    .dataframe thead th {\n",
       "        text-align: right;\n",
       "    }\n",
       "</style>\n",
       "<table border=\"1\" class=\"dataframe\">\n",
       "  <thead>\n",
       "    <tr style=\"text-align: right;\">\n",
       "      <th></th>\n",
       "      <th>messages_included</th>\n",
       "      <th>mb_per_month_included</th>\n",
       "      <th>minutes_included</th>\n",
       "      <th>usd_monthly_pay</th>\n",
       "      <th>usd_per_gb</th>\n",
       "      <th>usd_per_message</th>\n",
       "      <th>usd_per_minute</th>\n",
       "    </tr>\n",
       "  </thead>\n",
       "  <tbody>\n",
       "    <tr>\n",
       "      <th>count</th>\n",
       "      <td>2.000000</td>\n",
       "      <td>2.000000</td>\n",
       "      <td>2.000000</td>\n",
       "      <td>2.000000</td>\n",
       "      <td>2.00000</td>\n",
       "      <td>2.000000</td>\n",
       "      <td>2.000000</td>\n",
       "    </tr>\n",
       "    <tr>\n",
       "      <th>mean</th>\n",
       "      <td>525.000000</td>\n",
       "      <td>23040.000000</td>\n",
       "      <td>1750.000000</td>\n",
       "      <td>45.000000</td>\n",
       "      <td>8.50000</td>\n",
       "      <td>0.020000</td>\n",
       "      <td>0.020000</td>\n",
       "    </tr>\n",
       "    <tr>\n",
       "      <th>std</th>\n",
       "      <td>671.751442</td>\n",
       "      <td>10861.160159</td>\n",
       "      <td>1767.766953</td>\n",
       "      <td>35.355339</td>\n",
       "      <td>2.12132</td>\n",
       "      <td>0.014142</td>\n",
       "      <td>0.014142</td>\n",
       "    </tr>\n",
       "    <tr>\n",
       "      <th>min</th>\n",
       "      <td>50.000000</td>\n",
       "      <td>15360.000000</td>\n",
       "      <td>500.000000</td>\n",
       "      <td>20.000000</td>\n",
       "      <td>7.00000</td>\n",
       "      <td>0.010000</td>\n",
       "      <td>0.010000</td>\n",
       "    </tr>\n",
       "    <tr>\n",
       "      <th>25%</th>\n",
       "      <td>287.500000</td>\n",
       "      <td>19200.000000</td>\n",
       "      <td>1125.000000</td>\n",
       "      <td>32.500000</td>\n",
       "      <td>7.75000</td>\n",
       "      <td>0.015000</td>\n",
       "      <td>0.015000</td>\n",
       "    </tr>\n",
       "    <tr>\n",
       "      <th>50%</th>\n",
       "      <td>525.000000</td>\n",
       "      <td>23040.000000</td>\n",
       "      <td>1750.000000</td>\n",
       "      <td>45.000000</td>\n",
       "      <td>8.50000</td>\n",
       "      <td>0.020000</td>\n",
       "      <td>0.020000</td>\n",
       "    </tr>\n",
       "    <tr>\n",
       "      <th>75%</th>\n",
       "      <td>762.500000</td>\n",
       "      <td>26880.000000</td>\n",
       "      <td>2375.000000</td>\n",
       "      <td>57.500000</td>\n",
       "      <td>9.25000</td>\n",
       "      <td>0.025000</td>\n",
       "      <td>0.025000</td>\n",
       "    </tr>\n",
       "    <tr>\n",
       "      <th>max</th>\n",
       "      <td>1000.000000</td>\n",
       "      <td>30720.000000</td>\n",
       "      <td>3000.000000</td>\n",
       "      <td>70.000000</td>\n",
       "      <td>10.00000</td>\n",
       "      <td>0.030000</td>\n",
       "      <td>0.030000</td>\n",
       "    </tr>\n",
       "  </tbody>\n",
       "</table>\n",
       "</div>"
      ],
      "text/plain": [
       "       messages_included  mb_per_month_included  minutes_included  \\\n",
       "count           2.000000               2.000000          2.000000   \n",
       "mean          525.000000           23040.000000       1750.000000   \n",
       "std           671.751442           10861.160159       1767.766953   \n",
       "min            50.000000           15360.000000        500.000000   \n",
       "25%           287.500000           19200.000000       1125.000000   \n",
       "50%           525.000000           23040.000000       1750.000000   \n",
       "75%           762.500000           26880.000000       2375.000000   \n",
       "max          1000.000000           30720.000000       3000.000000   \n",
       "\n",
       "       usd_monthly_pay  usd_per_gb  usd_per_message  usd_per_minute  \n",
       "count         2.000000     2.00000         2.000000        2.000000  \n",
       "mean         45.000000     8.50000         0.020000        0.020000  \n",
       "std          35.355339     2.12132         0.014142        0.014142  \n",
       "min          20.000000     7.00000         0.010000        0.010000  \n",
       "25%          32.500000     7.75000         0.015000        0.015000  \n",
       "50%          45.000000     8.50000         0.020000        0.020000  \n",
       "75%          57.500000     9.25000         0.025000        0.025000  \n",
       "max          70.000000    10.00000         0.030000        0.030000  "
      ]
     },
     "execution_count": 6,
     "metadata": {},
     "output_type": "execute_result"
    }
   ],
   "source": [
    "df_plans.describe()"
   ]
  },
  {
   "cell_type": "markdown",
   "metadata": {
    "id": "mEc_3_hs0q02"
   },
   "source": [
    "Descripción de hallazgos:\n",
    "\n",
    "En general solo contiene 2 filas con 8 columnas, de tipo entero y flotente y solo una de tipo object, todos los tipos de datos parecen ser adecuados para las columnas, al tener 2 filas, No se observan valores nulos ni datos duplicados."
   ]
  },
  {
   "cell_type": "markdown",
   "metadata": {
    "id": "R3C05i1l0q03"
   },
   "source": [
    "## Corregir datos"
   ]
  },
  {
   "cell_type": "markdown",
   "metadata": {
    "id": "bIi8StZI0q03"
   },
   "source": [
    "Por protocolo se van a cambiar todas las letras a minúsculas para revisar que no exista ningun duplicado"
   ]
  },
  {
   "cell_type": "code",
   "execution_count": 7,
   "metadata": {
    "id": "Y7SVmjGn0q03"
   },
   "outputs": [
    {
     "name": "stdout",
     "output_type": "stream",
     "text": [
      "<class 'pandas.core.frame.DataFrame'>\n",
      "Int64Index: 2 entries, 0 to 1\n",
      "Data columns (total 8 columns):\n",
      " #   Column                 Non-Null Count  Dtype  \n",
      "---  ------                 --------------  -----  \n",
      " 0   messages_included      2 non-null      int64  \n",
      " 1   mb_per_month_included  2 non-null      int64  \n",
      " 2   minutes_included       2 non-null      int64  \n",
      " 3   usd_monthly_pay        2 non-null      int64  \n",
      " 4   usd_per_gb             2 non-null      int64  \n",
      " 5   usd_per_message        2 non-null      float64\n",
      " 6   usd_per_minute         2 non-null      float64\n",
      " 7   plan_name              2 non-null      object \n",
      "dtypes: float64(2), int64(5), object(1)\n",
      "memory usage: 144.0+ bytes\n",
      "None\n",
      "   messages_included  mb_per_month_included  minutes_included  \\\n",
      "0                 50                  15360               500   \n",
      "1               1000                  30720              3000   \n",
      "\n",
      "   usd_monthly_pay  usd_per_gb  usd_per_message  usd_per_minute plan_name  \n",
      "0               20          10             0.03            0.03      surf  \n",
      "1               70           7             0.01            0.01  ultimate  \n"
     ]
    }
   ],
   "source": [
    "# Se cambia a minúsculas y se buscan duplicados\n",
    "df_plans[\"plan_name\"] = df_plans[\"plan_name\"].str.strip().str.lower()\n",
    "df_plans.drop_duplicates(inplace=True)\n",
    "\n",
    "print(df_plans.info())\n",
    "print(df_plans.head())\n"
   ]
  },
  {
   "cell_type": "markdown",
   "metadata": {
    "id": "LJir7bml0q03"
   },
   "source": [
    "## Enriquecer los datos"
   ]
  },
  {
   "cell_type": "markdown",
   "metadata": {
    "id": "eqADpCfg0q04"
   },
   "source": [
    "\n",
    "Se calcula el costo extra por mensaje, por minuto y por megabytes."
   ]
  },
  {
   "cell_type": "code",
   "execution_count": 8,
   "metadata": {},
   "outputs": [
    {
     "name": "stdout",
     "output_type": "stream",
     "text": [
      "   messages_included  mb_per_month_included  minutes_included  \\\n",
      "0                 50                  15360               500   \n",
      "1               1000                  30720              3000   \n",
      "\n",
      "   usd_monthly_pay  usd_per_gb  usd_per_message  usd_per_minute plan_name  \\\n",
      "0               20          10             0.03            0.03      surf   \n",
      "1               70           7             0.01            0.01  ultimate   \n",
      "\n",
      "   cost_per_extra_message  cost_per_extra_minute  cost_per_extra_mb  \n",
      "0                     1.5                   15.0             153600  \n",
      "1                    10.0                   30.0             215040  \n"
     ]
    }
   ],
   "source": [
    "# Costo por mensaje extra\n",
    "df_plans[\"cost_per_extra_message\"] = df_plans[\"usd_per_message\"] * df_plans[\"messages_included\"]\n",
    "\n",
    "# Costo por minuto adicional\n",
    "df_plans[\"cost_per_extra_minute\"] = df_plans[\"usd_per_minute\"] * df_plans[\"minutes_included\"]\n",
    "\n",
    "# Costo por MB adicional\n",
    "df_plans[\"cost_per_extra_mb\"] = df_plans[\"usd_per_gb\"] * df_plans[\"mb_per_month_included\"]\n",
    "\n",
    "print(df_plans)\n"
   ]
  },
  {
   "cell_type": "markdown",
   "metadata": {
    "id": "1n2X6WXf0q04"
   },
   "source": [
    "## Usuarios/as"
   ]
  },
  {
   "cell_type": "code",
   "execution_count": 9,
   "metadata": {
    "id": "2NgjWFqx0q05"
   },
   "outputs": [
    {
     "name": "stdout",
     "output_type": "stream",
     "text": [
      "<class 'pandas.core.frame.DataFrame'>\n",
      "RangeIndex: 500 entries, 0 to 499\n",
      "Data columns (total 8 columns):\n",
      " #   Column      Non-Null Count  Dtype \n",
      "---  ------      --------------  ----- \n",
      " 0   user_id     500 non-null    int64 \n",
      " 1   first_name  500 non-null    object\n",
      " 2   last_name   500 non-null    object\n",
      " 3   age         500 non-null    int64 \n",
      " 4   city        500 non-null    object\n",
      " 5   reg_date    500 non-null    object\n",
      " 6   plan        500 non-null    object\n",
      " 7   churn_date  34 non-null     object\n",
      "dtypes: int64(2), object(6)\n",
      "memory usage: 31.4+ KB\n"
     ]
    }
   ],
   "source": [
    "# Imprime la información general/resumida sobre el DataFrame de usuarios\n",
    "df_user.info()\n"
   ]
  },
  {
   "cell_type": "code",
   "execution_count": 10,
   "metadata": {
    "id": "1IN1L9uh0q05"
   },
   "outputs": [
    {
     "data": {
      "text/html": [
       "<div>\n",
       "<style scoped>\n",
       "    .dataframe tbody tr th:only-of-type {\n",
       "        vertical-align: middle;\n",
       "    }\n",
       "\n",
       "    .dataframe tbody tr th {\n",
       "        vertical-align: top;\n",
       "    }\n",
       "\n",
       "    .dataframe thead th {\n",
       "        text-align: right;\n",
       "    }\n",
       "</style>\n",
       "<table border=\"1\" class=\"dataframe\">\n",
       "  <thead>\n",
       "    <tr style=\"text-align: right;\">\n",
       "      <th></th>\n",
       "      <th>user_id</th>\n",
       "      <th>first_name</th>\n",
       "      <th>last_name</th>\n",
       "      <th>age</th>\n",
       "      <th>city</th>\n",
       "      <th>reg_date</th>\n",
       "      <th>plan</th>\n",
       "      <th>churn_date</th>\n",
       "    </tr>\n",
       "  </thead>\n",
       "  <tbody>\n",
       "    <tr>\n",
       "      <th>462</th>\n",
       "      <td>1462</td>\n",
       "      <td>Lesley</td>\n",
       "      <td>Workman</td>\n",
       "      <td>20</td>\n",
       "      <td>Las Vegas-Henderson-Paradise, NV MSA</td>\n",
       "      <td>2018-09-05</td>\n",
       "      <td>ultimate</td>\n",
       "      <td>NaN</td>\n",
       "    </tr>\n",
       "    <tr>\n",
       "      <th>45</th>\n",
       "      <td>1045</td>\n",
       "      <td>Barney</td>\n",
       "      <td>Ortega</td>\n",
       "      <td>20</td>\n",
       "      <td>New York-Newark-Jersey City, NY-NJ-PA MSA</td>\n",
       "      <td>2018-10-15</td>\n",
       "      <td>surf</td>\n",
       "      <td>NaN</td>\n",
       "    </tr>\n",
       "    <tr>\n",
       "      <th>373</th>\n",
       "      <td>1373</td>\n",
       "      <td>Lindsey</td>\n",
       "      <td>Dickerson</td>\n",
       "      <td>21</td>\n",
       "      <td>Minneapolis-St. Paul-Bloomington, MN-WI MSA</td>\n",
       "      <td>2018-08-30</td>\n",
       "      <td>ultimate</td>\n",
       "      <td>NaN</td>\n",
       "    </tr>\n",
       "    <tr>\n",
       "      <th>393</th>\n",
       "      <td>1393</td>\n",
       "      <td>Wilfredo</td>\n",
       "      <td>Rosa</td>\n",
       "      <td>44</td>\n",
       "      <td>Knoxville, TN MSA</td>\n",
       "      <td>2018-10-29</td>\n",
       "      <td>surf</td>\n",
       "      <td>NaN</td>\n",
       "    </tr>\n",
       "    <tr>\n",
       "      <th>95</th>\n",
       "      <td>1095</td>\n",
       "      <td>Lilliam</td>\n",
       "      <td>Alvarado</td>\n",
       "      <td>55</td>\n",
       "      <td>Louisville/Jefferson County, KY-IN MSA</td>\n",
       "      <td>2018-04-21</td>\n",
       "      <td>surf</td>\n",
       "      <td>NaN</td>\n",
       "    </tr>\n",
       "    <tr>\n",
       "      <th>152</th>\n",
       "      <td>1152</td>\n",
       "      <td>Merrill</td>\n",
       "      <td>Hogan</td>\n",
       "      <td>35</td>\n",
       "      <td>Orlando-Kissimmee-Sanford, FL MSA</td>\n",
       "      <td>2018-11-01</td>\n",
       "      <td>surf</td>\n",
       "      <td>NaN</td>\n",
       "    </tr>\n",
       "    <tr>\n",
       "      <th>275</th>\n",
       "      <td>1275</td>\n",
       "      <td>Elvie</td>\n",
       "      <td>Velazquez</td>\n",
       "      <td>33</td>\n",
       "      <td>New York-Newark-Jersey City, NY-NJ-PA MSA</td>\n",
       "      <td>2018-11-29</td>\n",
       "      <td>ultimate</td>\n",
       "      <td>NaN</td>\n",
       "    </tr>\n",
       "    <tr>\n",
       "      <th>392</th>\n",
       "      <td>1392</td>\n",
       "      <td>Gale</td>\n",
       "      <td>Mcfadden</td>\n",
       "      <td>34</td>\n",
       "      <td>Seattle-Tacoma-Bellevue, WA MSA</td>\n",
       "      <td>2018-05-24</td>\n",
       "      <td>surf</td>\n",
       "      <td>NaN</td>\n",
       "    </tr>\n",
       "    <tr>\n",
       "      <th>354</th>\n",
       "      <td>1354</td>\n",
       "      <td>Leonel</td>\n",
       "      <td>Dyer</td>\n",
       "      <td>41</td>\n",
       "      <td>New York-Newark-Jersey City, NY-NJ-PA MSA</td>\n",
       "      <td>2018-08-24</td>\n",
       "      <td>ultimate</td>\n",
       "      <td>NaN</td>\n",
       "    </tr>\n",
       "    <tr>\n",
       "      <th>101</th>\n",
       "      <td>1101</td>\n",
       "      <td>Sage</td>\n",
       "      <td>Conley</td>\n",
       "      <td>27</td>\n",
       "      <td>Washington-Arlington-Alexandria, DC-VA-MD-WV MSA</td>\n",
       "      <td>2018-02-08</td>\n",
       "      <td>surf</td>\n",
       "      <td>NaN</td>\n",
       "    </tr>\n",
       "  </tbody>\n",
       "</table>\n",
       "</div>"
      ],
      "text/plain": [
       "     user_id first_name  last_name  age  \\\n",
       "462     1462     Lesley    Workman   20   \n",
       "45      1045     Barney     Ortega   20   \n",
       "373     1373    Lindsey  Dickerson   21   \n",
       "393     1393   Wilfredo       Rosa   44   \n",
       "95      1095    Lilliam   Alvarado   55   \n",
       "152     1152    Merrill      Hogan   35   \n",
       "275     1275      Elvie  Velazquez   33   \n",
       "392     1392       Gale   Mcfadden   34   \n",
       "354     1354     Leonel       Dyer   41   \n",
       "101     1101       Sage     Conley   27   \n",
       "\n",
       "                                                 city    reg_date      plan  \\\n",
       "462              Las Vegas-Henderson-Paradise, NV MSA  2018-09-05  ultimate   \n",
       "45          New York-Newark-Jersey City, NY-NJ-PA MSA  2018-10-15      surf   \n",
       "373       Minneapolis-St. Paul-Bloomington, MN-WI MSA  2018-08-30  ultimate   \n",
       "393                                 Knoxville, TN MSA  2018-10-29      surf   \n",
       "95             Louisville/Jefferson County, KY-IN MSA  2018-04-21      surf   \n",
       "152                 Orlando-Kissimmee-Sanford, FL MSA  2018-11-01      surf   \n",
       "275         New York-Newark-Jersey City, NY-NJ-PA MSA  2018-11-29  ultimate   \n",
       "392                   Seattle-Tacoma-Bellevue, WA MSA  2018-05-24      surf   \n",
       "354         New York-Newark-Jersey City, NY-NJ-PA MSA  2018-08-24  ultimate   \n",
       "101  Washington-Arlington-Alexandria, DC-VA-MD-WV MSA  2018-02-08      surf   \n",
       "\n",
       "    churn_date  \n",
       "462        NaN  \n",
       "45         NaN  \n",
       "373        NaN  \n",
       "393        NaN  \n",
       "95         NaN  \n",
       "152        NaN  \n",
       "275        NaN  \n",
       "392        NaN  \n",
       "354        NaN  \n",
       "101        NaN  "
      ]
     },
     "execution_count": 10,
     "metadata": {},
     "output_type": "execute_result"
    }
   ],
   "source": [
    "# Imprime una muestra de datos para usuarios\n",
    "df_user.sample(10)\n"
   ]
  },
  {
   "cell_type": "markdown",
   "metadata": {
    "id": "dCZoUq4f0q06"
   },
   "source": [
    "Descripción de hallazgos:\n",
    "\n",
    "Los datos contiene mayúsculas y minúsculas, se van a cambiar a minúsculas las columnas \"first_name\" y \"last_name\" con .str.lower().\n",
    "\n",
    "La columna \"reg_date\" y \"churn_date\" son de tipo objects, se van a modificar a tipo datetime.\n",
    "\n",
    "Contiene muchos datos ausentes pero es normal, ya que nos comentaron que mientas los usuarios estan activos se coloca NaN.\n",
    "\n",
    "Se busca que no existan duplicados.\n"
   ]
  },
  {
   "cell_type": "markdown",
   "metadata": {
    "id": "BX5FQh_I0q06"
   },
   "source": [
    "### Corregir los datos"
   ]
  },
  {
   "cell_type": "code",
   "execution_count": 11,
   "metadata": {
    "id": "yUqX-K0C0q07"
   },
   "outputs": [
    {
     "name": "stdout",
     "output_type": "stream",
     "text": [
      "<class 'pandas.core.frame.DataFrame'>\n",
      "Int64Index: 500 entries, 0 to 499\n",
      "Data columns (total 8 columns):\n",
      " #   Column      Non-Null Count  Dtype         \n",
      "---  ------      --------------  -----         \n",
      " 0   user_id     500 non-null    int64         \n",
      " 1   first_name  500 non-null    object        \n",
      " 2   last_name   500 non-null    object        \n",
      " 3   age         500 non-null    int64         \n",
      " 4   city        500 non-null    object        \n",
      " 5   reg_date    500 non-null    datetime64[ns]\n",
      " 6   plan        500 non-null    object        \n",
      " 7   churn_date  34 non-null     datetime64[ns]\n",
      "dtypes: datetime64[ns](2), int64(2), object(4)\n",
      "memory usage: 35.2+ KB\n",
      "None\n",
      "   user_id first_name  last_name  age                                   city  \\\n",
      "0     1000   anamaria      bauer   45  Atlanta-Sandy Springs-Roswell, GA MSA   \n",
      "1     1001     mickey  wilkerson   28        Seattle-Tacoma-Bellevue, WA MSA   \n",
      "2     1002     carlee    hoffman   36   Las Vegas-Henderson-Paradise, NV MSA   \n",
      "3     1003   reynaldo    jenkins   52                          Tulsa, OK MSA   \n",
      "4     1004    leonila   thompson   40        Seattle-Tacoma-Bellevue, WA MSA   \n",
      "\n",
      "    reg_date      plan churn_date  \n",
      "0 2018-12-24  ultimate        NaT  \n",
      "1 2018-08-13      surf        NaT  \n",
      "2 2018-10-21      surf        NaT  \n",
      "3 2018-01-28      surf        NaT  \n",
      "4 2018-05-23      surf        NaT  \n"
     ]
    }
   ],
   "source": [
    "#Cambiar nombre y apellido a minusculas\n",
    "df_user[\"first_name\"] = df_user[\"first_name\"].str.lower()\n",
    "df_user[\"last_name\"] = df_user[\"last_name\"].str.lower()\n",
    "\n",
    "#Cambiar fecha de formato object a datetime\n",
    "df_user[\"reg_date\"] = pd.to_datetime(df_user[\"reg_date\"])\n",
    "df_user[\"churn_date\"] = pd.to_datetime(df_user[\"churn_date\"])\n",
    "\n",
    "#eliminamos duplicados\n",
    "df_user.drop_duplicates(inplace = True)\n",
    "\n",
    "print(df_user.info())\n",
    "print(df_user.head())"
   ]
  },
  {
   "cell_type": "markdown",
   "metadata": {
    "id": "ycwuARJp0q07"
   },
   "source": [
    "### Enriquecer los datos"
   ]
  },
  {
   "cell_type": "markdown",
   "metadata": {
    "id": "96NIh4CJ0q08"
   },
   "source": [
    "\n",
    "\n",
    "Calcular la permanecia del usuario.\n",
    "\n",
    "Añadir el mes y año de registro."
   ]
  },
  {
   "cell_type": "code",
   "execution_count": 12,
   "metadata": {
    "id": "iq0AaBS90q08"
   },
   "outputs": [
    {
     "name": "stdout",
     "output_type": "stream",
     "text": [
      "<class 'pandas.core.frame.DataFrame'>\n",
      "Int64Index: 500 entries, 0 to 499\n",
      "Data columns (total 11 columns):\n",
      " #   Column                Non-Null Count  Dtype         \n",
      "---  ------                --------------  -----         \n",
      " 0   user_id               500 non-null    int64         \n",
      " 1   first_name            500 non-null    object        \n",
      " 2   last_name             500 non-null    object        \n",
      " 3   age                   500 non-null    int64         \n",
      " 4   city                  500 non-null    object        \n",
      " 5   reg_date              500 non-null    datetime64[ns]\n",
      " 6   plan                  500 non-null    object        \n",
      " 7   churn_date            34 non-null     datetime64[ns]\n",
      " 8   permanencia_por_días  34 non-null     float64       \n",
      " 9   reg_month             500 non-null    int64         \n",
      " 10  reg_year              500 non-null    int64         \n",
      "dtypes: datetime64[ns](2), float64(1), int64(4), object(4)\n",
      "memory usage: 46.9+ KB\n",
      "None\n",
      "   user_id first_name  last_name  age                                   city  \\\n",
      "0     1000   anamaria      bauer   45  Atlanta-Sandy Springs-Roswell, GA MSA   \n",
      "1     1001     mickey  wilkerson   28        Seattle-Tacoma-Bellevue, WA MSA   \n",
      "2     1002     carlee    hoffman   36   Las Vegas-Henderson-Paradise, NV MSA   \n",
      "3     1003   reynaldo    jenkins   52                          Tulsa, OK MSA   \n",
      "4     1004    leonila   thompson   40        Seattle-Tacoma-Bellevue, WA MSA   \n",
      "\n",
      "    reg_date      plan churn_date  permanencia_por_días  reg_month  reg_year  \n",
      "0 2018-12-24  ultimate        NaT                   NaN         12      2018  \n",
      "1 2018-08-13      surf        NaT                   NaN          8      2018  \n",
      "2 2018-10-21      surf        NaT                   NaN         10      2018  \n",
      "3 2018-01-28      surf        NaT                   NaN          1      2018  \n",
      "4 2018-05-23      surf        NaT                   NaN          5      2018  \n"
     ]
    }
   ],
   "source": [
    "\n",
    "#Obtenemos la duración por día del usuario\n",
    "df_user[\"permanencia_por_días\"] = (df_user[\"churn_date\"] - df_user[\"reg_date\"]).dt.days\n",
    "\n",
    "\n",
    "#Se añade el mes y el año de registro\n",
    "df_user[\"reg_month\"] = df_user[\"reg_date\"].dt.month\n",
    "df_user[\"reg_year\"] = df_user[\"reg_date\"].dt.year\n",
    "\n",
    "print(df_user.info())\n",
    "print(df_user.head())"
   ]
  },
  {
   "cell_type": "markdown",
   "metadata": {
    "id": "o7MeKCid0q08"
   },
   "source": [
    "## Llamadas"
   ]
  },
  {
   "cell_type": "code",
   "execution_count": 13,
   "metadata": {
    "id": "6dDlnoDm0q08"
   },
   "outputs": [
    {
     "name": "stdout",
     "output_type": "stream",
     "text": [
      "<class 'pandas.core.frame.DataFrame'>\n",
      "RangeIndex: 137735 entries, 0 to 137734\n",
      "Data columns (total 4 columns):\n",
      " #   Column     Non-Null Count   Dtype  \n",
      "---  ------     --------------   -----  \n",
      " 0   id         137735 non-null  object \n",
      " 1   user_id    137735 non-null  int64  \n",
      " 2   call_date  137735 non-null  object \n",
      " 3   duration   137735 non-null  float64\n",
      "dtypes: float64(1), int64(1), object(2)\n",
      "memory usage: 4.2+ MB\n"
     ]
    }
   ],
   "source": [
    "# Imprime la información general/resumida sobre el DataFrame de las llamadas\n",
    "df_calls.info()\n"
   ]
  },
  {
   "cell_type": "code",
   "execution_count": 14,
   "metadata": {
    "id": "kuh1vlNB0q09"
   },
   "outputs": [
    {
     "data": {
      "text/html": [
       "<div>\n",
       "<style scoped>\n",
       "    .dataframe tbody tr th:only-of-type {\n",
       "        vertical-align: middle;\n",
       "    }\n",
       "\n",
       "    .dataframe tbody tr th {\n",
       "        vertical-align: top;\n",
       "    }\n",
       "\n",
       "    .dataframe thead th {\n",
       "        text-align: right;\n",
       "    }\n",
       "</style>\n",
       "<table border=\"1\" class=\"dataframe\">\n",
       "  <thead>\n",
       "    <tr style=\"text-align: right;\">\n",
       "      <th></th>\n",
       "      <th>id</th>\n",
       "      <th>user_id</th>\n",
       "      <th>call_date</th>\n",
       "      <th>duration</th>\n",
       "    </tr>\n",
       "  </thead>\n",
       "  <tbody>\n",
       "    <tr>\n",
       "      <th>135629</th>\n",
       "      <td>1491_591</td>\n",
       "      <td>1491</td>\n",
       "      <td>2018-09-09</td>\n",
       "      <td>0.00</td>\n",
       "    </tr>\n",
       "    <tr>\n",
       "      <th>126716</th>\n",
       "      <td>1451_116</td>\n",
       "      <td>1451</td>\n",
       "      <td>2018-08-29</td>\n",
       "      <td>8.32</td>\n",
       "    </tr>\n",
       "    <tr>\n",
       "      <th>120659</th>\n",
       "      <td>1421_1</td>\n",
       "      <td>1421</td>\n",
       "      <td>2018-12-24</td>\n",
       "      <td>5.85</td>\n",
       "    </tr>\n",
       "    <tr>\n",
       "      <th>115196</th>\n",
       "      <td>1403_270</td>\n",
       "      <td>1403</td>\n",
       "      <td>2018-05-05</td>\n",
       "      <td>0.00</td>\n",
       "    </tr>\n",
       "    <tr>\n",
       "      <th>133082</th>\n",
       "      <td>1480_546</td>\n",
       "      <td>1480</td>\n",
       "      <td>2018-12-19</td>\n",
       "      <td>0.00</td>\n",
       "    </tr>\n",
       "    <tr>\n",
       "      <th>11886</th>\n",
       "      <td>1052_105</td>\n",
       "      <td>1052</td>\n",
       "      <td>2018-12-19</td>\n",
       "      <td>8.10</td>\n",
       "    </tr>\n",
       "    <tr>\n",
       "      <th>56961</th>\n",
       "      <td>1203_352</td>\n",
       "      <td>1203</td>\n",
       "      <td>2018-10-06</td>\n",
       "      <td>0.00</td>\n",
       "    </tr>\n",
       "    <tr>\n",
       "      <th>105116</th>\n",
       "      <td>1370_264</td>\n",
       "      <td>1370</td>\n",
       "      <td>2018-10-19</td>\n",
       "      <td>12.58</td>\n",
       "    </tr>\n",
       "    <tr>\n",
       "      <th>57420</th>\n",
       "      <td>1206_167</td>\n",
       "      <td>1206</td>\n",
       "      <td>2018-12-07</td>\n",
       "      <td>8.18</td>\n",
       "    </tr>\n",
       "    <tr>\n",
       "      <th>115970</th>\n",
       "      <td>1406_196</td>\n",
       "      <td>1406</td>\n",
       "      <td>2018-06-19</td>\n",
       "      <td>3.99</td>\n",
       "    </tr>\n",
       "  </tbody>\n",
       "</table>\n",
       "</div>"
      ],
      "text/plain": [
       "              id  user_id   call_date  duration\n",
       "135629  1491_591     1491  2018-09-09      0.00\n",
       "126716  1451_116     1451  2018-08-29      8.32\n",
       "120659    1421_1     1421  2018-12-24      5.85\n",
       "115196  1403_270     1403  2018-05-05      0.00\n",
       "133082  1480_546     1480  2018-12-19      0.00\n",
       "11886   1052_105     1052  2018-12-19      8.10\n",
       "56961   1203_352     1203  2018-10-06      0.00\n",
       "105116  1370_264     1370  2018-10-19     12.58\n",
       "57420   1206_167     1206  2018-12-07      8.18\n",
       "115970  1406_196     1406  2018-06-19      3.99"
      ]
     },
     "execution_count": 14,
     "metadata": {},
     "output_type": "execute_result"
    }
   ],
   "source": [
    "# Imprime una muestra de datos para las llamadas\n",
    "df_calls.sample(10)\n"
   ]
  },
  {
   "cell_type": "markdown",
   "metadata": {
    "id": "DOAxYJSx0q09"
   },
   "source": [
    "Descripción de hallazgos:\n",
    "\n",
    "La columna \"call_date\" es tipo boject y debe ser datetime\n",
    "Buscar datos ausentes\n",
    "En la columna \"duration\" hay llamadas en 0.00 , contermplar que las llamadas sean > 0"
   ]
  },
  {
   "cell_type": "markdown",
   "metadata": {
    "id": "S7hzxmbX0q0-"
   },
   "source": [
    "### Corregir los datos"
   ]
  },
  {
   "cell_type": "code",
   "execution_count": 15,
   "metadata": {
    "id": "S2r8xA4f0q0-"
   },
   "outputs": [
    {
     "name": "stdout",
     "output_type": "stream",
     "text": [
      "<class 'pandas.core.frame.DataFrame'>\n",
      "RangeIndex: 137735 entries, 0 to 137734\n",
      "Data columns (total 4 columns):\n",
      " #   Column     Non-Null Count   Dtype         \n",
      "---  ------     --------------   -----         \n",
      " 0   id         137735 non-null  object        \n",
      " 1   user_id    137735 non-null  int64         \n",
      " 2   call_date  137735 non-null  datetime64[ns]\n",
      " 3   duration   137735 non-null  float64       \n",
      "dtypes: datetime64[ns](1), float64(1), int64(1), object(1)\n",
      "memory usage: 4.2+ MB\n"
     ]
    }
   ],
   "source": [
    "#se cambia de la columna call_date a object a  datetime\n",
    "df_calls[\"call_date\"] = pd.to_datetime(df_calls[\"call_date\"])\n",
    "df_calls.info()"
   ]
  },
  {
   "cell_type": "markdown",
   "metadata": {
    "id": "KrMgTrlG0q0_"
   },
   "source": [
    "### Enriquecer los datos"
   ]
  },
  {
   "cell_type": "markdown",
   "metadata": {
    "id": "a9MbmEvE0q0_"
   },
   "source": [
    "Descripción de hallazgos:\n",
    "\n",
    "Añadir columnas para el día de la semana \"call_week\", el mes \"call_month\", el año \"call_year\".\n",
    "\n",
    "tambien se crea la columna \"call_positive\" si la llamada tuvo una duración mayor a 0.00"
   ]
  },
  {
   "cell_type": "code",
   "execution_count": 16,
   "metadata": {
    "id": "iZ1avpA_0q0_"
   },
   "outputs": [
    {
     "name": "stdout",
     "output_type": "stream",
     "text": [
      "<class 'pandas.core.frame.DataFrame'>\n",
      "RangeIndex: 137735 entries, 0 to 137734\n",
      "Data columns (total 8 columns):\n",
      " #   Column         Non-Null Count   Dtype         \n",
      "---  ------         --------------   -----         \n",
      " 0   id             137735 non-null  object        \n",
      " 1   user_id        137735 non-null  int64         \n",
      " 2   call_date      137735 non-null  datetime64[ns]\n",
      " 3   duration       137735 non-null  float64       \n",
      " 4   call_week      137735 non-null  object        \n",
      " 5   call_month     137735 non-null  int64         \n",
      " 6   call_year      137735 non-null  int64         \n",
      " 7   call_positive  137735 non-null  bool          \n",
      "dtypes: bool(1), datetime64[ns](1), float64(1), int64(3), object(2)\n",
      "memory usage: 7.5+ MB\n",
      "              id  user_id  call_date  duration call_week  call_month  \\\n",
      "4529     1019_38     1019 2018-12-06     18.83  Thursday          12   \n",
      "25304   1097_407     1097 2018-12-01     14.65  Saturday          12   \n",
      "35619   1133_155     1133 2018-12-03      1.55    Monday          12   \n",
      "120880   1422_69     1422 2018-11-26     13.97    Monday          11   \n",
      "44228   1160_244     1160 2018-07-17      3.76   Tuesday           7   \n",
      "\n",
      "        call_year  call_positive  \n",
      "4529         2018           True  \n",
      "25304        2018           True  \n",
      "35619        2018           True  \n",
      "120880       2018           True  \n",
      "44228        2018           True  \n"
     ]
    }
   ],
   "source": [
    "#Se crea \"call_week\" para identificar el día de la semana que realizo la llama\n",
    "df_calls[\"call_week\"] = df_calls[\"call_date\"].dt.day_name()\n",
    "\n",
    "#Se crea \"Call_month\" para saber en que mes realizo la llamada\n",
    "df_calls[\"call_month\"] = df_calls[\"call_date\"].dt.month\n",
    "\n",
    "#Se crea \"call_year\" para saber el año que realizo la llamada\n",
    "df_calls[\"call_year\"] = df_calls[\"call_date\"].dt.year\n",
    "\n",
    "#Se filtra para saber si la llamada es positiva la cual debe ser mayor a 0.00\n",
    "df_calls[\"call_positive\"] = df_calls[\"duration\"] > 0\n",
    "\n",
    "# Verificar la información después de enriquecer los datos\n",
    "df_calls.info()\n",
    "print(df_calls.sample(5))\n"
   ]
  },
  {
   "cell_type": "markdown",
   "metadata": {
    "id": "mOUZSi180q0_"
   },
   "source": [
    "## Mensajes"
   ]
  },
  {
   "cell_type": "code",
   "execution_count": 17,
   "metadata": {
    "id": "R-bYJpdV0q1A"
   },
   "outputs": [
    {
     "name": "stdout",
     "output_type": "stream",
     "text": [
      "<class 'pandas.core.frame.DataFrame'>\n",
      "RangeIndex: 76051 entries, 0 to 76050\n",
      "Data columns (total 3 columns):\n",
      " #   Column        Non-Null Count  Dtype \n",
      "---  ------        --------------  ----- \n",
      " 0   id            76051 non-null  object\n",
      " 1   user_id       76051 non-null  int64 \n",
      " 2   message_date  76051 non-null  object\n",
      "dtypes: int64(1), object(2)\n",
      "memory usage: 1.7+ MB\n"
     ]
    }
   ],
   "source": [
    "# Imprime la información general/resumida sobre el DataFrame de los mensajes\n",
    "df_messages.info()\n"
   ]
  },
  {
   "cell_type": "code",
   "execution_count": 18,
   "metadata": {
    "id": "mCEl2iGE0q1A"
   },
   "outputs": [
    {
     "data": {
      "text/html": [
       "<div>\n",
       "<style scoped>\n",
       "    .dataframe tbody tr th:only-of-type {\n",
       "        vertical-align: middle;\n",
       "    }\n",
       "\n",
       "    .dataframe tbody tr th {\n",
       "        vertical-align: top;\n",
       "    }\n",
       "\n",
       "    .dataframe thead th {\n",
       "        text-align: right;\n",
       "    }\n",
       "</style>\n",
       "<table border=\"1\" class=\"dataframe\">\n",
       "  <thead>\n",
       "    <tr style=\"text-align: right;\">\n",
       "      <th></th>\n",
       "      <th>id</th>\n",
       "      <th>user_id</th>\n",
       "      <th>message_date</th>\n",
       "    </tr>\n",
       "  </thead>\n",
       "  <tbody>\n",
       "    <tr>\n",
       "      <th>23521</th>\n",
       "      <td>1142_265</td>\n",
       "      <td>1142</td>\n",
       "      <td>2018-12-10</td>\n",
       "    </tr>\n",
       "    <tr>\n",
       "      <th>10503</th>\n",
       "      <td>1076_1137</td>\n",
       "      <td>1076</td>\n",
       "      <td>2018-12-13</td>\n",
       "    </tr>\n",
       "    <tr>\n",
       "      <th>74922</th>\n",
       "      <td>1487_63</td>\n",
       "      <td>1487</td>\n",
       "      <td>2018-12-30</td>\n",
       "    </tr>\n",
       "    <tr>\n",
       "      <th>53221</th>\n",
       "      <td>1339_355</td>\n",
       "      <td>1339</td>\n",
       "      <td>2018-10-20</td>\n",
       "    </tr>\n",
       "    <tr>\n",
       "      <th>40279</th>\n",
       "      <td>1259_353</td>\n",
       "      <td>1259</td>\n",
       "      <td>2018-12-28</td>\n",
       "    </tr>\n",
       "    <tr>\n",
       "      <th>35069</th>\n",
       "      <td>1224_5</td>\n",
       "      <td>1224</td>\n",
       "      <td>2018-10-23</td>\n",
       "    </tr>\n",
       "    <tr>\n",
       "      <th>52612</th>\n",
       "      <td>1336_622</td>\n",
       "      <td>1336</td>\n",
       "      <td>2018-09-23</td>\n",
       "    </tr>\n",
       "    <tr>\n",
       "      <th>13384</th>\n",
       "      <td>1088_398</td>\n",
       "      <td>1088</td>\n",
       "      <td>2018-10-23</td>\n",
       "    </tr>\n",
       "    <tr>\n",
       "      <th>25836</th>\n",
       "      <td>1155_214</td>\n",
       "      <td>1155</td>\n",
       "      <td>2018-10-07</td>\n",
       "    </tr>\n",
       "    <tr>\n",
       "      <th>23446</th>\n",
       "      <td>1142_132</td>\n",
       "      <td>1142</td>\n",
       "      <td>2018-09-28</td>\n",
       "    </tr>\n",
       "  </tbody>\n",
       "</table>\n",
       "</div>"
      ],
      "text/plain": [
       "              id  user_id message_date\n",
       "23521   1142_265     1142   2018-12-10\n",
       "10503  1076_1137     1076   2018-12-13\n",
       "74922    1487_63     1487   2018-12-30\n",
       "53221   1339_355     1339   2018-10-20\n",
       "40279   1259_353     1259   2018-12-28\n",
       "35069     1224_5     1224   2018-10-23\n",
       "52612   1336_622     1336   2018-09-23\n",
       "13384   1088_398     1088   2018-10-23\n",
       "25836   1155_214     1155   2018-10-07\n",
       "23446   1142_132     1142   2018-09-28"
      ]
     },
     "execution_count": 18,
     "metadata": {},
     "output_type": "execute_result"
    }
   ],
   "source": [
    "# Imprime una muestra de datos para los mensajes\n",
    "df_messages.sample(10)\n"
   ]
  },
  {
   "cell_type": "markdown",
   "metadata": {
    "id": "04xDj7KH0q1A"
   },
   "source": [
    "Descripción de hallazgos:\n",
    "\n",
    "Se realizó varias veces un muestreo aleatorio  no se encuentran valos nulos ,, no contiene valores ausentes en ninguna columna.\n",
    "\n",
    "Se verificó que no contenga valores nulos ni duplicados.\n",
    "\n",
    "Y se cambia la columna \"message_date\" de tipo object a datetime."
   ]
  },
  {
   "cell_type": "markdown",
   "metadata": {
    "id": "Sprfak900q1B"
   },
   "source": [
    "### Corregir los datos"
   ]
  },
  {
   "cell_type": "markdown",
   "metadata": {
    "id": "eGw7d9j10q1B"
   },
   "source": [
    "\n",
    "se aplicó drop_duplicates para eliminar valores duplicados\n",
    "\n",
    "se cambió \"message_date\" de tipo object a tipo \"datetime\" usando to_datetime"
   ]
  },
  {
   "cell_type": "code",
   "execution_count": 19,
   "metadata": {
    "id": "vsllvkoa0q1B"
   },
   "outputs": [
    {
     "name": "stdout",
     "output_type": "stream",
     "text": [
      "<class 'pandas.core.frame.DataFrame'>\n",
      "Int64Index: 76051 entries, 0 to 76050\n",
      "Data columns (total 3 columns):\n",
      " #   Column        Non-Null Count  Dtype         \n",
      "---  ------        --------------  -----         \n",
      " 0   id            76051 non-null  object        \n",
      " 1   user_id       76051 non-null  int64         \n",
      " 2   message_date  76051 non-null  datetime64[ns]\n",
      "dtypes: datetime64[ns](1), int64(1), object(1)\n",
      "memory usage: 2.3+ MB\n"
     ]
    }
   ],
   "source": [
    "#se buscan duplicados\n",
    "df_messages.drop_duplicates(inplace= True)\n",
    "\n",
    "#se cambia la columna message_date a datetime\n",
    "df_messages[\"message_date\"] = pd.to_datetime(df_messages[\"message_date\"])\n",
    "\n",
    "df_messages.info()"
   ]
  },
  {
   "cell_type": "markdown",
   "metadata": {
    "id": "HvLid7iD0q1B"
   },
   "source": [
    "### Enriquecer los datos"
   ]
  },
  {
   "cell_type": "markdown",
   "metadata": {
    "id": "8nhPFKIe0q1C"
   },
   "source": [
    "\n",
    "se crean 3 columnas para separar los mensajes por semana \"messages_week\", mes \"messagesmonth\" y año \"messages_year\""
   ]
  },
  {
   "cell_type": "code",
   "execution_count": 20,
   "metadata": {
    "id": "zYEXZac10q1C"
   },
   "outputs": [
    {
     "name": "stdout",
     "output_type": "stream",
     "text": [
      "<class 'pandas.core.frame.DataFrame'>\n",
      "Int64Index: 76051 entries, 0 to 76050\n",
      "Data columns (total 6 columns):\n",
      " #   Column          Non-Null Count  Dtype         \n",
      "---  ------          --------------  -----         \n",
      " 0   id              76051 non-null  object        \n",
      " 1   user_id         76051 non-null  int64         \n",
      " 2   message_date    76051 non-null  datetime64[ns]\n",
      " 3   messages_week   76051 non-null  object        \n",
      " 4   messages_month  76051 non-null  int64         \n",
      " 5   messages_year   76051 non-null  int64         \n",
      "dtypes: datetime64[ns](1), int64(3), object(2)\n",
      "memory usage: 4.1+ MB\n",
      "None\n",
      "         id  user_id message_date messages_week  messages_month  messages_year\n",
      "0  1000_125     1000   2018-12-27      Thursday              12           2018\n",
      "1  1000_160     1000   2018-12-31        Monday              12           2018\n",
      "2  1000_223     1000   2018-12-31        Monday              12           2018\n",
      "3  1000_251     1000   2018-12-27      Thursday              12           2018\n",
      "4  1000_255     1000   2018-12-26     Wednesday              12           2018\n"
     ]
    }
   ],
   "source": [
    "#Se crea la columna \"messages_week\" para tener los datos por semana\n",
    "df_messages[\"messages_week\"] = df_messages[\"message_date\"].dt.day_name()\n",
    "\n",
    "#se crea la columna \"messages_month\" para tener los mansajes por mes\n",
    "df_messages[\"messages_month\"] = df_messages[\"message_date\"].dt.month\n",
    "\n",
    "#se crea la columna \"messages_year\" para tener los mensajes por año\n",
    "df_messages[\"messages_year\"] = df_messages[\"message_date\"].dt.year\n",
    "\n",
    "print(df_messages.info())\n",
    "print(df_messages.head())"
   ]
  },
  {
   "cell_type": "markdown",
   "metadata": {
    "id": "bStkaxn40q1C"
   },
   "source": [
    "## Internet"
   ]
  },
  {
   "cell_type": "code",
   "execution_count": 21,
   "metadata": {
    "id": "e-Uz5qyn0q1C"
   },
   "outputs": [
    {
     "name": "stdout",
     "output_type": "stream",
     "text": [
      "<class 'pandas.core.frame.DataFrame'>\n",
      "RangeIndex: 104825 entries, 0 to 104824\n",
      "Data columns (total 4 columns):\n",
      " #   Column        Non-Null Count   Dtype  \n",
      "---  ------        --------------   -----  \n",
      " 0   id            104825 non-null  object \n",
      " 1   user_id       104825 non-null  int64  \n",
      " 2   session_date  104825 non-null  object \n",
      " 3   mb_used       104825 non-null  float64\n",
      "dtypes: float64(1), int64(1), object(2)\n",
      "memory usage: 3.2+ MB\n"
     ]
    }
   ],
   "source": [
    "# Imprime la información general/resumida sobre el DataFrame de internet\n",
    "df_internet.info()\n"
   ]
  },
  {
   "cell_type": "code",
   "execution_count": 22,
   "metadata": {
    "id": "9r3x_XLw0q1C"
   },
   "outputs": [
    {
     "data": {
      "text/html": [
       "<div>\n",
       "<style scoped>\n",
       "    .dataframe tbody tr th:only-of-type {\n",
       "        vertical-align: middle;\n",
       "    }\n",
       "\n",
       "    .dataframe tbody tr th {\n",
       "        vertical-align: top;\n",
       "    }\n",
       "\n",
       "    .dataframe thead th {\n",
       "        text-align: right;\n",
       "    }\n",
       "</style>\n",
       "<table border=\"1\" class=\"dataframe\">\n",
       "  <thead>\n",
       "    <tr style=\"text-align: right;\">\n",
       "      <th></th>\n",
       "      <th>id</th>\n",
       "      <th>user_id</th>\n",
       "      <th>session_date</th>\n",
       "      <th>mb_used</th>\n",
       "    </tr>\n",
       "  </thead>\n",
       "  <tbody>\n",
       "    <tr>\n",
       "      <th>51067</th>\n",
       "      <td>1230_35</td>\n",
       "      <td>1230</td>\n",
       "      <td>2018-12-13</td>\n",
       "      <td>544.80</td>\n",
       "    </tr>\n",
       "    <tr>\n",
       "      <th>88948</th>\n",
       "      <td>1409_321</td>\n",
       "      <td>1409</td>\n",
       "      <td>2018-12-17</td>\n",
       "      <td>0.00</td>\n",
       "    </tr>\n",
       "    <tr>\n",
       "      <th>1100</th>\n",
       "      <td>1007_84</td>\n",
       "      <td>1007</td>\n",
       "      <td>2018-10-10</td>\n",
       "      <td>665.36</td>\n",
       "    </tr>\n",
       "    <tr>\n",
       "      <th>101324</th>\n",
       "      <td>1483_118</td>\n",
       "      <td>1483</td>\n",
       "      <td>2018-06-13</td>\n",
       "      <td>134.79</td>\n",
       "    </tr>\n",
       "    <tr>\n",
       "      <th>3443</th>\n",
       "      <td>1019_68</td>\n",
       "      <td>1019</td>\n",
       "      <td>2018-11-26</td>\n",
       "      <td>172.87</td>\n",
       "    </tr>\n",
       "    <tr>\n",
       "      <th>1029</th>\n",
       "      <td>1007_13</td>\n",
       "      <td>1007</td>\n",
       "      <td>2018-11-25</td>\n",
       "      <td>0.00</td>\n",
       "    </tr>\n",
       "    <tr>\n",
       "      <th>83304</th>\n",
       "      <td>1389_201</td>\n",
       "      <td>1389</td>\n",
       "      <td>2018-11-10</td>\n",
       "      <td>0.00</td>\n",
       "    </tr>\n",
       "    <tr>\n",
       "      <th>103874</th>\n",
       "      <td>1496_182</td>\n",
       "      <td>1496</td>\n",
       "      <td>2018-09-06</td>\n",
       "      <td>704.77</td>\n",
       "    </tr>\n",
       "    <tr>\n",
       "      <th>37465</th>\n",
       "      <td>1170_48</td>\n",
       "      <td>1170</td>\n",
       "      <td>2018-10-22</td>\n",
       "      <td>536.83</td>\n",
       "    </tr>\n",
       "    <tr>\n",
       "      <th>11374</th>\n",
       "      <td>1056_41</td>\n",
       "      <td>1056</td>\n",
       "      <td>2018-09-24</td>\n",
       "      <td>567.40</td>\n",
       "    </tr>\n",
       "  </tbody>\n",
       "</table>\n",
       "</div>"
      ],
      "text/plain": [
       "              id  user_id session_date  mb_used\n",
       "51067    1230_35     1230   2018-12-13   544.80\n",
       "88948   1409_321     1409   2018-12-17     0.00\n",
       "1100     1007_84     1007   2018-10-10   665.36\n",
       "101324  1483_118     1483   2018-06-13   134.79\n",
       "3443     1019_68     1019   2018-11-26   172.87\n",
       "1029     1007_13     1007   2018-11-25     0.00\n",
       "83304   1389_201     1389   2018-11-10     0.00\n",
       "103874  1496_182     1496   2018-09-06   704.77\n",
       "37465    1170_48     1170   2018-10-22   536.83\n",
       "11374    1056_41     1056   2018-09-24   567.40"
      ]
     },
     "execution_count": 22,
     "metadata": {},
     "output_type": "execute_result"
    }
   ],
   "source": [
    "# Imprime una muestra de datos para el tráfico de internet\n",
    "df_internet.sample(10)\n"
   ]
  },
  {
   "cell_type": "markdown",
   "metadata": {
    "id": "EzOG5ik30q1D"
   },
   "source": [
    "Descripción de hallazgos:\n",
    "\n",
    "Se cambió la columna \"session_date\" a tipo datetime.\n",
    "No hay datos ausentes.\n",
    "algunas filas contienen usos de mb en 0.00\n"
   ]
  },
  {
   "cell_type": "markdown",
   "metadata": {
    "id": "yA0tkPFg0q1D"
   },
   "source": [
    "### Corregir los datos"
   ]
  },
  {
   "cell_type": "markdown",
   "metadata": {
    "id": "zlZMuIEK0q1D"
   },
   "source": [
    "cambiar la columna \"session_date\" a datetime usando to_datetime\n",
    "\n",
    "eliminar duplicados"
   ]
  },
  {
   "cell_type": "code",
   "execution_count": 23,
   "metadata": {
    "id": "zVeanzdd0q1E"
   },
   "outputs": [
    {
     "name": "stdout",
     "output_type": "stream",
     "text": [
      "<class 'pandas.core.frame.DataFrame'>\n",
      "Int64Index: 104825 entries, 0 to 104824\n",
      "Data columns (total 4 columns):\n",
      " #   Column        Non-Null Count   Dtype         \n",
      "---  ------        --------------   -----         \n",
      " 0   id            104825 non-null  object        \n",
      " 1   user_id       104825 non-null  int64         \n",
      " 2   session_date  104825 non-null  datetime64[ns]\n",
      " 3   mb_used       104825 non-null  float64       \n",
      "dtypes: datetime64[ns](1), float64(1), int64(1), object(1)\n",
      "memory usage: 4.0+ MB\n",
      "None\n",
      "         id  user_id session_date  mb_used\n",
      "0   1000_13     1000   2018-12-29    89.86\n",
      "1  1000_204     1000   2018-12-31     0.00\n",
      "2  1000_379     1000   2018-12-28   660.40\n",
      "3  1000_413     1000   2018-12-26   270.99\n",
      "4  1000_442     1000   2018-12-27   880.22\n"
     ]
    }
   ],
   "source": [
    "df_internet[\"session_date\"] = pd.to_datetime(df_internet[\"session_date\"])\n",
    "df_internet.drop_duplicates(inplace= True)\n",
    "\n",
    "print(df_internet.info())\n",
    "print(df_internet.head())"
   ]
  },
  {
   "cell_type": "markdown",
   "metadata": {
    "id": "e8_mLF4a0q1E"
   },
   "source": [
    "### Enriquecer los datos"
   ]
  },
  {
   "cell_type": "markdown",
   "metadata": {
    "id": "xhNdn2tE0q1E"
   },
   "source": [
    "\n",
    "\n",
    "Se parar el usa de mb por semana \"internet_week\", mes\"internet_month\" y año \"internet_year\".\n",
    "\n",
    "Se añade una columna que contenga solo el uso positivo de mb \"mb_positive\""
   ]
  },
  {
   "cell_type": "code",
   "execution_count": 24,
   "metadata": {
    "id": "ESiYPIEK0q1E"
   },
   "outputs": [
    {
     "name": "stdout",
     "output_type": "stream",
     "text": [
      "<class 'pandas.core.frame.DataFrame'>\n",
      "Int64Index: 104825 entries, 0 to 104824\n",
      "Data columns (total 8 columns):\n",
      " #   Column          Non-Null Count   Dtype         \n",
      "---  ------          --------------   -----         \n",
      " 0   id              104825 non-null  object        \n",
      " 1   user_id         104825 non-null  int64         \n",
      " 2   session_date    104825 non-null  datetime64[ns]\n",
      " 3   mb_used         104825 non-null  float64       \n",
      " 4   internet_week   104825 non-null  object        \n",
      " 5   internet_month  104825 non-null  int64         \n",
      " 6   internet_year   104825 non-null  int64         \n",
      " 7   mb_positive     104825 non-null  bool          \n",
      "dtypes: bool(1), datetime64[ns](1), float64(1), int64(3), object(2)\n",
      "memory usage: 6.5+ MB\n",
      "None\n",
      "         id  user_id session_date  mb_used internet_week  internet_month  \\\n",
      "0   1000_13     1000   2018-12-29    89.86      Saturday              12   \n",
      "1  1000_204     1000   2018-12-31     0.00        Monday              12   \n",
      "2  1000_379     1000   2018-12-28   660.40        Friday              12   \n",
      "3  1000_413     1000   2018-12-26   270.99     Wednesday              12   \n",
      "4  1000_442     1000   2018-12-27   880.22      Thursday              12   \n",
      "\n",
      "   internet_year  mb_positive  \n",
      "0           2018         True  \n",
      "1           2018        False  \n",
      "2           2018         True  \n",
      "3           2018         True  \n",
      "4           2018         True  \n"
     ]
    }
   ],
   "source": [
    "# Se añade la columna \"internet_week\" para saber el consumo de mb por semana\n",
    "df_internet[\"internet_week\"] = df_internet[\"session_date\"].dt.day_name()\n",
    "\n",
    "#se añade la columna \"internet_month\" para saber el cnsumo de mb por mes\n",
    "df_internet[\"internet_month\"] = df_internet[\"session_date\"].dt.month\n",
    "\n",
    "#Se añade la columna \"internet_year\" para saber el consumo de mb por año\n",
    "df_internet[\"internet_year\"] = df_internet[\"session_date\"].dt.year\n",
    "\n",
    "#se añade columna \"mb_positive\" que indica que tuvo un consumo > 0.00\n",
    "df_internet[\"mb_positive\"] = df_internet[\"mb_used\"] > 0\n",
    "\n",
    "print(df_internet.info())\n",
    "print(df_internet.head())"
   ]
  },
  {
   "cell_type": "markdown",
   "metadata": {
    "id": "3UA2cqIW0q1E"
   },
   "source": [
    "## Estudiar las condiciones de las tarifas"
   ]
  },
  {
   "cell_type": "code",
   "execution_count": 25,
   "metadata": {
    "id": "i409op8p0q1F"
   },
   "outputs": [
    {
     "data": {
      "text/html": [
       "<div>\n",
       "<style scoped>\n",
       "    .dataframe tbody tr th:only-of-type {\n",
       "        vertical-align: middle;\n",
       "    }\n",
       "\n",
       "    .dataframe tbody tr th {\n",
       "        vertical-align: top;\n",
       "    }\n",
       "\n",
       "    .dataframe thead th {\n",
       "        text-align: right;\n",
       "    }\n",
       "</style>\n",
       "<table border=\"1\" class=\"dataframe\">\n",
       "  <thead>\n",
       "    <tr style=\"text-align: right;\">\n",
       "      <th></th>\n",
       "      <th>messages_included</th>\n",
       "      <th>mb_per_month_included</th>\n",
       "      <th>minutes_included</th>\n",
       "      <th>usd_monthly_pay</th>\n",
       "      <th>usd_per_gb</th>\n",
       "      <th>usd_per_message</th>\n",
       "      <th>usd_per_minute</th>\n",
       "      <th>plan_name</th>\n",
       "      <th>cost_per_extra_message</th>\n",
       "      <th>cost_per_extra_minute</th>\n",
       "      <th>cost_per_extra_mb</th>\n",
       "    </tr>\n",
       "  </thead>\n",
       "  <tbody>\n",
       "    <tr>\n",
       "      <th>0</th>\n",
       "      <td>50</td>\n",
       "      <td>15360</td>\n",
       "      <td>500</td>\n",
       "      <td>20</td>\n",
       "      <td>10</td>\n",
       "      <td>0.03</td>\n",
       "      <td>0.03</td>\n",
       "      <td>surf</td>\n",
       "      <td>1.5</td>\n",
       "      <td>15.0</td>\n",
       "      <td>153600</td>\n",
       "    </tr>\n",
       "    <tr>\n",
       "      <th>1</th>\n",
       "      <td>1000</td>\n",
       "      <td>30720</td>\n",
       "      <td>3000</td>\n",
       "      <td>70</td>\n",
       "      <td>7</td>\n",
       "      <td>0.01</td>\n",
       "      <td>0.01</td>\n",
       "      <td>ultimate</td>\n",
       "      <td>10.0</td>\n",
       "      <td>30.0</td>\n",
       "      <td>215040</td>\n",
       "    </tr>\n",
       "  </tbody>\n",
       "</table>\n",
       "</div>"
      ],
      "text/plain": [
       "   messages_included  mb_per_month_included  minutes_included  \\\n",
       "0                 50                  15360               500   \n",
       "1               1000                  30720              3000   \n",
       "\n",
       "   usd_monthly_pay  usd_per_gb  usd_per_message  usd_per_minute plan_name  \\\n",
       "0               20          10             0.03            0.03      surf   \n",
       "1               70           7             0.01            0.01  ultimate   \n",
       "\n",
       "   cost_per_extra_message  cost_per_extra_minute  cost_per_extra_mb  \n",
       "0                     1.5                   15.0             153600  \n",
       "1                    10.0                   30.0             215040  "
      ]
     },
     "execution_count": 25,
     "metadata": {},
     "output_type": "execute_result"
    }
   ],
   "source": [
    "# Imprime las condiciones de la tarifa y asegúrate de que te quedan claras\n",
    "df_plans.head()\n"
   ]
  },
  {
   "cell_type": "markdown",
   "metadata": {
    "id": "hMR1tP5d0q1F"
   },
   "source": [
    "## Agregar datos por usuario\n",
    "\n"
   ]
  },
  {
   "cell_type": "code",
   "execution_count": 26,
   "metadata": {
    "id": "A332cedB0q1G"
   },
   "outputs": [
    {
     "data": {
      "text/html": [
       "<div>\n",
       "<style scoped>\n",
       "    .dataframe tbody tr th:only-of-type {\n",
       "        vertical-align: middle;\n",
       "    }\n",
       "\n",
       "    .dataframe tbody tr th {\n",
       "        vertical-align: top;\n",
       "    }\n",
       "\n",
       "    .dataframe thead th {\n",
       "        text-align: right;\n",
       "    }\n",
       "</style>\n",
       "<table border=\"1\" class=\"dataframe\">\n",
       "  <thead>\n",
       "    <tr style=\"text-align: right;\">\n",
       "      <th></th>\n",
       "      <th>user_id</th>\n",
       "      <th>call_year</th>\n",
       "      <th>call_month</th>\n",
       "      <th>call_count</th>\n",
       "    </tr>\n",
       "  </thead>\n",
       "  <tbody>\n",
       "    <tr>\n",
       "      <th>0</th>\n",
       "      <td>1000</td>\n",
       "      <td>2018</td>\n",
       "      <td>12</td>\n",
       "      <td>16</td>\n",
       "    </tr>\n",
       "    <tr>\n",
       "      <th>1</th>\n",
       "      <td>1001</td>\n",
       "      <td>2018</td>\n",
       "      <td>8</td>\n",
       "      <td>27</td>\n",
       "    </tr>\n",
       "    <tr>\n",
       "      <th>2</th>\n",
       "      <td>1001</td>\n",
       "      <td>2018</td>\n",
       "      <td>9</td>\n",
       "      <td>49</td>\n",
       "    </tr>\n",
       "    <tr>\n",
       "      <th>3</th>\n",
       "      <td>1001</td>\n",
       "      <td>2018</td>\n",
       "      <td>10</td>\n",
       "      <td>65</td>\n",
       "    </tr>\n",
       "    <tr>\n",
       "      <th>4</th>\n",
       "      <td>1001</td>\n",
       "      <td>2018</td>\n",
       "      <td>11</td>\n",
       "      <td>64</td>\n",
       "    </tr>\n",
       "    <tr>\n",
       "      <th>...</th>\n",
       "      <td>...</td>\n",
       "      <td>...</td>\n",
       "      <td>...</td>\n",
       "      <td>...</td>\n",
       "    </tr>\n",
       "    <tr>\n",
       "      <th>2253</th>\n",
       "      <td>1498</td>\n",
       "      <td>2018</td>\n",
       "      <td>12</td>\n",
       "      <td>39</td>\n",
       "    </tr>\n",
       "    <tr>\n",
       "      <th>2254</th>\n",
       "      <td>1499</td>\n",
       "      <td>2018</td>\n",
       "      <td>9</td>\n",
       "      <td>41</td>\n",
       "    </tr>\n",
       "    <tr>\n",
       "      <th>2255</th>\n",
       "      <td>1499</td>\n",
       "      <td>2018</td>\n",
       "      <td>10</td>\n",
       "      <td>53</td>\n",
       "    </tr>\n",
       "    <tr>\n",
       "      <th>2256</th>\n",
       "      <td>1499</td>\n",
       "      <td>2018</td>\n",
       "      <td>11</td>\n",
       "      <td>45</td>\n",
       "    </tr>\n",
       "    <tr>\n",
       "      <th>2257</th>\n",
       "      <td>1499</td>\n",
       "      <td>2018</td>\n",
       "      <td>12</td>\n",
       "      <td>65</td>\n",
       "    </tr>\n",
       "  </tbody>\n",
       "</table>\n",
       "<p>2258 rows × 4 columns</p>\n",
       "</div>"
      ],
      "text/plain": [
       "      user_id  call_year  call_month  call_count\n",
       "0        1000       2018          12          16\n",
       "1        1001       2018           8          27\n",
       "2        1001       2018           9          49\n",
       "3        1001       2018          10          65\n",
       "4        1001       2018          11          64\n",
       "...       ...        ...         ...         ...\n",
       "2253     1498       2018          12          39\n",
       "2254     1499       2018           9          41\n",
       "2255     1499       2018          10          53\n",
       "2256     1499       2018          11          45\n",
       "2257     1499       2018          12          65\n",
       "\n",
       "[2258 rows x 4 columns]"
      ]
     },
     "execution_count": 26,
     "metadata": {},
     "output_type": "execute_result"
    }
   ],
   "source": [
    "# Calcula el número de llamadas hechas por cada usuario al mes. Guarda el resultado.\n",
    "calls_monthly = df_calls.groupby([\"user_id\", \"call_year\", \"call_month\"]).size().reset_index(name= \"call_count\")\n",
    "\n",
    "calls_monthly"
   ]
  },
  {
   "cell_type": "code",
   "execution_count": 27,
   "metadata": {
    "id": "aw2cmuql0q1G"
   },
   "outputs": [
    {
     "data": {
      "text/html": [
       "<div>\n",
       "<style scoped>\n",
       "    .dataframe tbody tr th:only-of-type {\n",
       "        vertical-align: middle;\n",
       "    }\n",
       "\n",
       "    .dataframe tbody tr th {\n",
       "        vertical-align: top;\n",
       "    }\n",
       "\n",
       "    .dataframe thead th {\n",
       "        text-align: right;\n",
       "    }\n",
       "</style>\n",
       "<table border=\"1\" class=\"dataframe\">\n",
       "  <thead>\n",
       "    <tr style=\"text-align: right;\">\n",
       "      <th></th>\n",
       "      <th>user_id</th>\n",
       "      <th>call_year</th>\n",
       "      <th>call_month</th>\n",
       "      <th>total_minutes</th>\n",
       "    </tr>\n",
       "  </thead>\n",
       "  <tbody>\n",
       "    <tr>\n",
       "      <th>0</th>\n",
       "      <td>1000</td>\n",
       "      <td>2018</td>\n",
       "      <td>12</td>\n",
       "      <td>116.83</td>\n",
       "    </tr>\n",
       "    <tr>\n",
       "      <th>1</th>\n",
       "      <td>1001</td>\n",
       "      <td>2018</td>\n",
       "      <td>8</td>\n",
       "      <td>171.14</td>\n",
       "    </tr>\n",
       "    <tr>\n",
       "      <th>2</th>\n",
       "      <td>1001</td>\n",
       "      <td>2018</td>\n",
       "      <td>9</td>\n",
       "      <td>297.69</td>\n",
       "    </tr>\n",
       "    <tr>\n",
       "      <th>3</th>\n",
       "      <td>1001</td>\n",
       "      <td>2018</td>\n",
       "      <td>10</td>\n",
       "      <td>374.11</td>\n",
       "    </tr>\n",
       "    <tr>\n",
       "      <th>4</th>\n",
       "      <td>1001</td>\n",
       "      <td>2018</td>\n",
       "      <td>11</td>\n",
       "      <td>404.59</td>\n",
       "    </tr>\n",
       "    <tr>\n",
       "      <th>...</th>\n",
       "      <td>...</td>\n",
       "      <td>...</td>\n",
       "      <td>...</td>\n",
       "      <td>...</td>\n",
       "    </tr>\n",
       "    <tr>\n",
       "      <th>2253</th>\n",
       "      <td>1498</td>\n",
       "      <td>2018</td>\n",
       "      <td>12</td>\n",
       "      <td>324.77</td>\n",
       "    </tr>\n",
       "    <tr>\n",
       "      <th>2254</th>\n",
       "      <td>1499</td>\n",
       "      <td>2018</td>\n",
       "      <td>9</td>\n",
       "      <td>330.37</td>\n",
       "    </tr>\n",
       "    <tr>\n",
       "      <th>2255</th>\n",
       "      <td>1499</td>\n",
       "      <td>2018</td>\n",
       "      <td>10</td>\n",
       "      <td>363.28</td>\n",
       "    </tr>\n",
       "    <tr>\n",
       "      <th>2256</th>\n",
       "      <td>1499</td>\n",
       "      <td>2018</td>\n",
       "      <td>11</td>\n",
       "      <td>288.56</td>\n",
       "    </tr>\n",
       "    <tr>\n",
       "      <th>2257</th>\n",
       "      <td>1499</td>\n",
       "      <td>2018</td>\n",
       "      <td>12</td>\n",
       "      <td>468.10</td>\n",
       "    </tr>\n",
       "  </tbody>\n",
       "</table>\n",
       "<p>2258 rows × 4 columns</p>\n",
       "</div>"
      ],
      "text/plain": [
       "      user_id  call_year  call_month  total_minutes\n",
       "0        1000       2018          12         116.83\n",
       "1        1001       2018           8         171.14\n",
       "2        1001       2018           9         297.69\n",
       "3        1001       2018          10         374.11\n",
       "4        1001       2018          11         404.59\n",
       "...       ...        ...         ...            ...\n",
       "2253     1498       2018          12         324.77\n",
       "2254     1499       2018           9         330.37\n",
       "2255     1499       2018          10         363.28\n",
       "2256     1499       2018          11         288.56\n",
       "2257     1499       2018          12         468.10\n",
       "\n",
       "[2258 rows x 4 columns]"
      ]
     },
     "execution_count": 27,
     "metadata": {},
     "output_type": "execute_result"
    }
   ],
   "source": [
    "# Calcula la cantidad de minutos usados por cada usuario al mes. Guarda el resultado.\n",
    "minutes_monthly = df_calls.groupby([\"user_id\",\"call_year\",\"call_month\"])[\"duration\"].sum().reset_index(name= \"total_minutes\")\n",
    "\n",
    "minutes_monthly"
   ]
  },
  {
   "cell_type": "code",
   "execution_count": 28,
   "metadata": {
    "id": "CcQvNHn60q1G"
   },
   "outputs": [
    {
     "data": {
      "text/html": [
       "<div>\n",
       "<style scoped>\n",
       "    .dataframe tbody tr th:only-of-type {\n",
       "        vertical-align: middle;\n",
       "    }\n",
       "\n",
       "    .dataframe tbody tr th {\n",
       "        vertical-align: top;\n",
       "    }\n",
       "\n",
       "    .dataframe thead th {\n",
       "        text-align: right;\n",
       "    }\n",
       "</style>\n",
       "<table border=\"1\" class=\"dataframe\">\n",
       "  <thead>\n",
       "    <tr style=\"text-align: right;\">\n",
       "      <th></th>\n",
       "      <th>user_id</th>\n",
       "      <th>messages_year</th>\n",
       "      <th>messages_month</th>\n",
       "      <th>message_count</th>\n",
       "    </tr>\n",
       "  </thead>\n",
       "  <tbody>\n",
       "    <tr>\n",
       "      <th>0</th>\n",
       "      <td>1000</td>\n",
       "      <td>2018</td>\n",
       "      <td>12</td>\n",
       "      <td>11</td>\n",
       "    </tr>\n",
       "    <tr>\n",
       "      <th>1</th>\n",
       "      <td>1001</td>\n",
       "      <td>2018</td>\n",
       "      <td>8</td>\n",
       "      <td>30</td>\n",
       "    </tr>\n",
       "    <tr>\n",
       "      <th>2</th>\n",
       "      <td>1001</td>\n",
       "      <td>2018</td>\n",
       "      <td>9</td>\n",
       "      <td>44</td>\n",
       "    </tr>\n",
       "    <tr>\n",
       "      <th>3</th>\n",
       "      <td>1001</td>\n",
       "      <td>2018</td>\n",
       "      <td>10</td>\n",
       "      <td>53</td>\n",
       "    </tr>\n",
       "    <tr>\n",
       "      <th>4</th>\n",
       "      <td>1001</td>\n",
       "      <td>2018</td>\n",
       "      <td>11</td>\n",
       "      <td>36</td>\n",
       "    </tr>\n",
       "    <tr>\n",
       "      <th>...</th>\n",
       "      <td>...</td>\n",
       "      <td>...</td>\n",
       "      <td>...</td>\n",
       "      <td>...</td>\n",
       "    </tr>\n",
       "    <tr>\n",
       "      <th>1801</th>\n",
       "      <td>1496</td>\n",
       "      <td>2018</td>\n",
       "      <td>9</td>\n",
       "      <td>21</td>\n",
       "    </tr>\n",
       "    <tr>\n",
       "      <th>1802</th>\n",
       "      <td>1496</td>\n",
       "      <td>2018</td>\n",
       "      <td>10</td>\n",
       "      <td>18</td>\n",
       "    </tr>\n",
       "    <tr>\n",
       "      <th>1803</th>\n",
       "      <td>1496</td>\n",
       "      <td>2018</td>\n",
       "      <td>11</td>\n",
       "      <td>13</td>\n",
       "    </tr>\n",
       "    <tr>\n",
       "      <th>1804</th>\n",
       "      <td>1496</td>\n",
       "      <td>2018</td>\n",
       "      <td>12</td>\n",
       "      <td>11</td>\n",
       "    </tr>\n",
       "    <tr>\n",
       "      <th>1805</th>\n",
       "      <td>1497</td>\n",
       "      <td>2018</td>\n",
       "      <td>12</td>\n",
       "      <td>50</td>\n",
       "    </tr>\n",
       "  </tbody>\n",
       "</table>\n",
       "<p>1806 rows × 4 columns</p>\n",
       "</div>"
      ],
      "text/plain": [
       "      user_id  messages_year  messages_month  message_count\n",
       "0        1000           2018              12             11\n",
       "1        1001           2018               8             30\n",
       "2        1001           2018               9             44\n",
       "3        1001           2018              10             53\n",
       "4        1001           2018              11             36\n",
       "...       ...            ...             ...            ...\n",
       "1801     1496           2018               9             21\n",
       "1802     1496           2018              10             18\n",
       "1803     1496           2018              11             13\n",
       "1804     1496           2018              12             11\n",
       "1805     1497           2018              12             50\n",
       "\n",
       "[1806 rows x 4 columns]"
      ]
     },
     "execution_count": 28,
     "metadata": {},
     "output_type": "execute_result"
    }
   ],
   "source": [
    "# Calcula el número de mensajes enviados por cada usuario al mes. Guarda el resultado.\n",
    "\n",
    "messages_monthly = df_messages.groupby([\"user_id\", \"messages_year\", \"messages_month\"])[\"id\"].count().reset_index(name= \"message_count\")\n",
    "\n",
    "messages_monthly"
   ]
  },
  {
   "cell_type": "code",
   "execution_count": 29,
   "metadata": {
    "id": "H1AqN2eG0q1H"
   },
   "outputs": [
    {
     "data": {
      "text/html": [
       "<div>\n",
       "<style scoped>\n",
       "    .dataframe tbody tr th:only-of-type {\n",
       "        vertical-align: middle;\n",
       "    }\n",
       "\n",
       "    .dataframe tbody tr th {\n",
       "        vertical-align: top;\n",
       "    }\n",
       "\n",
       "    .dataframe thead th {\n",
       "        text-align: right;\n",
       "    }\n",
       "</style>\n",
       "<table border=\"1\" class=\"dataframe\">\n",
       "  <thead>\n",
       "    <tr style=\"text-align: right;\">\n",
       "      <th></th>\n",
       "      <th>user_id</th>\n",
       "      <th>internet_year</th>\n",
       "      <th>internet_month</th>\n",
       "      <th>mb_used</th>\n",
       "    </tr>\n",
       "  </thead>\n",
       "  <tbody>\n",
       "    <tr>\n",
       "      <th>0</th>\n",
       "      <td>1000</td>\n",
       "      <td>2018</td>\n",
       "      <td>12</td>\n",
       "      <td>1901.47</td>\n",
       "    </tr>\n",
       "    <tr>\n",
       "      <th>1</th>\n",
       "      <td>1001</td>\n",
       "      <td>2018</td>\n",
       "      <td>8</td>\n",
       "      <td>6919.15</td>\n",
       "    </tr>\n",
       "    <tr>\n",
       "      <th>2</th>\n",
       "      <td>1001</td>\n",
       "      <td>2018</td>\n",
       "      <td>9</td>\n",
       "      <td>13314.82</td>\n",
       "    </tr>\n",
       "    <tr>\n",
       "      <th>3</th>\n",
       "      <td>1001</td>\n",
       "      <td>2018</td>\n",
       "      <td>10</td>\n",
       "      <td>22330.49</td>\n",
       "    </tr>\n",
       "    <tr>\n",
       "      <th>4</th>\n",
       "      <td>1001</td>\n",
       "      <td>2018</td>\n",
       "      <td>11</td>\n",
       "      <td>18504.30</td>\n",
       "    </tr>\n",
       "    <tr>\n",
       "      <th>...</th>\n",
       "      <td>...</td>\n",
       "      <td>...</td>\n",
       "      <td>...</td>\n",
       "      <td>...</td>\n",
       "    </tr>\n",
       "    <tr>\n",
       "      <th>2272</th>\n",
       "      <td>1498</td>\n",
       "      <td>2018</td>\n",
       "      <td>12</td>\n",
       "      <td>23137.69</td>\n",
       "    </tr>\n",
       "    <tr>\n",
       "      <th>2273</th>\n",
       "      <td>1499</td>\n",
       "      <td>2018</td>\n",
       "      <td>9</td>\n",
       "      <td>12984.76</td>\n",
       "    </tr>\n",
       "    <tr>\n",
       "      <th>2274</th>\n",
       "      <td>1499</td>\n",
       "      <td>2018</td>\n",
       "      <td>10</td>\n",
       "      <td>19492.43</td>\n",
       "    </tr>\n",
       "    <tr>\n",
       "      <th>2275</th>\n",
       "      <td>1499</td>\n",
       "      <td>2018</td>\n",
       "      <td>11</td>\n",
       "      <td>16813.83</td>\n",
       "    </tr>\n",
       "    <tr>\n",
       "      <th>2276</th>\n",
       "      <td>1499</td>\n",
       "      <td>2018</td>\n",
       "      <td>12</td>\n",
       "      <td>22059.21</td>\n",
       "    </tr>\n",
       "  </tbody>\n",
       "</table>\n",
       "<p>2277 rows × 4 columns</p>\n",
       "</div>"
      ],
      "text/plain": [
       "      user_id  internet_year  internet_month   mb_used\n",
       "0        1000           2018              12   1901.47\n",
       "1        1001           2018               8   6919.15\n",
       "2        1001           2018               9  13314.82\n",
       "3        1001           2018              10  22330.49\n",
       "4        1001           2018              11  18504.30\n",
       "...       ...            ...             ...       ...\n",
       "2272     1498           2018              12  23137.69\n",
       "2273     1499           2018               9  12984.76\n",
       "2274     1499           2018              10  19492.43\n",
       "2275     1499           2018              11  16813.83\n",
       "2276     1499           2018              12  22059.21\n",
       "\n",
       "[2277 rows x 4 columns]"
      ]
     },
     "execution_count": 29,
     "metadata": {},
     "output_type": "execute_result"
    }
   ],
   "source": [
    "# Calcula el volumen del tráfico de Internet usado por cada usuario al mes. Guarda el resultado.\n",
    "internet_monthly = df_internet.groupby([\"user_id\", \"internet_year\", \"internet_month\"])[\"mb_used\"].sum().reset_index()\n",
    "\n",
    "internet_monthly"
   ]
  },
  {
   "cell_type": "code",
   "execution_count": 40,
   "metadata": {},
   "outputs": [
    {
     "name": "stdout",
     "output_type": "stream",
     "text": [
      "   user_id  call_year  call_month  call_count  total_minutes  messages_year  \\\n",
      "0     1000       2018          12          16         116.83           2018   \n",
      "1     1001       2018           8          27         171.14           2018   \n",
      "2     1001       2018           9          49         297.69           2018   \n",
      "3     1001       2018          10          65         374.11           2018   \n",
      "4     1001       2018          11          64         404.59           2018   \n",
      "\n",
      "   messages_month  message_count  internet_year  internet_month   mb_used  \n",
      "0              12             11           2018              12   1901.47  \n",
      "1               8             30           2018               8   6919.15  \n",
      "2               9             44           2018               9  13314.82  \n",
      "3              10             53           2018              10  22330.49  \n",
      "4              11             36           2018              11  18504.30  \n"
     ]
    }
   ],
   "source": [
    "# Primera fusión: llamadas y minutos\n",
    "consumo = pd.merge(calls_monthly, minutes_monthly, on=['user_id', 'call_year', 'call_month'])\n",
    "\n",
    "# Segunda fusión: mensajes\n",
    "consumo = pd.merge(consumo, messages_monthly, left_on=['user_id', 'call_year', 'call_month'],\n",
    "                       right_on=['user_id', 'messages_year', 'messages_month'])\n",
    "\n",
    "# Tercera fusión: internet\n",
    "consumo = pd.merge(consumo, internet_monthly, left_on=['user_id', 'call_year', 'call_month'],\n",
    "                       right_on=['user_id', 'internet_year', 'internet_month'])\n",
    "\n",
    "# Mostrar el resultado\n",
    "print(consumo.head())\n"
   ]
  },
  {
   "cell_type": "code",
   "execution_count": 42,
   "metadata": {
    "scrolled": true
   },
   "outputs": [
    {
     "data": {
      "text/html": [
       "<div>\n",
       "<style scoped>\n",
       "    .dataframe tbody tr th:only-of-type {\n",
       "        vertical-align: middle;\n",
       "    }\n",
       "\n",
       "    .dataframe tbody tr th {\n",
       "        vertical-align: top;\n",
       "    }\n",
       "\n",
       "    .dataframe thead th {\n",
       "        text-align: right;\n",
       "    }\n",
       "</style>\n",
       "<table border=\"1\" class=\"dataframe\">\n",
       "  <thead>\n",
       "    <tr style=\"text-align: right;\">\n",
       "      <th></th>\n",
       "      <th>user_id</th>\n",
       "      <th>first_name</th>\n",
       "      <th>last_name</th>\n",
       "      <th>age</th>\n",
       "      <th>city</th>\n",
       "      <th>reg_date</th>\n",
       "      <th>plan</th>\n",
       "      <th>churn_date</th>\n",
       "      <th>permanencia_por_días</th>\n",
       "      <th>reg_month</th>\n",
       "      <th>...</th>\n",
       "      <th>call_year</th>\n",
       "      <th>call_month</th>\n",
       "      <th>call_count</th>\n",
       "      <th>total_minutes</th>\n",
       "      <th>messages_year</th>\n",
       "      <th>messages_month</th>\n",
       "      <th>message_count</th>\n",
       "      <th>internet_year</th>\n",
       "      <th>internet_month</th>\n",
       "      <th>mb_used</th>\n",
       "    </tr>\n",
       "  </thead>\n",
       "  <tbody>\n",
       "    <tr>\n",
       "      <th>0</th>\n",
       "      <td>1000</td>\n",
       "      <td>anamaria</td>\n",
       "      <td>bauer</td>\n",
       "      <td>45</td>\n",
       "      <td>Atlanta-Sandy Springs-Roswell, GA MSA</td>\n",
       "      <td>2018-12-24</td>\n",
       "      <td>ultimate</td>\n",
       "      <td>NaT</td>\n",
       "      <td>NaN</td>\n",
       "      <td>12</td>\n",
       "      <td>...</td>\n",
       "      <td>2018</td>\n",
       "      <td>12</td>\n",
       "      <td>16</td>\n",
       "      <td>116.83</td>\n",
       "      <td>2018</td>\n",
       "      <td>12</td>\n",
       "      <td>11</td>\n",
       "      <td>2018</td>\n",
       "      <td>12</td>\n",
       "      <td>1901.47</td>\n",
       "    </tr>\n",
       "    <tr>\n",
       "      <th>1</th>\n",
       "      <td>1001</td>\n",
       "      <td>mickey</td>\n",
       "      <td>wilkerson</td>\n",
       "      <td>28</td>\n",
       "      <td>Seattle-Tacoma-Bellevue, WA MSA</td>\n",
       "      <td>2018-08-13</td>\n",
       "      <td>surf</td>\n",
       "      <td>NaT</td>\n",
       "      <td>NaN</td>\n",
       "      <td>8</td>\n",
       "      <td>...</td>\n",
       "      <td>2018</td>\n",
       "      <td>8</td>\n",
       "      <td>27</td>\n",
       "      <td>171.14</td>\n",
       "      <td>2018</td>\n",
       "      <td>8</td>\n",
       "      <td>30</td>\n",
       "      <td>2018</td>\n",
       "      <td>8</td>\n",
       "      <td>6919.15</td>\n",
       "    </tr>\n",
       "    <tr>\n",
       "      <th>2</th>\n",
       "      <td>1001</td>\n",
       "      <td>mickey</td>\n",
       "      <td>wilkerson</td>\n",
       "      <td>28</td>\n",
       "      <td>Seattle-Tacoma-Bellevue, WA MSA</td>\n",
       "      <td>2018-08-13</td>\n",
       "      <td>surf</td>\n",
       "      <td>NaT</td>\n",
       "      <td>NaN</td>\n",
       "      <td>8</td>\n",
       "      <td>...</td>\n",
       "      <td>2018</td>\n",
       "      <td>9</td>\n",
       "      <td>49</td>\n",
       "      <td>297.69</td>\n",
       "      <td>2018</td>\n",
       "      <td>9</td>\n",
       "      <td>44</td>\n",
       "      <td>2018</td>\n",
       "      <td>9</td>\n",
       "      <td>13314.82</td>\n",
       "    </tr>\n",
       "    <tr>\n",
       "      <th>3</th>\n",
       "      <td>1001</td>\n",
       "      <td>mickey</td>\n",
       "      <td>wilkerson</td>\n",
       "      <td>28</td>\n",
       "      <td>Seattle-Tacoma-Bellevue, WA MSA</td>\n",
       "      <td>2018-08-13</td>\n",
       "      <td>surf</td>\n",
       "      <td>NaT</td>\n",
       "      <td>NaN</td>\n",
       "      <td>8</td>\n",
       "      <td>...</td>\n",
       "      <td>2018</td>\n",
       "      <td>10</td>\n",
       "      <td>65</td>\n",
       "      <td>374.11</td>\n",
       "      <td>2018</td>\n",
       "      <td>10</td>\n",
       "      <td>53</td>\n",
       "      <td>2018</td>\n",
       "      <td>10</td>\n",
       "      <td>22330.49</td>\n",
       "    </tr>\n",
       "    <tr>\n",
       "      <th>4</th>\n",
       "      <td>1001</td>\n",
       "      <td>mickey</td>\n",
       "      <td>wilkerson</td>\n",
       "      <td>28</td>\n",
       "      <td>Seattle-Tacoma-Bellevue, WA MSA</td>\n",
       "      <td>2018-08-13</td>\n",
       "      <td>surf</td>\n",
       "      <td>NaT</td>\n",
       "      <td>NaN</td>\n",
       "      <td>8</td>\n",
       "      <td>...</td>\n",
       "      <td>2018</td>\n",
       "      <td>11</td>\n",
       "      <td>64</td>\n",
       "      <td>404.59</td>\n",
       "      <td>2018</td>\n",
       "      <td>11</td>\n",
       "      <td>36</td>\n",
       "      <td>2018</td>\n",
       "      <td>11</td>\n",
       "      <td>18504.30</td>\n",
       "    </tr>\n",
       "    <tr>\n",
       "      <th>...</th>\n",
       "      <td>...</td>\n",
       "      <td>...</td>\n",
       "      <td>...</td>\n",
       "      <td>...</td>\n",
       "      <td>...</td>\n",
       "      <td>...</td>\n",
       "      <td>...</td>\n",
       "      <td>...</td>\n",
       "      <td>...</td>\n",
       "      <td>...</td>\n",
       "      <td>...</td>\n",
       "      <td>...</td>\n",
       "      <td>...</td>\n",
       "      <td>...</td>\n",
       "      <td>...</td>\n",
       "      <td>...</td>\n",
       "      <td>...</td>\n",
       "      <td>...</td>\n",
       "      <td>...</td>\n",
       "      <td>...</td>\n",
       "      <td>...</td>\n",
       "    </tr>\n",
       "    <tr>\n",
       "      <th>1754</th>\n",
       "      <td>1496</td>\n",
       "      <td>ariel</td>\n",
       "      <td>shepherd</td>\n",
       "      <td>49</td>\n",
       "      <td>New Orleans-Metairie, LA MSA</td>\n",
       "      <td>2018-02-20</td>\n",
       "      <td>surf</td>\n",
       "      <td>NaT</td>\n",
       "      <td>NaN</td>\n",
       "      <td>2</td>\n",
       "      <td>...</td>\n",
       "      <td>2018</td>\n",
       "      <td>9</td>\n",
       "      <td>52</td>\n",
       "      <td>389.94</td>\n",
       "      <td>2018</td>\n",
       "      <td>9</td>\n",
       "      <td>21</td>\n",
       "      <td>2018</td>\n",
       "      <td>9</td>\n",
       "      <td>16389.27</td>\n",
       "    </tr>\n",
       "    <tr>\n",
       "      <th>1755</th>\n",
       "      <td>1496</td>\n",
       "      <td>ariel</td>\n",
       "      <td>shepherd</td>\n",
       "      <td>49</td>\n",
       "      <td>New Orleans-Metairie, LA MSA</td>\n",
       "      <td>2018-02-20</td>\n",
       "      <td>surf</td>\n",
       "      <td>NaT</td>\n",
       "      <td>NaN</td>\n",
       "      <td>2</td>\n",
       "      <td>...</td>\n",
       "      <td>2018</td>\n",
       "      <td>10</td>\n",
       "      <td>46</td>\n",
       "      <td>301.16</td>\n",
       "      <td>2018</td>\n",
       "      <td>10</td>\n",
       "      <td>18</td>\n",
       "      <td>2018</td>\n",
       "      <td>10</td>\n",
       "      <td>14287.36</td>\n",
       "    </tr>\n",
       "    <tr>\n",
       "      <th>1756</th>\n",
       "      <td>1496</td>\n",
       "      <td>ariel</td>\n",
       "      <td>shepherd</td>\n",
       "      <td>49</td>\n",
       "      <td>New Orleans-Metairie, LA MSA</td>\n",
       "      <td>2018-02-20</td>\n",
       "      <td>surf</td>\n",
       "      <td>NaT</td>\n",
       "      <td>NaN</td>\n",
       "      <td>2</td>\n",
       "      <td>...</td>\n",
       "      <td>2018</td>\n",
       "      <td>11</td>\n",
       "      <td>39</td>\n",
       "      <td>291.88</td>\n",
       "      <td>2018</td>\n",
       "      <td>11</td>\n",
       "      <td>13</td>\n",
       "      <td>2018</td>\n",
       "      <td>11</td>\n",
       "      <td>8547.36</td>\n",
       "    </tr>\n",
       "    <tr>\n",
       "      <th>1757</th>\n",
       "      <td>1496</td>\n",
       "      <td>ariel</td>\n",
       "      <td>shepherd</td>\n",
       "      <td>49</td>\n",
       "      <td>New Orleans-Metairie, LA MSA</td>\n",
       "      <td>2018-02-20</td>\n",
       "      <td>surf</td>\n",
       "      <td>NaT</td>\n",
       "      <td>NaN</td>\n",
       "      <td>2</td>\n",
       "      <td>...</td>\n",
       "      <td>2018</td>\n",
       "      <td>12</td>\n",
       "      <td>40</td>\n",
       "      <td>278.61</td>\n",
       "      <td>2018</td>\n",
       "      <td>12</td>\n",
       "      <td>11</td>\n",
       "      <td>2018</td>\n",
       "      <td>12</td>\n",
       "      <td>16438.99</td>\n",
       "    </tr>\n",
       "    <tr>\n",
       "      <th>1758</th>\n",
       "      <td>1497</td>\n",
       "      <td>donte</td>\n",
       "      <td>barrera</td>\n",
       "      <td>49</td>\n",
       "      <td>Los Angeles-Long Beach-Anaheim, CA MSA</td>\n",
       "      <td>2018-12-10</td>\n",
       "      <td>ultimate</td>\n",
       "      <td>NaT</td>\n",
       "      <td>NaN</td>\n",
       "      <td>12</td>\n",
       "      <td>...</td>\n",
       "      <td>2018</td>\n",
       "      <td>12</td>\n",
       "      <td>54</td>\n",
       "      <td>276.53</td>\n",
       "      <td>2018</td>\n",
       "      <td>12</td>\n",
       "      <td>50</td>\n",
       "      <td>2018</td>\n",
       "      <td>12</td>\n",
       "      <td>11106.55</td>\n",
       "    </tr>\n",
       "  </tbody>\n",
       "</table>\n",
       "<p>1759 rows × 21 columns</p>\n",
       "</div>"
      ],
      "text/plain": [
       "      user_id first_name  last_name  age  \\\n",
       "0        1000   anamaria      bauer   45   \n",
       "1        1001     mickey  wilkerson   28   \n",
       "2        1001     mickey  wilkerson   28   \n",
       "3        1001     mickey  wilkerson   28   \n",
       "4        1001     mickey  wilkerson   28   \n",
       "...       ...        ...        ...  ...   \n",
       "1754     1496      ariel   shepherd   49   \n",
       "1755     1496      ariel   shepherd   49   \n",
       "1756     1496      ariel   shepherd   49   \n",
       "1757     1496      ariel   shepherd   49   \n",
       "1758     1497      donte    barrera   49   \n",
       "\n",
       "                                        city   reg_date      plan churn_date  \\\n",
       "0      Atlanta-Sandy Springs-Roswell, GA MSA 2018-12-24  ultimate        NaT   \n",
       "1            Seattle-Tacoma-Bellevue, WA MSA 2018-08-13      surf        NaT   \n",
       "2            Seattle-Tacoma-Bellevue, WA MSA 2018-08-13      surf        NaT   \n",
       "3            Seattle-Tacoma-Bellevue, WA MSA 2018-08-13      surf        NaT   \n",
       "4            Seattle-Tacoma-Bellevue, WA MSA 2018-08-13      surf        NaT   \n",
       "...                                      ...        ...       ...        ...   \n",
       "1754            New Orleans-Metairie, LA MSA 2018-02-20      surf        NaT   \n",
       "1755            New Orleans-Metairie, LA MSA 2018-02-20      surf        NaT   \n",
       "1756            New Orleans-Metairie, LA MSA 2018-02-20      surf        NaT   \n",
       "1757            New Orleans-Metairie, LA MSA 2018-02-20      surf        NaT   \n",
       "1758  Los Angeles-Long Beach-Anaheim, CA MSA 2018-12-10  ultimate        NaT   \n",
       "\n",
       "      permanencia_por_días  reg_month  ...  call_year  call_month  call_count  \\\n",
       "0                      NaN         12  ...       2018          12          16   \n",
       "1                      NaN          8  ...       2018           8          27   \n",
       "2                      NaN          8  ...       2018           9          49   \n",
       "3                      NaN          8  ...       2018          10          65   \n",
       "4                      NaN          8  ...       2018          11          64   \n",
       "...                    ...        ...  ...        ...         ...         ...   \n",
       "1754                   NaN          2  ...       2018           9          52   \n",
       "1755                   NaN          2  ...       2018          10          46   \n",
       "1756                   NaN          2  ...       2018          11          39   \n",
       "1757                   NaN          2  ...       2018          12          40   \n",
       "1758                   NaN         12  ...       2018          12          54   \n",
       "\n",
       "      total_minutes  messages_year  messages_month  message_count  \\\n",
       "0            116.83           2018              12             11   \n",
       "1            171.14           2018               8             30   \n",
       "2            297.69           2018               9             44   \n",
       "3            374.11           2018              10             53   \n",
       "4            404.59           2018              11             36   \n",
       "...             ...            ...             ...            ...   \n",
       "1754         389.94           2018               9             21   \n",
       "1755         301.16           2018              10             18   \n",
       "1756         291.88           2018              11             13   \n",
       "1757         278.61           2018              12             11   \n",
       "1758         276.53           2018              12             50   \n",
       "\n",
       "      internet_year  internet_month   mb_used  \n",
       "0              2018              12   1901.47  \n",
       "1              2018               8   6919.15  \n",
       "2              2018               9  13314.82  \n",
       "3              2018              10  22330.49  \n",
       "4              2018              11  18504.30  \n",
       "...             ...             ...       ...  \n",
       "1754           2018               9  16389.27  \n",
       "1755           2018              10  14287.36  \n",
       "1756           2018              11   8547.36  \n",
       "1757           2018              12  16438.99  \n",
       "1758           2018              12  11106.55  \n",
       "\n",
       "[1759 rows x 21 columns]"
      ]
     },
     "execution_count": 42,
     "metadata": {},
     "output_type": "execute_result"
    }
   ],
   "source": [
    "\n",
    "plans_fusion = pd.merge(df_user, df_plans, left_on= [ \"plan\"], right_on= [ \"plan_name\"])\n",
    "fusion_consumo= pd.merge(df_user, consumo,  left_on= [ \"user_id\"], right_on= [ \"user_id\"])\n",
    "fusion_consumo"
   ]
  },
  {
   "cell_type": "code",
   "execution_count": 51,
   "metadata": {
    "id": "0dNOXHag0q1H"
   },
   "outputs": [
    {
     "data": {
      "text/html": [
       "<div>\n",
       "<style scoped>\n",
       "    .dataframe tbody tr th:only-of-type {\n",
       "        vertical-align: middle;\n",
       "    }\n",
       "\n",
       "    .dataframe tbody tr th {\n",
       "        vertical-align: top;\n",
       "    }\n",
       "\n",
       "    .dataframe thead th {\n",
       "        text-align: right;\n",
       "    }\n",
       "</style>\n",
       "<table border=\"1\" class=\"dataframe\">\n",
       "  <thead>\n",
       "    <tr style=\"text-align: right;\">\n",
       "      <th></th>\n",
       "      <th>user_id</th>\n",
       "      <th>first_name</th>\n",
       "      <th>last_name</th>\n",
       "      <th>age</th>\n",
       "      <th>city</th>\n",
       "      <th>reg_date</th>\n",
       "      <th>plan</th>\n",
       "      <th>churn_date</th>\n",
       "      <th>permanencia_por_días</th>\n",
       "      <th>reg_month</th>\n",
       "      <th>...</th>\n",
       "      <th>mb_per_month_included</th>\n",
       "      <th>minutes_included</th>\n",
       "      <th>usd_monthly_pay</th>\n",
       "      <th>usd_per_gb</th>\n",
       "      <th>usd_per_message</th>\n",
       "      <th>usd_per_minute</th>\n",
       "      <th>plan_name</th>\n",
       "      <th>cost_per_extra_message</th>\n",
       "      <th>cost_per_extra_minute</th>\n",
       "      <th>cost_per_extra_mb</th>\n",
       "    </tr>\n",
       "  </thead>\n",
       "  <tbody>\n",
       "    <tr>\n",
       "      <th>0</th>\n",
       "      <td>1000</td>\n",
       "      <td>anamaria</td>\n",
       "      <td>bauer</td>\n",
       "      <td>45</td>\n",
       "      <td>Atlanta-Sandy Springs-Roswell, GA MSA</td>\n",
       "      <td>2018-12-24</td>\n",
       "      <td>ultimate</td>\n",
       "      <td>NaT</td>\n",
       "      <td>NaN</td>\n",
       "      <td>12</td>\n",
       "      <td>...</td>\n",
       "      <td>30720</td>\n",
       "      <td>3000</td>\n",
       "      <td>70</td>\n",
       "      <td>7</td>\n",
       "      <td>0.01</td>\n",
       "      <td>0.01</td>\n",
       "      <td>ultimate</td>\n",
       "      <td>10.0</td>\n",
       "      <td>30.0</td>\n",
       "      <td>215040</td>\n",
       "    </tr>\n",
       "    <tr>\n",
       "      <th>1</th>\n",
       "      <td>1006</td>\n",
       "      <td>jesusa</td>\n",
       "      <td>bradford</td>\n",
       "      <td>73</td>\n",
       "      <td>San Francisco-Oakland-Berkeley, CA MSA</td>\n",
       "      <td>2018-11-27</td>\n",
       "      <td>ultimate</td>\n",
       "      <td>2018-12-18</td>\n",
       "      <td>21.0</td>\n",
       "      <td>11</td>\n",
       "      <td>...</td>\n",
       "      <td>30720</td>\n",
       "      <td>3000</td>\n",
       "      <td>70</td>\n",
       "      <td>7</td>\n",
       "      <td>0.01</td>\n",
       "      <td>0.01</td>\n",
       "      <td>ultimate</td>\n",
       "      <td>10.0</td>\n",
       "      <td>30.0</td>\n",
       "      <td>215040</td>\n",
       "    </tr>\n",
       "    <tr>\n",
       "      <th>2</th>\n",
       "      <td>1006</td>\n",
       "      <td>jesusa</td>\n",
       "      <td>bradford</td>\n",
       "      <td>73</td>\n",
       "      <td>San Francisco-Oakland-Berkeley, CA MSA</td>\n",
       "      <td>2018-11-27</td>\n",
       "      <td>ultimate</td>\n",
       "      <td>2018-12-18</td>\n",
       "      <td>21.0</td>\n",
       "      <td>11</td>\n",
       "      <td>...</td>\n",
       "      <td>30720</td>\n",
       "      <td>3000</td>\n",
       "      <td>70</td>\n",
       "      <td>7</td>\n",
       "      <td>0.01</td>\n",
       "      <td>0.01</td>\n",
       "      <td>ultimate</td>\n",
       "      <td>10.0</td>\n",
       "      <td>30.0</td>\n",
       "      <td>215040</td>\n",
       "    </tr>\n",
       "    <tr>\n",
       "      <th>3</th>\n",
       "      <td>1008</td>\n",
       "      <td>emely</td>\n",
       "      <td>hoffman</td>\n",
       "      <td>53</td>\n",
       "      <td>Orlando-Kissimmee-Sanford, FL MSA</td>\n",
       "      <td>2018-08-03</td>\n",
       "      <td>ultimate</td>\n",
       "      <td>NaT</td>\n",
       "      <td>NaN</td>\n",
       "      <td>8</td>\n",
       "      <td>...</td>\n",
       "      <td>30720</td>\n",
       "      <td>3000</td>\n",
       "      <td>70</td>\n",
       "      <td>7</td>\n",
       "      <td>0.01</td>\n",
       "      <td>0.01</td>\n",
       "      <td>ultimate</td>\n",
       "      <td>10.0</td>\n",
       "      <td>30.0</td>\n",
       "      <td>215040</td>\n",
       "    </tr>\n",
       "    <tr>\n",
       "      <th>4</th>\n",
       "      <td>1008</td>\n",
       "      <td>emely</td>\n",
       "      <td>hoffman</td>\n",
       "      <td>53</td>\n",
       "      <td>Orlando-Kissimmee-Sanford, FL MSA</td>\n",
       "      <td>2018-08-03</td>\n",
       "      <td>ultimate</td>\n",
       "      <td>NaT</td>\n",
       "      <td>NaN</td>\n",
       "      <td>8</td>\n",
       "      <td>...</td>\n",
       "      <td>30720</td>\n",
       "      <td>3000</td>\n",
       "      <td>70</td>\n",
       "      <td>7</td>\n",
       "      <td>0.01</td>\n",
       "      <td>0.01</td>\n",
       "      <td>ultimate</td>\n",
       "      <td>10.0</td>\n",
       "      <td>30.0</td>\n",
       "      <td>215040</td>\n",
       "    </tr>\n",
       "    <tr>\n",
       "      <th>...</th>\n",
       "      <td>...</td>\n",
       "      <td>...</td>\n",
       "      <td>...</td>\n",
       "      <td>...</td>\n",
       "      <td>...</td>\n",
       "      <td>...</td>\n",
       "      <td>...</td>\n",
       "      <td>...</td>\n",
       "      <td>...</td>\n",
       "      <td>...</td>\n",
       "      <td>...</td>\n",
       "      <td>...</td>\n",
       "      <td>...</td>\n",
       "      <td>...</td>\n",
       "      <td>...</td>\n",
       "      <td>...</td>\n",
       "      <td>...</td>\n",
       "      <td>...</td>\n",
       "      <td>...</td>\n",
       "      <td>...</td>\n",
       "      <td>...</td>\n",
       "    </tr>\n",
       "    <tr>\n",
       "      <th>1754</th>\n",
       "      <td>1496</td>\n",
       "      <td>ariel</td>\n",
       "      <td>shepherd</td>\n",
       "      <td>49</td>\n",
       "      <td>New Orleans-Metairie, LA MSA</td>\n",
       "      <td>2018-02-20</td>\n",
       "      <td>surf</td>\n",
       "      <td>NaT</td>\n",
       "      <td>NaN</td>\n",
       "      <td>2</td>\n",
       "      <td>...</td>\n",
       "      <td>15360</td>\n",
       "      <td>500</td>\n",
       "      <td>20</td>\n",
       "      <td>10</td>\n",
       "      <td>0.03</td>\n",
       "      <td>0.03</td>\n",
       "      <td>surf</td>\n",
       "      <td>1.5</td>\n",
       "      <td>15.0</td>\n",
       "      <td>153600</td>\n",
       "    </tr>\n",
       "    <tr>\n",
       "      <th>1755</th>\n",
       "      <td>1496</td>\n",
       "      <td>ariel</td>\n",
       "      <td>shepherd</td>\n",
       "      <td>49</td>\n",
       "      <td>New Orleans-Metairie, LA MSA</td>\n",
       "      <td>2018-02-20</td>\n",
       "      <td>surf</td>\n",
       "      <td>NaT</td>\n",
       "      <td>NaN</td>\n",
       "      <td>2</td>\n",
       "      <td>...</td>\n",
       "      <td>15360</td>\n",
       "      <td>500</td>\n",
       "      <td>20</td>\n",
       "      <td>10</td>\n",
       "      <td>0.03</td>\n",
       "      <td>0.03</td>\n",
       "      <td>surf</td>\n",
       "      <td>1.5</td>\n",
       "      <td>15.0</td>\n",
       "      <td>153600</td>\n",
       "    </tr>\n",
       "    <tr>\n",
       "      <th>1756</th>\n",
       "      <td>1496</td>\n",
       "      <td>ariel</td>\n",
       "      <td>shepherd</td>\n",
       "      <td>49</td>\n",
       "      <td>New Orleans-Metairie, LA MSA</td>\n",
       "      <td>2018-02-20</td>\n",
       "      <td>surf</td>\n",
       "      <td>NaT</td>\n",
       "      <td>NaN</td>\n",
       "      <td>2</td>\n",
       "      <td>...</td>\n",
       "      <td>15360</td>\n",
       "      <td>500</td>\n",
       "      <td>20</td>\n",
       "      <td>10</td>\n",
       "      <td>0.03</td>\n",
       "      <td>0.03</td>\n",
       "      <td>surf</td>\n",
       "      <td>1.5</td>\n",
       "      <td>15.0</td>\n",
       "      <td>153600</td>\n",
       "    </tr>\n",
       "    <tr>\n",
       "      <th>1757</th>\n",
       "      <td>1496</td>\n",
       "      <td>ariel</td>\n",
       "      <td>shepherd</td>\n",
       "      <td>49</td>\n",
       "      <td>New Orleans-Metairie, LA MSA</td>\n",
       "      <td>2018-02-20</td>\n",
       "      <td>surf</td>\n",
       "      <td>NaT</td>\n",
       "      <td>NaN</td>\n",
       "      <td>2</td>\n",
       "      <td>...</td>\n",
       "      <td>15360</td>\n",
       "      <td>500</td>\n",
       "      <td>20</td>\n",
       "      <td>10</td>\n",
       "      <td>0.03</td>\n",
       "      <td>0.03</td>\n",
       "      <td>surf</td>\n",
       "      <td>1.5</td>\n",
       "      <td>15.0</td>\n",
       "      <td>153600</td>\n",
       "    </tr>\n",
       "    <tr>\n",
       "      <th>1758</th>\n",
       "      <td>1496</td>\n",
       "      <td>ariel</td>\n",
       "      <td>shepherd</td>\n",
       "      <td>49</td>\n",
       "      <td>New Orleans-Metairie, LA MSA</td>\n",
       "      <td>2018-02-20</td>\n",
       "      <td>surf</td>\n",
       "      <td>NaT</td>\n",
       "      <td>NaN</td>\n",
       "      <td>2</td>\n",
       "      <td>...</td>\n",
       "      <td>15360</td>\n",
       "      <td>500</td>\n",
       "      <td>20</td>\n",
       "      <td>10</td>\n",
       "      <td>0.03</td>\n",
       "      <td>0.03</td>\n",
       "      <td>surf</td>\n",
       "      <td>1.5</td>\n",
       "      <td>15.0</td>\n",
       "      <td>153600</td>\n",
       "    </tr>\n",
       "  </tbody>\n",
       "</table>\n",
       "<p>1759 rows × 32 columns</p>\n",
       "</div>"
      ],
      "text/plain": [
       "      user_id first_name last_name  age  \\\n",
       "0        1000   anamaria     bauer   45   \n",
       "1        1006     jesusa  bradford   73   \n",
       "2        1006     jesusa  bradford   73   \n",
       "3        1008      emely   hoffman   53   \n",
       "4        1008      emely   hoffman   53   \n",
       "...       ...        ...       ...  ...   \n",
       "1754     1496      ariel  shepherd   49   \n",
       "1755     1496      ariel  shepherd   49   \n",
       "1756     1496      ariel  shepherd   49   \n",
       "1757     1496      ariel  shepherd   49   \n",
       "1758     1496      ariel  shepherd   49   \n",
       "\n",
       "                                        city   reg_date      plan churn_date  \\\n",
       "0      Atlanta-Sandy Springs-Roswell, GA MSA 2018-12-24  ultimate        NaT   \n",
       "1     San Francisco-Oakland-Berkeley, CA MSA 2018-11-27  ultimate 2018-12-18   \n",
       "2     San Francisco-Oakland-Berkeley, CA MSA 2018-11-27  ultimate 2018-12-18   \n",
       "3          Orlando-Kissimmee-Sanford, FL MSA 2018-08-03  ultimate        NaT   \n",
       "4          Orlando-Kissimmee-Sanford, FL MSA 2018-08-03  ultimate        NaT   \n",
       "...                                      ...        ...       ...        ...   \n",
       "1754            New Orleans-Metairie, LA MSA 2018-02-20      surf        NaT   \n",
       "1755            New Orleans-Metairie, LA MSA 2018-02-20      surf        NaT   \n",
       "1756            New Orleans-Metairie, LA MSA 2018-02-20      surf        NaT   \n",
       "1757            New Orleans-Metairie, LA MSA 2018-02-20      surf        NaT   \n",
       "1758            New Orleans-Metairie, LA MSA 2018-02-20      surf        NaT   \n",
       "\n",
       "      permanencia_por_días  reg_month  ...  mb_per_month_included  \\\n",
       "0                      NaN         12  ...                  30720   \n",
       "1                     21.0         11  ...                  30720   \n",
       "2                     21.0         11  ...                  30720   \n",
       "3                      NaN          8  ...                  30720   \n",
       "4                      NaN          8  ...                  30720   \n",
       "...                    ...        ...  ...                    ...   \n",
       "1754                   NaN          2  ...                  15360   \n",
       "1755                   NaN          2  ...                  15360   \n",
       "1756                   NaN          2  ...                  15360   \n",
       "1757                   NaN          2  ...                  15360   \n",
       "1758                   NaN          2  ...                  15360   \n",
       "\n",
       "      minutes_included  usd_monthly_pay  usd_per_gb  usd_per_message  \\\n",
       "0                 3000               70           7             0.01   \n",
       "1                 3000               70           7             0.01   \n",
       "2                 3000               70           7             0.01   \n",
       "3                 3000               70           7             0.01   \n",
       "4                 3000               70           7             0.01   \n",
       "...                ...              ...         ...              ...   \n",
       "1754               500               20          10             0.03   \n",
       "1755               500               20          10             0.03   \n",
       "1756               500               20          10             0.03   \n",
       "1757               500               20          10             0.03   \n",
       "1758               500               20          10             0.03   \n",
       "\n",
       "      usd_per_minute  plan_name  cost_per_extra_message  \\\n",
       "0               0.01   ultimate                    10.0   \n",
       "1               0.01   ultimate                    10.0   \n",
       "2               0.01   ultimate                    10.0   \n",
       "3               0.01   ultimate                    10.0   \n",
       "4               0.01   ultimate                    10.0   \n",
       "...              ...        ...                     ...   \n",
       "1754            0.03       surf                     1.5   \n",
       "1755            0.03       surf                     1.5   \n",
       "1756            0.03       surf                     1.5   \n",
       "1757            0.03       surf                     1.5   \n",
       "1758            0.03       surf                     1.5   \n",
       "\n",
       "      cost_per_extra_minute  cost_per_extra_mb  \n",
       "0                      30.0             215040  \n",
       "1                      30.0             215040  \n",
       "2                      30.0             215040  \n",
       "3                      30.0             215040  \n",
       "4                      30.0             215040  \n",
       "...                     ...                ...  \n",
       "1754                   15.0             153600  \n",
       "1755                   15.0             153600  \n",
       "1756                   15.0             153600  \n",
       "1757                   15.0             153600  \n",
       "1758                   15.0             153600  \n",
       "\n",
       "[1759 rows x 32 columns]"
      ]
     },
     "execution_count": 51,
     "metadata": {},
     "output_type": "execute_result"
    }
   ],
   "source": [
    "# Añade la información de la tarifa\n",
    "#unir \"user_id\" con \"consumo\"\n",
    "df_user_consumo = pd.merge(df_user, consumo, on= \"user_id\")\n",
    "\n",
    "#Unir los datos de consumo con los planes\n",
    "df_user_consumo = pd.merge(df_user_consumo, df_plans, left_on= \"plan\", right_on= \"plan_name\")\n",
    "\n",
    "df_user_consumo"
   ]
  },
  {
   "cell_type": "markdown",
   "metadata": {
    "id": "1IwGo4wg0q1I"
   },
   "source": [
    "Se Calculó los ingresos mensuales por usuario (se restó el límite del paquete gratuito del número total de llamadas, mensajes de texto y datos; multiplica el resultado por el valor del plan de llamadas; se añade la tarifa mensual en función del plan de llamadas)"
   ]
  },
  {
   "cell_type": "code",
   "execution_count": 76,
   "metadata": {
    "id": "5FGCf_c60q1I"
   },
   "outputs": [
    {
     "name": "stdout",
     "output_type": "stream",
     "text": [
      "      user_id      plan  call_year  call_month  total_minutes  message_count  \\\n",
      "531      1460  ultimate       2018           8         516.73             42   \n",
      "99       1069  ultimate       2018          10         510.03            119   \n",
      "1662     1440      surf       2018           7         636.61             36   \n",
      "664      1054      surf       2018          11         191.23             28   \n",
      "344      1274  ultimate       2018          12         334.03             17   \n",
      "\n",
      "       mb_used  total_revenue  \n",
      "531   29968.06          70.00  \n",
      "99    11498.07          70.00  \n",
      "1662  17157.74        2083.15  \n",
      "664   20537.55          62.00  \n",
      "344   17346.08          70.00  \n"
     ]
    }
   ],
   "source": [
    "# Calcula el ingreso mensual para cada usuario\n",
    "# Se calucla minutos, mensajes y mb que se utilizo de mas \"extras\"\n",
    "df_user_consumo[\"extra_minutes\"] = df_user_consumo[\"total_minutes\"] - df_user_consumo[\"minutes_included\"]\n",
    "df_user_consumo[\"extra_messages\"] = df_user_consumo[\"message_count\"] - df_user_consumo[\"messages_included\"]\n",
    "df_user_consumo[\"extra_mb\"] = df_user_consumo[\"mb_used\"] - df_user_consumo[\"mb_per_month_included\"]\n",
    "\n",
    "# Aplicar condiciones para que los valores mínimos sean 0 (no puede haber uso negativo)\n",
    "df_user_consumo[\"extra_minutes\"] = df_user_consumo[\"extra_minutes\"].apply(lambda x: x if x > 0 else 0)\n",
    "df_user_consumo[\"extra_messages\"] = df_user_consumo[\"extra_messages\"].apply(lambda x: x if x > 0 else 0)\n",
    "df_user_consumo[\"extra_mb\"] = df_user_consumo[\"extra_mb\"].apply(lambda x: x if x > 0 else 0)\n",
    "\n",
    "# Costos adicionales\n",
    "df_user_consumo[\"extra_cost_minutes\"] = df_user_consumo[\"extra_minutes\"] * df_user_consumo[\"cost_per_extra_minute\"]\n",
    "df_user_consumo[\"extra_cost_messages\"] = df_user_consumo[\"extra_messages\"] * df_user_consumo[\"cost_per_extra_message\"]\n",
    "df_user_consumo[\"extra_cost_mb\"] = (df_user_consumo[\"extra_mb\"]/1024).apply(lambda x: round (x + 0.5) * df_user_consumo[\"usd_per_gb\"])\n",
    "\n",
    "#ingreso total mensual\n",
    "df_user_consumo[\"consumo_extra_total\"] = df_user_consumo[\"extra_cost_minutes\"] + df_user_consumo[\"extra_cost_messages\"] + df_user_consumo[\"extra_cost_mb\"]\n",
    "df_user_consumo[\"total_revenue\"] = df_user_consumo[\"usd_monthly_pay\"] + df_user_consumo[\"consumo_extra_total\"]\n",
    "\n",
    "\n",
    "print(df_user_consumo[['user_id', 'plan', 'call_year', 'call_month', 'total_minutes', 'message_count', 'mb_used', 'total_revenue']].sample(5))\n"
   ]
  },
  {
   "cell_type": "markdown",
   "metadata": {
    "id": "-jtyHzJb0q1I"
   },
   "source": [
    "## Estudia el comportamiento de usuario"
   ]
  },
  {
   "cell_type": "markdown",
   "metadata": {
    "id": "AxU3Y0N70q1J"
   },
   "source": [
    "Se calculó algunas estadísticas descriptivas para los datos agregados y fusionados que nos sean útiles para que muestre un panorama general captado por los datos. Se dibuja gráficos  para facilitar la comprensión. Dado que la tarea principal es comparar las tarifas y decidir cuál es más rentable, las estadísticas y gráficas, se calculó por tarifa.\n",
    "\n"
   ]
  },
  {
   "cell_type": "markdown",
   "metadata": {
    "id": "vtW4CJEe0q1J"
   },
   "source": [
    "### Llamadas"
   ]
  },
  {
   "cell_type": "code",
   "execution_count": 101,
   "metadata": {
    "id": "Jf5v5--k0q1J"
   },
   "outputs": [
    {
     "data": {
      "image/png": "[encoded data removed]",
      "text/plain": [
       "<Figure size 1200x600 with 1 Axes>"
      ]
     },
     "metadata": {},
     "output_type": "display_data"
    }
   ],
   "source": [
    "# Compara la duración promedio de llamadas por cada plan y por cada mes. Traza un gráfico de barras para visualizarla.\n",
    "call_duration = df_user_consumo.groupby([\"plan\" , \"call_month\"])[\"total_minutes\"].mean().reset_index()\n",
    "\n",
    "# Renombrar columna\n",
    "call_duration.columns = [\"plan\", \"mes\", \"duracion promedio de Llamadas (min.)\"]\n",
    "call_duration\n",
    "\n",
    "\n",
    "#creacion de gráfico \n",
    "sns.set(style=\"whitegrid\")\n",
    "plt.figure(figsize= (12,6))\n",
    "sns.barplot(x= \"mes\", y= \"duracion promedio de Llamadas (min.)\", hue= \"plan\", data=call_duration)\n",
    "plt.title(\"Duarción promedio de la llamada por mes\")\n",
    "plt.xlabel(\"Mes\")\n",
    "plt.ylabel(\"Duracion promedio de Llamadas (min.)\")\n",
    "plt.legend(title=\"Plan\")\n",
    "\n",
    "plt.show()"
   ]
  },
  {
   "cell_type": "code",
   "execution_count": 105,
   "metadata": {
    "id": "QoLqW1S_0q1J"
   },
   "outputs": [
    {
     "data": {
      "image/png": "[encoded data removed]",
      "text/plain": [
       "<Figure size 1200x600 with 1 Axes>"
      ]
     },
     "metadata": {},
     "output_type": "display_data"
    }
   ],
   "source": [
    "#  histograma\n",
    "sns.set(style=\"whitegrid\")\n",
    "plt.figure(figsize=(12, 6))\n",
    "hist = sns.histplot(data=df_user_consumo, x='total_minutes', hue='plan', multiple='stack', bins=30, kde=True)\n",
    "\n",
    "plt.title('Distribución del Número de Minutos Mensuales por Plan')\n",
    "plt.xlabel('Número de Minutos Mensuales')\n",
    "plt.ylabel('Frecuencia')\n",
    "handles, labels = hist.get_legend_handles_labels()\n",
    "plt.legend(handles=handles, title='Plan')\n",
    "\n",
    "\n",
    "plt.show()"
   ]
  },
  {
   "cell_type": "markdown",
   "metadata": {
    "id": "bLS9T8OH0q1K"
   },
   "source": [
    "Se calculó la media y la variable de la duración de las llamadas para averiguar si los usuarios de los distintos planes se comportan de forma diferente al realizar sus llamadas."
   ]
  },
  {
   "cell_type": "code",
   "execution_count": 106,
   "metadata": {
    "id": "oSndbAnt0q1K"
   },
   "outputs": [
    {
     "data": {
      "text/html": [
       "<div>\n",
       "<style scoped>\n",
       "    .dataframe tbody tr th:only-of-type {\n",
       "        vertical-align: middle;\n",
       "    }\n",
       "\n",
       "    .dataframe tbody tr th {\n",
       "        vertical-align: top;\n",
       "    }\n",
       "\n",
       "    .dataframe thead th {\n",
       "        text-align: right;\n",
       "    }\n",
       "</style>\n",
       "<table border=\"1\" class=\"dataframe\">\n",
       "  <thead>\n",
       "    <tr style=\"text-align: right;\">\n",
       "      <th></th>\n",
       "      <th>Plan</th>\n",
       "      <th>Media de la Duración (Min.)</th>\n",
       "      <th>Varianza de la Duración(Min.)</th>\n",
       "    </tr>\n",
       "  </thead>\n",
       "  <tbody>\n",
       "    <tr>\n",
       "      <th>0</th>\n",
       "      <td>surf</td>\n",
       "      <td>420.778483</td>\n",
       "      <td>49492.562612</td>\n",
       "    </tr>\n",
       "    <tr>\n",
       "      <th>1</th>\n",
       "      <td>ultimate</td>\n",
       "      <td>417.562159</td>\n",
       "      <td>55607.233145</td>\n",
       "    </tr>\n",
       "  </tbody>\n",
       "</table>\n",
       "</div>"
      ],
      "text/plain": [
       "       Plan  Media de la Duración (Min.)  Varianza de la Duración(Min.)\n",
       "0      surf                   420.778483                   49492.562612\n",
       "1  ultimate                   417.562159                   55607.233145"
      ]
     },
     "execution_count": 106,
     "metadata": {},
     "output_type": "execute_result"
    }
   ],
   "source": [
    "# Calcula la media y la varianza de la duración mensual de llamadas.\n",
    "mean_var_duration= df_user_consumo.groupby(\"plan\")[\"total_minutes\"].agg([\"mean\", \"var\"]).reset_index()\n",
    "mean_var_duration.columns = [\"Plan\", \"Media de la Duración (Min.)\", \"Varianza de la Duración(Min.)\"]\n",
    "mean_var_duration"
   ]
  },
  {
   "cell_type": "code",
   "execution_count": 107,
   "metadata": {
    "id": "nZzoRUKc0q1K"
   },
   "outputs": [
    {
     "data": {
      "image/png": "[encoded data removed]",
      "text/plain": [
       "<Figure size 1200x600 with 1 Axes>"
      ]
     },
     "metadata": {},
     "output_type": "display_data"
    }
   ],
   "source": [
    "# Traza un diagrama de caja para visualizar la distribución de la duración mensual de llamadas\n",
    "plt.figure(figsize=(12, 6))\n",
    "sns.boxplot(x= \"plan\", y=\"total_minutes\", data= df_user_consumo)\n",
    "plt.title(\"Distribución de la Duración Mensual de Llamadas por Plan\")\n",
    "plt.xlabel(\"Plan\")\n",
    "plt.ylabel(\"Duración Mensual de Llamadas (min)\")\n",
    "\n",
    "plt.show()"
   ]
  },
  {
   "cell_type": "markdown",
   "metadata": {
    "id": "8idKy8Wh0q1L"
   },
   "source": [
    "### Mensajes"
   ]
  },
  {
   "cell_type": "code",
   "execution_count": 108,
   "metadata": {
    "id": "NXLxiTit0q1L"
   },
   "outputs": [
    {
     "data": {
      "text/plain": [
       "Text(0, 0.5, 'Número de Mensajes Mensuales')"
      ]
     },
     "execution_count": 108,
     "metadata": {},
     "output_type": "execute_result"
    },
    {
     "data": {
      "image/png": "[encoded data removed]",
      "text/plain": [
       "<Figure size 1200x600 with 1 Axes>"
      ]
     },
     "metadata": {},
     "output_type": "display_data"
    }
   ],
   "source": [
    "# Comprara el número de mensajes que tienden a enviar cada mes los usuarios de cada plan\n",
    "mean_var_messages = df_user_consumo.groupby('plan')['message_count'].agg(['mean', 'var']).reset_index()\n",
    "mean_var_messages.columns = ['Plan', 'Media de Mensajes', 'Varianza de Mensajes']\n",
    "\n",
    "# grafico de bigotes\n",
    "sns.set(style=\"whitegrid\")\n",
    "plt.figure(figsize=(12, 6))\n",
    "sns.boxplot(x='plan', y='message_count', data=df_user_consumo)\n",
    "\n",
    "plt.title('Distribución del Número de Mensajes Enviados Mensualmente por Plan')\n",
    "plt.xlabel('Plan')\n",
    "plt.ylabel('Número de Mensajes Mensuales')"
   ]
  },
  {
   "cell_type": "code",
   "execution_count": null,
   "metadata": {
    "id": "GRI_R7xF0q1L"
   },
   "outputs": [],
   "source": [
    "# Compara la cantidad de tráfico de Internet consumido por usuarios por plan\n",
    "mean_var_internet = df_user_consumo.groupby('plan')['mb_used'].agg(['mean', 'var']).reset_index()\n",
    "mean_var_internet.columns = ['Plan', 'Media de MB Consumidos', 'Varianza de MB Consumidos']\n"
   ]
  },
  {
   "cell_type": "code",
   "execution_count": 109,
   "metadata": {
    "id": "dtFwCGAp0q1M"
   },
   "outputs": [
    {
     "data": {
      "image/png": "[encoded data removed]",
      "text/plain": [
       "<Figure size 1200x600 with 1 Axes>"
      ]
     },
     "metadata": {},
     "output_type": "display_data"
    }
   ],
   "source": [
    "sns.set(style=\"whitegrid\")\n",
    "plt.figure(figsize=(12, 6))\n",
    "sns.boxplot(x='plan', y='mb_used', data=df_user_consumo)\n",
    "\n",
    "plt.title('Distribución del Tráfico de Internet Consumido Mensualmente por Plan')\n",
    "plt.xlabel('Plan')\n",
    "plt.ylabel('Tráfico de Internet Mensual (MB)')\n",
    "\n",
    "plt.show()"
   ]
  },
  {
   "cell_type": "markdown",
   "metadata": {},
   "source": [
    "Media de Mensajes: Los usuarios del plan Ultimate(69.98) envían en promedio más mensajes que los usuarios del plan Surf(33.39).\n",
    "\n",
    "\n",
    "Varianza de Mensajes: La varianza es mayor en el plan Ultimate, lo que indica una mayor dispersión en el número de mensajes enviados entre los usuarios de este plan.\n",
    "\n",
    "\n",
    "Distribución: El diagrama de caja muestra que los usuarios del plan Ultimate tienden a enviar significativamente más mensajes mensuales comparado con los usuarios del plan Surf, lo que se observa en la posición de la mediana y la amplitud de los cuartiles."
   ]
  },
  {
   "cell_type": "markdown",
   "metadata": {
    "id": "42YSypXz0q1M"
   },
   "source": [
    "### Internet"
   ]
  },
  {
   "cell_type": "markdown",
   "metadata": {
    "id": "lSuKPtjh0q1M"
   },
   "source": [
    "Media de MB Consumidos: Los usuarios del plan Ultimate(17225.05) consumen en promedio un poco más de tráfico de Internet que los usuarios del plan Surf(16235.37), aunque la diferencia no es muy grande."
   ]
  },
  {
   "cell_type": "markdown",
   "metadata": {
    "id": "wnh8jYXi0q1N"
   },
   "source": [
    "Varianza de MB Consumidos: La varianza es mayor en el plan Surf, lo que indica una mayor dispersión en el consumo de tráfico de Internet entre los usuarios de este plan."
   ]
  },
  {
   "cell_type": "markdown",
   "metadata": {
    "id": "5VlyJ9ry0q1N"
   },
   "source": [
    "Distribución: El diagrama de caja muestra que ambos planes tienen una distribución similar en términos de tráfico de Internet consumido, pero hay una ligera tendencia a un mayor consumo en el plan Ultimate."
   ]
  },
  {
   "cell_type": "markdown",
   "metadata": {
    "id": "tCijq3260q1N"
   },
   "source": [
    "## Ingreso"
   ]
  },
  {
   "cell_type": "code",
   "execution_count": null,
   "metadata": {
    "id": "tz-dq_V00q1O"
   },
   "outputs": [],
   "source": [
    "# Calcular estadísticas descriptivas para los ingresos mensuales por plan\n",
    "mean_var_income = df_user_consumo.groupby('plan')['total_revenue'].agg(['mean', 'var']).reset_index()\n",
    "mean_var_income.columns = ['Plan', 'Media de Ingresos', 'Varianza de Ingresos']"
   ]
  },
  {
   "cell_type": "code",
   "execution_count": 110,
   "metadata": {
    "id": "0Y1v8ZUz0q1P"
   },
   "outputs": [
    {
     "data": {
      "image/png": "[encoded data removed]",
      "text/plain": [
       "<Figure size 1200x600 with 1 Axes>"
      ]
     },
     "metadata": {},
     "output_type": "display_data"
    }
   ],
   "source": [
    "# Gráfica de bigotes\n",
    "sns.set(style=\"whitegrid\")\n",
    "plt.figure(figsize=(12, 6))\n",
    "sns.boxplot(x='plan', y='total_revenue', data=df_user_consumo)\n",
    "\n",
    "plt.title('Distribución de los Ingresos Mensuales por Plan')\n",
    "plt.xlabel('Plan')\n",
    "plt.ylabel('Ingresos Mensuales ($)')\n",
    "\n",
    "plt.show()"
   ]
  },
  {
   "cell_type": "markdown",
   "metadata": {
    "id": "bYmwxyVh0q1P"
   },
   "source": [
    "Plan Surf: El diagrama de caja muestra una distribución con una mayor amplitud entre los cuartiles y posibles valores atípicos en la parte superior, indicando una mayor variabilidad en los ingresos.\n",
    "\n",
    "Plan Ultimate: El diagrama de caja muestra una distribución más compacta con menos variabilidad y valores atípicos, lo que sugiere ingresos más estables y predecibles."
   ]
  },
  {
   "cell_type": "markdown",
   "metadata": {
    "id": "ajJ7VKeI0q1Q"
   },
   "source": [
    "## Prueba las hipótesis estadísticas"
   ]
  },
  {
   "cell_type": "code",
   "execution_count": 112,
   "metadata": {
    "id": "nFoPNlPq0q1R"
   },
   "outputs": [
    {
     "name": "stdout",
     "output_type": "stream",
     "text": [
      "Valor p: 2.4164354331761518e-48\n",
      "Rechazamos la hipótesis nula: Hay una diferencia significativa en los ingresos promedio entre los planes.\n"
     ]
    }
   ],
   "source": [
    "# Prueba las hipótesis\n",
    "import scipy.stats as stats\n",
    "\n",
    "# ingresos por plan\n",
    "ingresos_surf = df_user_consumo[df_user_consumo['plan'] == 'surf']['total_revenue']\n",
    "ingresos_ultimate = df_user_consumo[df_user_consumo['plan'] == 'ultimate']['total_revenue']\n",
    "\n",
    "# Realizar la prueba t de Student para dos muestras independientes\n",
    "t_stat, p_value = stats.ttest_ind(ingresos_surf, ingresos_ultimate, equal_var=False)\n",
    "\n",
    "print(f'Valor p: {p_value}')\n",
    "\n",
    "#usare el valor 0.05 por que es el valor predeterminado\n",
    "alpha = 0.05\n",
    "\n",
    "\n",
    "if p_value < alpha:\n",
    "    print(\"Rechazamos la hipótesis nula: Hay una diferencia significativa en los ingresos promedio entre los planes.\")\n",
    "else:\n",
    "    print(\"No rechazamos la hipótesis nula: No hay una diferencia significativa en los ingresos promedio entre los planes.\")\n",
    "\n"
   ]
  },
  {
   "cell_type": "markdown",
   "metadata": {
    "id": "tCcAruM60q1R"
   },
   "source": [
    "Prueba la hipótesis de que el ingreso promedio de los usuarios del área NY-NJ es diferente al de los usuarios de otras regiones."
   ]
  },
  {
   "cell_type": "markdown",
   "metadata": {
    "id": "LsBgitqj0q1R"
   },
   "source": [
    "Se eaboró las hipótesis nula y alternativa, escoge la prueba estadística, determina el valor alfa."
   ]
  },
  {
   "cell_type": "code",
   "execution_count": 113,
   "metadata": {
    "id": "Cqcj7wrZ0q1S"
   },
   "outputs": [
    {
     "name": "stdout",
     "output_type": "stream",
     "text": [
      "Valor p: 0.7351855225789694\n",
      "No rechazamos la hipótesis nula: No hay una diferencia significativa en los ingresos promedio entre los usuarios del área NY-NJ y los usuarios de otras regiones.\n"
     ]
    }
   ],
   "source": [
    "# Prueba las hipótesis\n",
    "import scipy.stats as stats\n",
    "\n",
    "# Definir las áreas NY-NJ\n",
    "ny_nj_area = df_user_consumo['city'].str.contains('New York-Newark-Jersey City, NY-NJ-PA MSA')\n",
    "\n",
    "# Separación por área geográfica\n",
    "ingresos_ny_nj = df_user_consumo[ny_nj_area]['total_revenue']\n",
    "ingresos_otras_regiones = df_user_consumo[~ny_nj_area]['total_revenue']\n",
    "\n",
    "# Realizar la prueba t \n",
    "t_stat, p_value = stats.ttest_ind(ingresos_ny_nj, ingresos_otras_regiones, equal_var=False)\n",
    "\n",
    "\n",
    "print(f'Valor p: {p_value}')\n",
    "\n",
    "# Determinar el nivel de significancia\n",
    "alpha = 0.05\n",
    "\n",
    "# Evaluar el resultado\n",
    "if p_value < alpha:\n",
    "    print(\"Rechazamos la hipótesis nula: Hay una diferencia significativa en los ingresos promedio entre los usuarios del área NY-NJ y los usuarios de otras regiones.\")\n",
    "else:\n",
    "    print(\"No rechazamos la hipótesis nula: No hay una diferencia significativa en los ingresos promedio entre los usuarios del área NY-NJ y los usuarios de otras regiones.\")\n",
    "\n"
   ]
  },
  {
   "cell_type": "markdown",
   "metadata": {
    "id": "bbTR8UQO0q1T"
   },
   "source": [
    "## Conclusión general\n",
    "\n",
    "\n"
   ]
  },
  {
   "cell_type": "markdown",
   "metadata": {},
   "source": [
    "Análisis del Comportamiento de los Usuarios\n",
    "\n",
    "    Duración de Llamadas: No se visualizan diferencias importantes en la duración promedio de las llamadas entre los planes Surf y Ultimate.\n",
    "    \n",
    "    Mensajes Enviados: Los usuarios del plan Ultimate envían ligeramente más mensajes que los usuarios del plan Surf.\n",
    "    \n",
    "    Tráfico de Internet: Los usuarios del plan Ultimate consumen en promedio más tráfico de Internet, la diferencia no es significativa.\n",
    "\n",
    "Análisis de Ingresos\n",
    "\n",
    "    Ingresos Promedios: La media de ingresos para el plan Surf es minimamente superior a la del plan Ultimate, pero los ingresos del plan Ultimate son más consistentes y menos variables.\n",
    "    \n",
    "    Varianza de Ingresos: La varianza de los ingresos es significativamente mayor en el plan Surf, indicando una mayor dispersión en los ingresos generados.\n",
    "    \n",
    "    Distribución de Ingresos: El diagrama de caja o bigote arroja que los ingresos del plan Surf tienen una mayor variabilidad, mientras que los ingresos del plan Ultimate son más estables.\n",
    "\n",
    "Pruebas de Hipótesis\n",
    "\n",
    "    Diferencia en Ingresos por Plan: La prueba t de Student indicó que hay una diferencia significativa en los ingresos promedio entre los planes Ultimate y Surf.\n",
    "    \n",
    "    \n",
    "    Diferencia en Ingresos por Región: La prueba t de Student indicó que no hay una diferencia significativa en los ingresos promedio entre los usuarios del área NY-NJ y los usuarios de otras regiones."
   ]
  },
  {
   "cell_type": "markdown",
   "metadata": {},
   "source": [
    " Recomendaciones\n",
    "\n",
    "    Evaluar el Plan Ultimate: Aunque el plan Surf tiene ingresos ligeramente más altos, la consistencia y estabilidad de los ingresos del plan Ultimate pueden ser más beneficiosas para la planificación financiera a largo plazo.\n",
    "    \n",
    "    \n",
    "    Optimizar Planes: Considerar ajustes en los planes para equilibrar mejor los costos adicionales y las tarifas básicas, potenciando los beneficios del plan Ultimate, para que los clientes tengan una predilección sobre el plan Ultime.\n",
    "    \n",
    "  "
   ]
  }
 ],
 "metadata": {
  "ExecuteTimeLog": [
   {
    "duration": 828,
    "start_time": "2021-11-16T09:21:11.304Z"
   },
   {
    "duration": 893,
    "start_time": "2021-11-16T09:21:17.728Z"
   },
   {
    "duration": 1150,
    "start_time": "2021-11-16T09:21:29.568Z"
   },
   {
    "duration": 3,
    "start_time": "2021-11-16T09:24:14.495Z"
   },
   {
    "duration": 120,
    "start_time": "2021-11-16T09:24:46.630Z"
   },
   {
    "duration": 3,
    "start_time": "2021-11-16T09:28:27.882Z"
   },
   {
    "duration": 4,
    "start_time": "2021-11-16T09:29:54.281Z"
   },
   {
    "duration": 3,
    "start_time": "2021-11-16T09:30:45.936Z"
   },
   {
    "duration": 4,
    "start_time": "2021-11-16T09:31:06.300Z"
   },
   {
    "duration": 113,
    "start_time": "2021-11-16T09:31:37.208Z"
   },
   {
    "duration": 143,
    "start_time": "2021-11-16T09:31:48.656Z"
   },
   {
    "duration": 98,
    "start_time": "2021-11-16T09:31:55.678Z"
   },
   {
    "duration": 3,
    "start_time": "2021-11-16T09:32:08.535Z"
   },
   {
    "duration": 111,
    "start_time": "2021-11-16T09:32:10.120Z"
   },
   {
    "duration": 3,
    "start_time": "2021-11-16T09:32:15.732Z"
   },
   {
    "duration": 4,
    "start_time": "2021-11-16T09:32:29.423Z"
   },
   {
    "duration": 3,
    "start_time": "2021-11-16T10:03:03.074Z"
   },
   {
    "duration": 3,
    "start_time": "2021-11-16T10:10:01.288Z"
   },
   {
    "duration": 3,
    "start_time": "2021-11-16T10:10:46.923Z"
   },
   {
    "duration": 121,
    "start_time": "2021-11-16T10:37:46.494Z"
   },
   {
    "duration": 125,
    "start_time": "2021-11-16T10:38:20.632Z"
   },
   {
    "duration": 112,
    "start_time": "2021-11-16T10:46:53.001Z"
   },
   {
    "duration": 110,
    "start_time": "2021-11-16T10:48:25.775Z"
   },
   {
    "duration": 3,
    "start_time": "2021-11-16T10:50:18.720Z"
   },
   {
    "duration": 4,
    "start_time": "2021-11-16T10:50:37.649Z"
   },
   {
    "duration": 2,
    "start_time": "2021-11-16T10:50:51.884Z"
   },
   {
    "duration": 3,
    "start_time": "2021-11-16T10:51:56.237Z"
   },
   {
    "duration": 101,
    "start_time": "2021-11-16T10:53:13.791Z"
   },
   {
    "duration": 3,
    "start_time": "2021-11-16T10:55:59.186Z"
   },
   {
    "duration": 3,
    "start_time": "2021-11-16T10:56:10.751Z"
   },
   {
    "duration": 3,
    "start_time": "2021-11-16T10:56:49.038Z"
   },
   {
    "duration": 3,
    "start_time": "2021-11-16T10:56:49.174Z"
   },
   {
    "duration": 4,
    "start_time": "2021-11-16T10:56:49.414Z"
   },
   {
    "duration": 3,
    "start_time": "2021-11-16T10:56:49.680Z"
   },
   {
    "duration": 3,
    "start_time": "2021-11-16T10:56:50.370Z"
   },
   {
    "duration": 114,
    "start_time": "2021-11-16T10:59:34.518Z"
   },
   {
    "duration": 3,
    "start_time": "2021-11-16T11:01:41.201Z"
   },
   {
    "duration": 116,
    "start_time": "2021-11-16T11:01:48.754Z"
   },
   {
    "duration": 3,
    "start_time": "2021-11-16T11:02:16.685Z"
   },
   {
    "duration": 3,
    "start_time": "2021-11-16T11:02:19.479Z"
   },
   {
    "duration": 3,
    "start_time": "2021-11-16T11:02:47.067Z"
   },
   {
    "duration": 3,
    "start_time": "2021-11-16T11:02:49.353Z"
   },
   {
    "duration": 3,
    "start_time": "2021-11-16T11:03:07.835Z"
   },
   {
    "duration": 3,
    "start_time": "2021-11-16T11:03:07.953Z"
   },
   {
    "duration": 112,
    "start_time": "2021-11-16T11:07:52.072Z"
   },
   {
    "duration": 187,
    "start_time": "2021-11-16T11:09:23.468Z"
   },
   {
    "duration": 4,
    "start_time": "2021-11-16T11:10:01.455Z"
   },
   {
    "duration": 3,
    "start_time": "2021-11-16T11:10:05.069Z"
   },
   {
    "duration": 4,
    "start_time": "2021-11-16T11:10:13.376Z"
   },
   {
    "duration": 3,
    "start_time": "2021-11-16T11:10:14.434Z"
   },
   {
    "duration": 3,
    "start_time": "2021-11-16T11:10:22.853Z"
   },
   {
    "duration": 4,
    "start_time": "2021-11-16T11:27:29.279Z"
   },
   {
    "duration": 4,
    "start_time": "2021-11-16T11:29:08.919Z"
   },
   {
    "duration": 118,
    "start_time": "2021-11-16T11:29:46.703Z"
   },
   {
    "duration": 437,
    "start_time": "2021-11-16T11:36:02.181Z"
   },
   {
    "duration": 157,
    "start_time": "2021-11-16T11:36:14.388Z"
   },
   {
    "duration": 207,
    "start_time": "2021-11-16T11:47:15.898Z"
   },
   {
    "duration": 3,
    "start_time": "2021-11-16T11:53:52.092Z"
   },
   {
    "duration": 3,
    "start_time": "2021-11-16T11:53:52.236Z"
   },
   {
    "duration": 3,
    "start_time": "2021-11-16T11:59:12.005Z"
   },
   {
    "duration": 112,
    "start_time": "2021-11-16T12:00:33.446Z"
   },
   {
    "duration": 3,
    "start_time": "2021-11-16T12:02:14.453Z"
   },
   {
    "duration": 3,
    "start_time": "2021-11-16T12:02:39.512Z"
   },
   {
    "duration": 106,
    "start_time": "2021-11-16T12:03:03.460Z"
   },
   {
    "duration": 3,
    "start_time": "2021-11-17T20:37:21.139Z"
   },
   {
    "duration": 3,
    "start_time": "2021-11-17T20:37:22.229Z"
   },
   {
    "duration": 3,
    "start_time": "2021-11-17T20:38:38.806Z"
   },
   {
    "duration": 3,
    "start_time": "2021-11-17T20:38:41.958Z"
   },
   {
    "duration": 3,
    "start_time": "2021-11-17T20:43:46.551Z"
   },
   {
    "duration": 4,
    "start_time": "2021-11-17T20:58:21.835Z"
   },
   {
    "duration": 3,
    "start_time": "2021-11-17T20:59:21.872Z"
   },
   {
    "duration": 4,
    "start_time": "2021-11-17T20:59:45.352Z"
   },
   {
    "duration": 4,
    "start_time": "2021-11-17T20:59:49.646Z"
   },
   {
    "duration": 159,
    "start_time": "2021-11-17T21:02:26.949Z"
   },
   {
    "duration": 3,
    "start_time": "2021-11-17T21:03:53.461Z"
   },
   {
    "duration": 3,
    "start_time": "2021-11-17T21:03:53.694Z"
   },
   {
    "duration": 3,
    "start_time": "2021-11-17T21:05:28.145Z"
   },
   {
    "duration": 116,
    "start_time": "2021-11-17T21:05:57.787Z"
   },
   {
    "duration": 3,
    "start_time": "2021-11-17T21:06:37.993Z"
   },
   {
    "duration": 3,
    "start_time": "2021-11-17T21:06:38.261Z"
   },
   {
    "duration": 3,
    "start_time": "2021-11-17T21:11:54.358Z"
   },
   {
    "duration": 3,
    "start_time": "2021-11-17T21:12:43.846Z"
   },
   {
    "duration": 4,
    "start_time": "2021-11-17T21:13:08.773Z"
   },
   {
    "duration": 3,
    "start_time": "2021-11-17T21:14:44.441Z"
   },
   {
    "duration": 3,
    "start_time": "2021-11-17T21:15:42.059Z"
   },
   {
    "duration": 4,
    "start_time": "2021-11-17T21:15:51.995Z"
   },
   {
    "duration": 3,
    "start_time": "2021-11-17T21:15:53.923Z"
   },
   {
    "duration": 3,
    "start_time": "2021-11-17T21:15:55.282Z"
   },
   {
    "duration": 3,
    "start_time": "2021-11-17T21:16:28.492Z"
   },
   {
    "duration": 3,
    "start_time": "2021-11-17T21:16:32.603Z"
   },
   {
    "duration": 3,
    "start_time": "2021-11-17T21:17:06.941Z"
   },
   {
    "duration": 98,
    "start_time": "2021-11-17T21:18:05.733Z"
   },
   {
    "duration": 4,
    "start_time": "2021-11-17T21:21:35.255Z"
   },
   {
    "duration": 3,
    "start_time": "2021-11-17T21:21:37.804Z"
   },
   {
    "duration": 4,
    "start_time": "2021-11-17T21:23:06.071Z"
   },
   {
    "duration": 3,
    "start_time": "2021-11-17T21:23:24.799Z"
   },
   {
    "duration": 3,
    "start_time": "2021-11-17T21:23:32.591Z"
   },
   {
    "duration": 98,
    "start_time": "2021-11-17T21:28:31.559Z"
   },
   {
    "duration": 3,
    "start_time": "2021-11-17T21:28:45.448Z"
   },
   {
    "duration": 3,
    "start_time": "2021-11-17T21:29:17.303Z"
   },
   {
    "duration": 3,
    "start_time": "2021-11-17T21:29:29.617Z"
   },
   {
    "duration": 3,
    "start_time": "2021-11-17T21:29:32.681Z"
   },
   {
    "duration": 3,
    "start_time": "2021-11-17T21:36:11.474Z"
   },
   {
    "duration": 3,
    "start_time": "2021-11-17T21:36:14.791Z"
   },
   {
    "duration": 3,
    "start_time": "2021-11-17T21:36:53.943Z"
   },
   {
    "duration": 3,
    "start_time": "2021-11-17T21:36:56.165Z"
   },
   {
    "duration": 4,
    "start_time": "2021-11-17T21:37:16.590Z"
   },
   {
    "duration": 3,
    "start_time": "2021-11-17T21:37:22.702Z"
   },
   {
    "duration": 4,
    "start_time": "2021-11-17T21:38:03.479Z"
   },
   {
    "duration": 3,
    "start_time": "2021-11-17T21:38:08.601Z"
   },
   {
    "duration": 3,
    "start_time": "2021-11-17T21:38:12.928Z"
   },
   {
    "duration": 3,
    "start_time": "2021-11-17T21:38:48.896Z"
   },
   {
    "duration": 2,
    "start_time": "2021-11-17T21:38:49.171Z"
   },
   {
    "duration": 4,
    "start_time": "2021-11-17T21:39:57.889Z"
   },
   {
    "duration": 3,
    "start_time": "2021-11-17T21:39:58.057Z"
   },
   {
    "duration": 3,
    "start_time": "2021-11-17T21:41:20.108Z"
   },
   {
    "duration": 3,
    "start_time": "2021-11-17T21:41:20.629Z"
   },
   {
    "duration": 3,
    "start_time": "2021-11-17T21:42:49.136Z"
   },
   {
    "duration": 3,
    "start_time": "2021-11-17T21:43:15.137Z"
   },
   {
    "duration": 4,
    "start_time": "2021-11-17T21:43:16.766Z"
   },
   {
    "duration": 4,
    "start_time": "2021-11-17T21:43:31.711Z"
   },
   {
    "duration": 3,
    "start_time": "2021-11-17T21:43:36.312Z"
   },
   {
    "duration": 4,
    "start_time": "2021-11-17T21:45:08.825Z"
   },
   {
    "duration": 4,
    "start_time": "2021-11-17T21:45:10.119Z"
   },
   {
    "duration": 4,
    "start_time": "2021-11-17T21:45:13.748Z"
   },
   {
    "duration": 3,
    "start_time": "2021-11-17T21:45:22.219Z"
   },
   {
    "duration": 3,
    "start_time": "2021-11-17T21:45:33.412Z"
   },
   {
    "duration": 2,
    "start_time": "2021-11-17T21:46:01.885Z"
   },
   {
    "duration": 3,
    "start_time": "2021-11-17T21:46:03.628Z"
   },
   {
    "duration": 107,
    "start_time": "2021-11-17T21:47:32.512Z"
   },
   {
    "duration": 103,
    "start_time": "2021-11-17T21:50:36.243Z"
   },
   {
    "duration": 3,
    "start_time": "2021-11-18T06:28:31.440Z"
   },
   {
    "duration": 3,
    "start_time": "2021-11-18T06:29:00.168Z"
   },
   {
    "duration": 3,
    "start_time": "2021-11-18T06:31:27.008Z"
   },
   {
    "duration": 2,
    "start_time": "2021-11-18T06:35:34.288Z"
   },
   {
    "duration": 2,
    "start_time": "2021-11-18T06:38:04.527Z"
   },
   {
    "duration": 12,
    "start_time": "2024-06-02T07:13:17.371Z"
   },
   {
    "duration": 5,
    "start_time": "2024-06-02T07:15:21.992Z"
   },
   {
    "duration": 6,
    "start_time": "2024-06-02T07:15:41.015Z"
   },
   {
    "duration": 439,
    "start_time": "2024-06-02T07:48:17.956Z"
   },
   {
    "duration": 6,
    "start_time": "2024-06-02T07:48:19.897Z"
   },
   {
    "duration": 6,
    "start_time": "2024-06-02T07:48:49.825Z"
   },
   {
    "duration": 5,
    "start_time": "2024-06-02T07:59:53.977Z"
   },
   {
    "duration": 333,
    "start_time": "2024-06-02T07:59:57.841Z"
   },
   {
    "duration": 5,
    "start_time": "2024-06-02T08:00:03.198Z"
   },
   {
    "duration": 3,
    "start_time": "2024-06-02T08:00:46.758Z"
   },
   {
    "duration": 5,
    "start_time": "2024-06-02T08:00:47.750Z"
   },
   {
    "duration": 9,
    "start_time": "2024-06-02T08:14:12.183Z"
   },
   {
    "duration": 7,
    "start_time": "2024-06-02T08:16:08.866Z"
   },
   {
    "duration": 174,
    "start_time": "2024-06-02T08:16:17.225Z"
   },
   {
    "duration": 14,
    "start_time": "2024-06-02T08:24:22.475Z"
   },
   {
    "duration": 24,
    "start_time": "2024-06-02T08:33:07.385Z"
   },
   {
    "duration": 18,
    "start_time": "2024-06-02T08:33:39.745Z"
   },
   {
    "duration": 24,
    "start_time": "2024-06-02T08:34:27.393Z"
   },
   {
    "duration": 19,
    "start_time": "2024-06-02T08:35:08.487Z"
   },
   {
    "duration": 14,
    "start_time": "2024-06-02T08:35:09.143Z"
   },
   {
    "duration": 177,
    "start_time": "2024-06-02T08:36:24.804Z"
   },
   {
    "duration": 11,
    "start_time": "2024-06-02T08:37:14.790Z"
   },
   {
    "duration": 19,
    "start_time": "2024-06-02T08:37:26.359Z"
   },
   {
    "duration": 29,
    "start_time": "2024-06-02T08:37:45.302Z"
   },
   {
    "duration": 108,
    "start_time": "2024-06-02T08:38:31.868Z"
   },
   {
    "duration": 12,
    "start_time": "2024-06-02T08:39:21.447Z"
   },
   {
    "duration": 27,
    "start_time": "2024-06-02T08:39:41.732Z"
   },
   {
    "duration": 23,
    "start_time": "2024-06-02T08:39:48.412Z"
   },
   {
    "duration": 19,
    "start_time": "2024-06-02T08:39:54.066Z"
   },
   {
    "duration": 10,
    "start_time": "2024-06-02T08:40:00.214Z"
   },
   {
    "duration": 16,
    "start_time": "2024-06-02T08:40:22.049Z"
   },
   {
    "duration": 21,
    "start_time": "2024-06-02T09:17:59.517Z"
   },
   {
    "duration": 138,
    "start_time": "2024-06-02T09:18:02.900Z"
   },
   {
    "duration": 13,
    "start_time": "2024-06-02T09:18:08.207Z"
   },
   {
    "duration": 23,
    "start_time": "2024-06-02T09:18:11.113Z"
   },
   {
    "duration": 22,
    "start_time": "2024-06-02T09:18:44.897Z"
   },
   {
    "duration": 23,
    "start_time": "2024-06-02T09:18:47.108Z"
   },
   {
    "duration": 12,
    "start_time": "2024-06-02T09:18:47.756Z"
   },
   {
    "duration": 36,
    "start_time": "2024-06-02T09:18:48.391Z"
   },
   {
    "duration": 14,
    "start_time": "2024-06-02T09:33:34.859Z"
   },
   {
    "duration": 13,
    "start_time": "2024-06-02T09:34:10.398Z"
   },
   {
    "duration": 15,
    "start_time": "2024-06-02T09:34:22.691Z"
   },
   {
    "duration": 16,
    "start_time": "2024-06-02T09:34:55.773Z"
   },
   {
    "duration": 14,
    "start_time": "2024-06-02T09:35:12.138Z"
   },
   {
    "duration": 13,
    "start_time": "2024-06-02T09:35:25.654Z"
   },
   {
    "duration": 16,
    "start_time": "2024-06-02T09:35:43.190Z"
   },
   {
    "duration": 10,
    "start_time": "2024-06-02T09:36:04.156Z"
   },
   {
    "duration": 13,
    "start_time": "2024-06-02T09:36:38.265Z"
   },
   {
    "duration": 12,
    "start_time": "2024-06-02T09:37:28.226Z"
   },
   {
    "duration": 15,
    "start_time": "2024-06-02T09:37:45.002Z"
   },
   {
    "duration": 11,
    "start_time": "2024-06-02T09:37:57.854Z"
   },
   {
    "duration": 543,
    "start_time": "2024-06-02T09:38:12.775Z"
   },
   {
    "duration": 13,
    "start_time": "2024-06-02T09:38:19.460Z"
   },
   {
    "duration": 44,
    "start_time": "2024-06-02T09:38:20.493Z"
   },
   {
    "duration": 12,
    "start_time": "2024-06-02T09:38:30.253Z"
   },
   {
    "duration": 52,
    "start_time": "2024-06-02T09:38:34.718Z"
   },
   {
    "duration": 46,
    "start_time": "2024-06-02T09:38:39.177Z"
   },
   {
    "duration": 44,
    "start_time": "2024-06-02T09:38:42.338Z"
   },
   {
    "duration": 12,
    "start_time": "2024-06-02T09:38:45.926Z"
   },
   {
    "duration": 12,
    "start_time": "2024-06-02T09:38:54.375Z"
   },
   {
    "duration": 11,
    "start_time": "2024-06-02T09:39:29.587Z"
   },
   {
    "duration": 6,
    "start_time": "2024-06-02T09:40:00.287Z"
   },
   {
    "duration": 21,
    "start_time": "2024-06-02T09:46:39.272Z"
   },
   {
    "duration": 13,
    "start_time": "2024-06-02T09:46:58.146Z"
   },
   {
    "duration": 13,
    "start_time": "2024-06-02T09:47:25.120Z"
   },
   {
    "duration": 13,
    "start_time": "2024-06-02T09:47:50.543Z"
   },
   {
    "duration": 14,
    "start_time": "2024-06-02T10:08:41.956Z"
   },
   {
    "duration": 13,
    "start_time": "2024-06-02T10:08:59.332Z"
   },
   {
    "duration": 16,
    "start_time": "2024-06-02T10:09:40.947Z"
   },
   {
    "duration": 16,
    "start_time": "2024-06-02T10:09:47.177Z"
   },
   {
    "duration": 22,
    "start_time": "2024-06-02T10:09:50.808Z"
   },
   {
    "duration": 16,
    "start_time": "2024-06-02T10:10:39.878Z"
   },
   {
    "duration": 139,
    "start_time": "2024-06-04T03:03:42.922Z"
   },
   {
    "duration": 23,
    "start_time": "2024-06-04T03:03:48.749Z"
   },
   {
    "duration": 22,
    "start_time": "2024-06-04T03:03:54.409Z"
   },
   {
    "duration": 33,
    "start_time": "2024-06-04T03:04:01.660Z"
   },
   {
    "duration": 20,
    "start_time": "2024-06-04T03:04:23.367Z"
   },
   {
    "duration": 527,
    "start_time": "2024-06-04T03:04:33.644Z"
   },
   {
    "duration": 24,
    "start_time": "2024-06-04T03:04:34.176Z"
   },
   {
    "duration": 45,
    "start_time": "2024-06-04T03:04:34.204Z"
   },
   {
    "duration": 19,
    "start_time": "2024-06-04T03:04:34.255Z"
   },
   {
    "duration": 60,
    "start_time": "2024-06-04T03:04:34.278Z"
   },
   {
    "duration": 160,
    "start_time": "2024-06-04T03:04:34.341Z"
   },
   {
    "duration": 24,
    "start_time": "2024-06-04T03:04:34.504Z"
   },
   {
    "duration": 19,
    "start_time": "2024-06-04T03:04:34.531Z"
   },
   {
    "duration": 32,
    "start_time": "2024-06-04T03:04:34.555Z"
   },
   {
    "duration": 76,
    "start_time": "2024-06-04T03:04:34.627Z"
   },
   {
    "duration": 24,
    "start_time": "2024-06-04T03:04:34.710Z"
   },
   {
    "duration": 15,
    "start_time": "2024-06-04T03:04:34.737Z"
   },
   {
    "duration": 20,
    "start_time": "2024-06-04T03:04:34.756Z"
   },
   {
    "duration": 209,
    "start_time": "2024-06-04T03:04:34.780Z"
   },
   {
    "duration": 16,
    "start_time": "2024-06-04T03:04:34.992Z"
   },
   {
    "duration": 33,
    "start_time": "2024-06-04T03:04:35.012Z"
   },
   {
    "duration": 33,
    "start_time": "2024-06-04T03:04:35.048Z"
   },
   {
    "duration": 53,
    "start_time": "2024-06-04T03:04:35.084Z"
   },
   {
    "duration": 13,
    "start_time": "2024-06-04T03:04:35.140Z"
   },
   {
    "duration": 73,
    "start_time": "2024-06-04T03:04:35.157Z"
   },
   {
    "duration": 15,
    "start_time": "2024-06-04T03:04:35.234Z"
   },
   {
    "duration": 13,
    "start_time": "2024-06-04T03:04:35.253Z"
   },
   {
    "duration": 56,
    "start_time": "2024-06-04T03:04:35.270Z"
   },
   {
    "duration": 19,
    "start_time": "2024-06-04T03:04:35.330Z"
   },
   {
    "duration": 188,
    "start_time": "2024-06-04T03:04:35.352Z"
   },
   {
    "duration": 0,
    "start_time": "2024-06-04T03:04:35.545Z"
   },
   {
    "duration": 0,
    "start_time": "2024-06-04T03:04:35.549Z"
   },
   {
    "duration": 0,
    "start_time": "2024-06-04T03:04:35.552Z"
   },
   {
    "duration": 0,
    "start_time": "2024-06-04T03:04:35.554Z"
   },
   {
    "duration": 0,
    "start_time": "2024-06-04T03:04:35.556Z"
   },
   {
    "duration": 0,
    "start_time": "2024-06-04T03:04:35.559Z"
   },
   {
    "duration": 0,
    "start_time": "2024-06-04T03:04:35.562Z"
   },
   {
    "duration": 0,
    "start_time": "2024-06-04T03:04:35.564Z"
   },
   {
    "duration": 0,
    "start_time": "2024-06-04T03:04:35.568Z"
   },
   {
    "duration": 0,
    "start_time": "2024-06-04T03:04:35.570Z"
   },
   {
    "duration": 1,
    "start_time": "2024-06-04T03:04:35.573Z"
   },
   {
    "duration": 0,
    "start_time": "2024-06-04T03:04:35.576Z"
   },
   {
    "duration": 0,
    "start_time": "2024-06-04T03:04:35.578Z"
   },
   {
    "duration": 0,
    "start_time": "2024-06-04T03:04:35.626Z"
   },
   {
    "duration": 0,
    "start_time": "2024-06-04T03:04:35.631Z"
   },
   {
    "duration": 0,
    "start_time": "2024-06-04T03:04:35.633Z"
   },
   {
    "duration": 0,
    "start_time": "2024-06-04T03:04:35.636Z"
   },
   {
    "duration": 1,
    "start_time": "2024-06-04T03:04:35.638Z"
   },
   {
    "duration": 0,
    "start_time": "2024-06-04T03:04:35.641Z"
   },
   {
    "duration": 0,
    "start_time": "2024-06-04T03:04:35.644Z"
   },
   {
    "duration": 0,
    "start_time": "2024-06-04T03:04:35.646Z"
   },
   {
    "duration": 0,
    "start_time": "2024-06-04T03:04:35.648Z"
   },
   {
    "duration": 22,
    "start_time": "2024-06-04T03:04:42.213Z"
   },
   {
    "duration": 4,
    "start_time": "2024-06-04T03:04:51.943Z"
   },
   {
    "duration": 20,
    "start_time": "2024-06-04T03:05:04.402Z"
   },
   {
    "duration": 26,
    "start_time": "2024-06-04T03:05:10.718Z"
   },
   {
    "duration": 21,
    "start_time": "2024-06-04T03:10:29.990Z"
   },
   {
    "duration": 17,
    "start_time": "2024-06-04T03:10:38.545Z"
   },
   {
    "duration": 18,
    "start_time": "2024-06-04T03:10:43.043Z"
   },
   {
    "duration": 27,
    "start_time": "2024-06-04T03:10:49.805Z"
   },
   {
    "duration": 18,
    "start_time": "2024-06-04T03:11:00.374Z"
   },
   {
    "duration": 25,
    "start_time": "2024-06-04T03:12:09.336Z"
   },
   {
    "duration": 230,
    "start_time": "2024-06-04T03:13:02.146Z"
   },
   {
    "duration": 4,
    "start_time": "2024-06-04T03:13:07.450Z"
   },
   {
    "duration": 8,
    "start_time": "2024-06-04T03:13:13.969Z"
   },
   {
    "duration": 532,
    "start_time": "2024-06-04T23:19:29.783Z"
   },
   {
    "duration": 26,
    "start_time": "2024-06-04T23:19:30.319Z"
   },
   {
    "duration": 28,
    "start_time": "2024-06-04T23:19:30.348Z"
   },
   {
    "duration": 33,
    "start_time": "2024-06-04T23:19:30.382Z"
   },
   {
    "duration": 23,
    "start_time": "2024-06-04T23:19:30.419Z"
   },
   {
    "duration": 185,
    "start_time": "2024-06-04T23:19:30.445Z"
   },
   {
    "duration": 13,
    "start_time": "2024-06-04T23:19:30.634Z"
   },
   {
    "duration": 20,
    "start_time": "2024-06-04T23:19:30.650Z"
   },
   {
    "duration": 51,
    "start_time": "2024-06-04T23:19:30.673Z"
   },
   {
    "duration": 107,
    "start_time": "2024-06-04T23:19:30.732Z"
   },
   {
    "duration": 11,
    "start_time": "2024-06-04T23:19:30.843Z"
   },
   {
    "duration": 13,
    "start_time": "2024-06-04T23:19:30.858Z"
   },
   {
    "duration": 41,
    "start_time": "2024-06-04T23:19:30.874Z"
   },
   {
    "duration": 150,
    "start_time": "2024-06-04T23:19:30.918Z"
   },
   {
    "duration": 14,
    "start_time": "2024-06-04T23:19:31.071Z"
   },
   {
    "duration": 20,
    "start_time": "2024-06-04T23:19:31.102Z"
   },
   {
    "duration": 31,
    "start_time": "2024-06-04T23:19:31.125Z"
   },
   {
    "duration": 50,
    "start_time": "2024-06-04T23:19:31.160Z"
   },
   {
    "duration": 12,
    "start_time": "2024-06-04T23:19:31.214Z"
   },
   {
    "duration": 37,
    "start_time": "2024-06-04T23:19:31.229Z"
   },
   {
    "duration": 43,
    "start_time": "2024-06-04T23:19:31.272Z"
   },
   {
    "duration": 14,
    "start_time": "2024-06-04T23:19:31.319Z"
   },
   {
    "duration": 23,
    "start_time": "2024-06-04T23:19:31.336Z"
   },
   {
    "duration": 42,
    "start_time": "2024-06-04T23:19:31.362Z"
   },
   {
    "duration": 11,
    "start_time": "2024-06-04T23:19:31.411Z"
   },
   {
    "duration": 4,
    "start_time": "2024-06-04T23:19:31.425Z"
   },
   {
    "duration": 3,
    "start_time": "2024-06-04T23:19:31.432Z"
   },
   {
    "duration": 3,
    "start_time": "2024-06-04T23:19:31.443Z"
   },
   {
    "duration": 3,
    "start_time": "2024-06-04T23:19:31.449Z"
   },
   {
    "duration": 48,
    "start_time": "2024-06-04T23:19:31.455Z"
   },
   {
    "duration": 3,
    "start_time": "2024-06-04T23:19:31.506Z"
   },
   {
    "duration": 6,
    "start_time": "2024-06-04T23:19:31.512Z"
   },
   {
    "duration": 3,
    "start_time": "2024-06-04T23:19:31.521Z"
   },
   {
    "duration": 3,
    "start_time": "2024-06-04T23:19:31.527Z"
   },
   {
    "duration": 3,
    "start_time": "2024-06-04T23:19:31.533Z"
   },
   {
    "duration": 4,
    "start_time": "2024-06-04T23:19:31.539Z"
   },
   {
    "duration": 4,
    "start_time": "2024-06-04T23:19:31.545Z"
   },
   {
    "duration": 4,
    "start_time": "2024-06-04T23:19:31.603Z"
   },
   {
    "duration": 4,
    "start_time": "2024-06-04T23:19:31.610Z"
   },
   {
    "duration": 4,
    "start_time": "2024-06-04T23:19:31.616Z"
   },
   {
    "duration": 4,
    "start_time": "2024-06-04T23:19:31.623Z"
   },
   {
    "duration": 4,
    "start_time": "2024-06-04T23:19:31.629Z"
   },
   {
    "duration": 3,
    "start_time": "2024-06-04T23:19:31.637Z"
   },
   {
    "duration": 58,
    "start_time": "2024-06-04T23:19:31.643Z"
   },
   {
    "duration": 4,
    "start_time": "2024-06-04T23:19:31.705Z"
   },
   {
    "duration": 3,
    "start_time": "2024-06-04T23:19:31.712Z"
   },
   {
    "duration": 5,
    "start_time": "2024-06-04T23:19:31.718Z"
   },
   {
    "duration": 529,
    "start_time": "2024-06-05T00:38:39.781Z"
   },
   {
    "duration": 27,
    "start_time": "2024-06-05T00:38:40.585Z"
   },
   {
    "duration": 490,
    "start_time": "2024-06-05T00:38:46.265Z"
   },
   {
    "duration": 34,
    "start_time": "2024-06-05T00:38:46.760Z"
   },
   {
    "duration": 31,
    "start_time": "2024-06-05T00:38:46.797Z"
   },
   {
    "duration": 18,
    "start_time": "2024-06-05T00:38:46.833Z"
   },
   {
    "duration": 23,
    "start_time": "2024-06-05T00:38:46.858Z"
   },
   {
    "duration": 204,
    "start_time": "2024-06-05T00:38:46.925Z"
   },
   {
    "duration": 14,
    "start_time": "2024-06-05T00:38:47.133Z"
   },
   {
    "duration": 20,
    "start_time": "2024-06-05T00:38:47.153Z"
   },
   {
    "duration": 68,
    "start_time": "2024-06-05T00:38:47.177Z"
   },
   {
    "duration": 131,
    "start_time": "2024-06-05T00:38:47.249Z"
   },
   {
    "duration": 15,
    "start_time": "2024-06-05T00:38:47.384Z"
   },
   {
    "duration": 19,
    "start_time": "2024-06-05T00:38:47.423Z"
   },
   {
    "duration": 23,
    "start_time": "2024-06-05T00:38:47.446Z"
   },
   {
    "duration": 182,
    "start_time": "2024-06-05T00:38:47.476Z"
   },
   {
    "duration": 12,
    "start_time": "2024-06-05T00:38:47.661Z"
   },
   {
    "duration": 17,
    "start_time": "2024-06-05T00:38:47.679Z"
   },
   {
    "duration": 48,
    "start_time": "2024-06-05T00:38:47.703Z"
   },
   {
    "duration": 31,
    "start_time": "2024-06-05T00:38:47.755Z"
   },
   {
    "duration": 33,
    "start_time": "2024-06-05T00:38:47.794Z"
   },
   {
    "duration": 45,
    "start_time": "2024-06-05T00:38:47.832Z"
   },
   {
    "duration": 51,
    "start_time": "2024-06-05T00:38:47.881Z"
   },
   {
    "duration": 19,
    "start_time": "2024-06-05T00:38:47.935Z"
   },
   {
    "duration": 21,
    "start_time": "2024-06-05T00:38:47.959Z"
   },
   {
    "duration": 53,
    "start_time": "2024-06-05T00:38:47.983Z"
   },
   {
    "duration": 12,
    "start_time": "2024-06-05T00:38:48.040Z"
   },
   {
    "duration": 4,
    "start_time": "2024-06-05T00:38:48.056Z"
   },
   {
    "duration": 4,
    "start_time": "2024-06-05T00:38:48.064Z"
   },
   {
    "duration": 51,
    "start_time": "2024-06-05T00:38:48.072Z"
   },
   {
    "duration": 4,
    "start_time": "2024-06-05T00:38:48.126Z"
   },
   {
    "duration": 3,
    "start_time": "2024-06-05T00:38:48.134Z"
   },
   {
    "duration": 4,
    "start_time": "2024-06-05T00:38:48.140Z"
   },
   {
    "duration": 4,
    "start_time": "2024-06-05T00:38:48.148Z"
   },
   {
    "duration": 4,
    "start_time": "2024-06-05T00:38:48.156Z"
   },
   {
    "duration": 3,
    "start_time": "2024-06-05T00:38:48.164Z"
   },
   {
    "duration": 5,
    "start_time": "2024-06-05T00:38:48.222Z"
   },
   {
    "duration": 6,
    "start_time": "2024-06-05T00:38:48.231Z"
   },
   {
    "duration": 6,
    "start_time": "2024-06-05T00:38:48.240Z"
   },
   {
    "duration": 5,
    "start_time": "2024-06-05T00:38:48.250Z"
   },
   {
    "duration": 4,
    "start_time": "2024-06-05T00:38:48.260Z"
   },
   {
    "duration": 55,
    "start_time": "2024-06-05T00:38:48.268Z"
   },
   {
    "duration": 4,
    "start_time": "2024-06-05T00:38:48.332Z"
   },
   {
    "duration": 6,
    "start_time": "2024-06-05T00:38:48.339Z"
   },
   {
    "duration": 4,
    "start_time": "2024-06-05T00:38:48.348Z"
   },
   {
    "duration": 4,
    "start_time": "2024-06-05T00:38:48.356Z"
   },
   {
    "duration": 4,
    "start_time": "2024-06-05T00:38:48.363Z"
   },
   {
    "duration": 53,
    "start_time": "2024-06-05T00:38:48.371Z"
   },
   {
    "duration": 5,
    "start_time": "2024-06-05T00:38:48.428Z"
   },
   {
    "duration": 3,
    "start_time": "2024-06-05T01:16:46.771Z"
   },
   {
    "duration": 4,
    "start_time": "2024-06-05T01:16:51.411Z"
   },
   {
    "duration": 3,
    "start_time": "2024-06-05T01:16:55.196Z"
   },
   {
    "duration": 5,
    "start_time": "2024-06-05T01:17:03.247Z"
   },
   {
    "duration": 3,
    "start_time": "2024-06-05T01:17:07.415Z"
   },
   {
    "duration": 3,
    "start_time": "2024-06-05T01:17:17.501Z"
   },
   {
    "duration": 3,
    "start_time": "2024-06-05T01:17:22.424Z"
   },
   {
    "duration": 5,
    "start_time": "2024-06-05T01:17:25.886Z"
   },
   {
    "duration": 4,
    "start_time": "2024-06-05T01:17:28.726Z"
   },
   {
    "duration": 5,
    "start_time": "2024-06-05T01:17:32.062Z"
   },
   {
    "duration": 5,
    "start_time": "2024-06-05T01:17:34.966Z"
   },
   {
    "duration": 4,
    "start_time": "2024-06-05T01:17:41.760Z"
   },
   {
    "duration": 3,
    "start_time": "2024-06-05T01:17:45.734Z"
   },
   {
    "duration": 3,
    "start_time": "2024-06-05T01:17:51.577Z"
   },
   {
    "duration": 128,
    "start_time": "2024-06-05T01:21:53.679Z"
   },
   {
    "duration": 10,
    "start_time": "2024-06-05T01:21:55.943Z"
   },
   {
    "duration": 63,
    "start_time": "2024-06-05T01:22:00.079Z"
   },
   {
    "duration": 111,
    "start_time": "2024-06-05T01:22:05.644Z"
   },
   {
    "duration": 9,
    "start_time": "2024-06-05T01:22:12.985Z"
   },
   {
    "duration": 35,
    "start_time": "2024-06-05T03:05:24.028Z"
   },
   {
    "duration": 342,
    "start_time": "2024-06-05T04:01:04.124Z"
   },
   {
    "duration": 5,
    "start_time": "2024-06-05T04:01:19.106Z"
   },
   {
    "duration": 30,
    "start_time": "2024-06-05T04:02:35.053Z"
   },
   {
    "duration": 22,
    "start_time": "2024-06-05T04:02:48.911Z"
   },
   {
    "duration": 9,
    "start_time": "2024-06-05T04:02:57.407Z"
   },
   {
    "duration": 23,
    "start_time": "2024-06-05T04:04:32.925Z"
   },
   {
    "duration": 401,
    "start_time": "2024-06-05T20:36:59.949Z"
   },
   {
    "duration": 4887,
    "start_time": "2024-06-05T20:37:11.737Z"
   },
   {
    "duration": 362,
    "start_time": "2024-06-05T20:37:16.628Z"
   },
   {
    "duration": 18,
    "start_time": "2024-06-05T20:37:16.992Z"
   },
   {
    "duration": 16,
    "start_time": "2024-06-05T20:37:17.014Z"
   },
   {
    "duration": 35,
    "start_time": "2024-06-05T20:37:17.035Z"
   },
   {
    "duration": 49,
    "start_time": "2024-06-05T20:37:17.073Z"
   },
   {
    "duration": 834,
    "start_time": "2024-06-05T20:37:17.125Z"
   },
   {
    "duration": 0,
    "start_time": "2024-06-05T20:37:17.963Z"
   },
   {
    "duration": 0,
    "start_time": "2024-06-05T20:37:17.966Z"
   },
   {
    "duration": 0,
    "start_time": "2024-06-05T20:37:17.968Z"
   },
   {
    "duration": 0,
    "start_time": "2024-06-05T20:37:17.970Z"
   },
   {
    "duration": 0,
    "start_time": "2024-06-05T20:37:17.973Z"
   },
   {
    "duration": 0,
    "start_time": "2024-06-05T20:37:17.975Z"
   },
   {
    "duration": 0,
    "start_time": "2024-06-05T20:37:17.977Z"
   },
   {
    "duration": 0,
    "start_time": "2024-06-05T20:37:18.002Z"
   },
   {
    "duration": 0,
    "start_time": "2024-06-05T20:37:18.005Z"
   },
   {
    "duration": 0,
    "start_time": "2024-06-05T20:37:18.007Z"
   },
   {
    "duration": 0,
    "start_time": "2024-06-05T20:37:18.010Z"
   },
   {
    "duration": 1,
    "start_time": "2024-06-05T20:37:18.012Z"
   },
   {
    "duration": 0,
    "start_time": "2024-06-05T20:37:18.015Z"
   },
   {
    "duration": 0,
    "start_time": "2024-06-05T20:37:18.017Z"
   },
   {
    "duration": 0,
    "start_time": "2024-06-05T20:37:18.020Z"
   },
   {
    "duration": 0,
    "start_time": "2024-06-05T20:37:18.022Z"
   },
   {
    "duration": 0,
    "start_time": "2024-06-05T20:37:18.024Z"
   },
   {
    "duration": 0,
    "start_time": "2024-06-05T20:37:18.027Z"
   },
   {
    "duration": 0,
    "start_time": "2024-06-05T20:37:18.029Z"
   },
   {
    "duration": 0,
    "start_time": "2024-06-05T20:37:18.031Z"
   },
   {
    "duration": 0,
    "start_time": "2024-06-05T20:37:18.034Z"
   },
   {
    "duration": 0,
    "start_time": "2024-06-05T20:37:18.036Z"
   },
   {
    "duration": 0,
    "start_time": "2024-06-05T20:37:18.039Z"
   },
   {
    "duration": 0,
    "start_time": "2024-06-05T20:37:18.041Z"
   },
   {
    "duration": 0,
    "start_time": "2024-06-05T20:37:18.104Z"
   },
   {
    "duration": 81,
    "start_time": "2024-06-05T20:38:17.236Z"
   },
   {
    "duration": 24,
    "start_time": "2024-06-05T23:27:26.914Z"
   },
   {
    "duration": 10,
    "start_time": "2024-06-05T23:27:31.360Z"
   },
   {
    "duration": 24,
    "start_time": "2024-06-05T23:27:57.474Z"
   },
   {
    "duration": 7,
    "start_time": "2024-06-05T23:28:04.344Z"
   },
   {
    "duration": 6,
    "start_time": "2024-06-05T23:28:59.213Z"
   },
   {
    "duration": 8,
    "start_time": "2024-06-06T03:40:21.985Z"
   },
   {
    "duration": 12,
    "start_time": "2024-06-06T03:40:26.897Z"
   },
   {
    "duration": 7,
    "start_time": "2024-06-06T03:40:57.083Z"
   },
   {
    "duration": 4,
    "start_time": "2024-06-06T03:41:16.741Z"
   },
   {
    "duration": 10,
    "start_time": "2024-06-06T03:41:33.800Z"
   },
   {
    "duration": 6,
    "start_time": "2024-06-06T03:41:41.223Z"
   },
   {
    "duration": 16,
    "start_time": "2024-06-06T03:42:19.556Z"
   },
   {
    "duration": 362,
    "start_time": "2024-06-06T03:42:31.323Z"
   },
   {
    "duration": 28,
    "start_time": "2024-06-06T04:24:17.112Z"
   },
   {
    "duration": 27,
    "start_time": "2024-06-06T04:24:30.426Z"
   },
   {
    "duration": 28,
    "start_time": "2024-06-06T04:24:38.113Z"
   },
   {
    "duration": 33,
    "start_time": "2024-06-06T04:24:49.223Z"
   },
   {
    "duration": 20,
    "start_time": "2024-06-06T04:24:55.898Z"
   },
   {
    "duration": 22,
    "start_time": "2024-06-06T04:25:08.844Z"
   },
   {
    "duration": 3,
    "start_time": "2024-06-06T04:25:11.077Z"
   },
   {
    "duration": 14,
    "start_time": "2024-06-06T05:00:18.833Z"
   },
   {
    "duration": 153,
    "start_time": "2024-06-06T05:05:32.876Z"
   },
   {
    "duration": 15,
    "start_time": "2024-06-06T06:16:59.504Z"
   },
   {
    "duration": 16,
    "start_time": "2024-06-06T06:17:01.370Z"
   },
   {
    "duration": 36,
    "start_time": "2024-06-06T07:01:56.942Z"
   },
   {
    "duration": 41,
    "start_time": "2024-06-06T07:02:39.023Z"
   },
   {
    "duration": 37,
    "start_time": "2024-06-06T07:03:33.084Z"
   },
   {
    "duration": 162,
    "start_time": "2024-06-06T07:03:54.499Z"
   },
   {
    "duration": 6,
    "start_time": "2024-06-06T07:08:17.894Z"
   },
   {
    "duration": 6,
    "start_time": "2024-06-06T07:13:21.711Z"
   },
   {
    "duration": 28,
    "start_time": "2024-06-06T07:13:30.321Z"
   },
   {
    "duration": 32,
    "start_time": "2024-06-06T07:13:35.113Z"
   },
   {
    "duration": 25,
    "start_time": "2024-06-06T07:13:45.393Z"
   },
   {
    "duration": 50,
    "start_time": "2024-06-06T08:01:48.193Z"
   },
   {
    "duration": 10,
    "start_time": "2024-06-06T08:02:15.470Z"
   },
   {
    "duration": 7,
    "start_time": "2024-06-06T08:03:26.807Z"
   },
   {
    "duration": 25,
    "start_time": "2024-06-06T08:03:30.543Z"
   },
   {
    "duration": 4920,
    "start_time": "2024-06-06T21:48:06.870Z"
   },
   {
    "duration": 373,
    "start_time": "2024-06-06T21:48:11.794Z"
   },
   {
    "duration": 17,
    "start_time": "2024-06-06T21:48:12.170Z"
   },
   {
    "duration": 18,
    "start_time": "2024-06-06T21:48:12.192Z"
   },
   {
    "duration": 38,
    "start_time": "2024-06-06T21:48:12.213Z"
   },
   {
    "duration": 22,
    "start_time": "2024-06-06T21:48:12.290Z"
   },
   {
    "duration": 13,
    "start_time": "2024-06-06T21:48:12.315Z"
   },
   {
    "duration": 208,
    "start_time": "2024-06-06T21:48:12.332Z"
   },
   {
    "duration": 865,
    "start_time": "2024-06-06T21:48:12.544Z"
   },
   {
    "duration": 0,
    "start_time": "2024-06-06T21:48:13.414Z"
   },
   {
    "duration": 0,
    "start_time": "2024-06-06T21:48:13.416Z"
   },
   {
    "duration": 0,
    "start_time": "2024-06-06T21:48:13.420Z"
   },
   {
    "duration": 0,
    "start_time": "2024-06-06T21:48:13.423Z"
   },
   {
    "duration": 0,
    "start_time": "2024-06-06T21:48:13.424Z"
   },
   {
    "duration": 0,
    "start_time": "2024-06-06T21:48:13.426Z"
   },
   {
    "duration": 0,
    "start_time": "2024-06-06T21:48:13.428Z"
   },
   {
    "duration": 0,
    "start_time": "2024-06-06T21:48:13.430Z"
   },
   {
    "duration": 0,
    "start_time": "2024-06-06T21:48:13.432Z"
   },
   {
    "duration": 0,
    "start_time": "2024-06-06T21:48:13.433Z"
   },
   {
    "duration": 0,
    "start_time": "2024-06-06T21:48:13.435Z"
   },
   {
    "duration": 0,
    "start_time": "2024-06-06T21:48:13.438Z"
   },
   {
    "duration": 0,
    "start_time": "2024-06-06T21:48:13.440Z"
   },
   {
    "duration": 0,
    "start_time": "2024-06-06T21:48:13.442Z"
   },
   {
    "duration": 0,
    "start_time": "2024-06-06T21:48:13.443Z"
   },
   {
    "duration": 0,
    "start_time": "2024-06-06T21:48:13.445Z"
   },
   {
    "duration": 0,
    "start_time": "2024-06-06T21:48:13.491Z"
   },
   {
    "duration": 0,
    "start_time": "2024-06-06T21:48:13.493Z"
   },
   {
    "duration": 0,
    "start_time": "2024-06-06T21:48:13.496Z"
   },
   {
    "duration": 0,
    "start_time": "2024-06-06T21:48:13.498Z"
   },
   {
    "duration": 0,
    "start_time": "2024-06-06T21:48:13.500Z"
   },
   {
    "duration": 0,
    "start_time": "2024-06-06T21:48:13.503Z"
   },
   {
    "duration": 0,
    "start_time": "2024-06-06T21:48:13.505Z"
   },
   {
    "duration": 0,
    "start_time": "2024-06-06T21:48:13.507Z"
   },
   {
    "duration": 0,
    "start_time": "2024-06-06T21:48:13.509Z"
   },
   {
    "duration": 0,
    "start_time": "2024-06-06T21:48:13.510Z"
   },
   {
    "duration": 25,
    "start_time": "2024-06-06T21:50:28.110Z"
   },
   {
    "duration": 36,
    "start_time": "2024-06-06T21:51:04.939Z"
   },
   {
    "duration": 26,
    "start_time": "2024-06-06T21:51:25.814Z"
   },
   {
    "duration": 16,
    "start_time": "2024-06-06T21:51:41.636Z"
   },
   {
    "duration": 26,
    "start_time": "2024-06-06T21:52:01.047Z"
   },
   {
    "duration": 23,
    "start_time": "2024-06-06T21:52:05.865Z"
   },
   {
    "duration": 21,
    "start_time": "2024-06-06T21:52:38.760Z"
   },
   {
    "duration": 15,
    "start_time": "2024-06-06T21:52:56.014Z"
   },
   {
    "duration": 22,
    "start_time": "2024-06-06T21:53:08.851Z"
   },
   {
    "duration": 16,
    "start_time": "2024-06-06T21:53:32.420Z"
   },
   {
    "duration": 398,
    "start_time": "2024-06-06T21:58:09.511Z"
   },
   {
    "duration": 4,
    "start_time": "2024-06-06T21:58:18.470Z"
   },
   {
    "duration": 274,
    "start_time": "2024-06-06T21:58:19.362Z"
   },
   {
    "duration": 16,
    "start_time": "2024-06-06T21:58:21.043Z"
   },
   {
    "duration": 12,
    "start_time": "2024-06-06T21:58:21.672Z"
   },
   {
    "duration": 45,
    "start_time": "2024-06-06T21:58:22.337Z"
   },
   {
    "duration": 24,
    "start_time": "2024-06-06T21:58:24.809Z"
   },
   {
    "duration": 14,
    "start_time": "2024-06-06T21:58:27.041Z"
   },
   {
    "duration": 16,
    "start_time": "2024-06-06T21:58:28.865Z"
   },
   {
    "duration": 14,
    "start_time": "2024-06-06T21:58:29.615Z"
   },
   {
    "duration": 25,
    "start_time": "2024-06-06T21:58:32.031Z"
   },
   {
    "duration": 25,
    "start_time": "2024-06-06T21:58:34.442Z"
   },
   {
    "duration": 221,
    "start_time": "2024-06-06T22:11:14.482Z"
   },
   {
    "duration": 23,
    "start_time": "2024-06-06T22:11:29.446Z"
   },
   {
    "duration": 26,
    "start_time": "2024-06-06T22:11:44.870Z"
   },
   {
    "duration": 36,
    "start_time": "2024-06-06T22:25:57.619Z"
   },
   {
    "duration": 27,
    "start_time": "2024-06-06T22:26:35.051Z"
   },
   {
    "duration": 121,
    "start_time": "2024-06-06T22:26:50.099Z"
   },
   {
    "duration": 33,
    "start_time": "2024-06-06T22:27:15.883Z"
   },
   {
    "duration": 22,
    "start_time": "2024-06-06T22:55:46.829Z"
   },
   {
    "duration": 27,
    "start_time": "2024-06-06T22:56:21.307Z"
   },
   {
    "duration": 32,
    "start_time": "2024-06-06T22:57:05.018Z"
   },
   {
    "duration": 8,
    "start_time": "2024-06-06T23:01:40.013Z"
   },
   {
    "duration": 8,
    "start_time": "2024-06-06T23:01:56.222Z"
   },
   {
    "duration": 7,
    "start_time": "2024-06-06T23:02:03.038Z"
   },
   {
    "duration": 7,
    "start_time": "2024-06-06T23:02:12.270Z"
   },
   {
    "duration": 33,
    "start_time": "2024-06-06T23:02:54.011Z"
   },
   {
    "duration": 30,
    "start_time": "2024-06-06T23:03:00.961Z"
   },
   {
    "duration": 31,
    "start_time": "2024-06-06T23:05:22.812Z"
   },
   {
    "duration": 51,
    "start_time": "2024-06-06T23:05:44.149Z"
   },
   {
    "duration": 64,
    "start_time": "2024-06-06T23:08:32.536Z"
   },
   {
    "duration": 24,
    "start_time": "2024-06-06T23:15:12.520Z"
   },
   {
    "duration": 348,
    "start_time": "2024-06-07T05:43:27.363Z"
   },
   {
    "duration": 24,
    "start_time": "2024-06-07T05:43:33.945Z"
   },
   {
    "duration": 4983,
    "start_time": "2024-06-07T05:43:37.572Z"
   },
   {
    "duration": 370,
    "start_time": "2024-06-07T05:43:42.560Z"
   },
   {
    "duration": 85,
    "start_time": "2024-06-07T05:43:42.933Z"
   },
   {
    "duration": 78,
    "start_time": "2024-06-07T05:44:22.911Z"
   },
   {
    "duration": 13,
    "start_time": "2024-06-07T05:44:51.901Z"
   },
   {
    "duration": 15,
    "start_time": "2024-06-07T05:46:11.582Z"
   },
   {
    "duration": 29,
    "start_time": "2024-06-07T06:09:57.941Z"
   },
   {
    "duration": 20,
    "start_time": "2024-06-07T06:15:32.785Z"
   },
   {
    "duration": 11,
    "start_time": "2024-06-07T06:59:08.207Z"
   },
   {
    "duration": 29,
    "start_time": "2024-06-07T06:59:15.672Z"
   },
   {
    "duration": 713,
    "start_time": "2024-06-07T07:07:43.314Z"
   },
   {
    "duration": 65,
    "start_time": "2024-06-07T07:08:03.379Z"
   },
   {
    "duration": 56,
    "start_time": "2024-06-07T07:08:37.692Z"
   },
   {
    "duration": 44,
    "start_time": "2024-06-07T07:09:00.774Z"
   },
   {
    "duration": 131,
    "start_time": "2024-06-07T07:09:04.386Z"
   },
   {
    "duration": 60,
    "start_time": "2024-06-07T07:11:33.354Z"
   },
   {
    "duration": 10,
    "start_time": "2024-06-07T07:21:01.307Z"
   },
   {
    "duration": 122,
    "start_time": "2024-06-07T07:21:11.518Z"
   },
   {
    "duration": 127,
    "start_time": "2024-06-07T07:22:06.530Z"
   },
   {
    "duration": 120,
    "start_time": "2024-06-07T07:22:35.083Z"
   },
   {
    "duration": 139,
    "start_time": "2024-06-07T07:22:48.155Z"
   },
   {
    "duration": 115,
    "start_time": "2024-06-07T07:23:46.927Z"
   },
   {
    "duration": 125,
    "start_time": "2024-06-07T07:23:58.692Z"
   },
   {
    "duration": 1265,
    "start_time": "2024-06-07T07:24:17.207Z"
   },
   {
    "duration": 272,
    "start_time": "2024-06-07T07:24:18.476Z"
   },
   {
    "duration": 90,
    "start_time": "2024-06-07T07:24:18.751Z"
   },
   {
    "duration": 14,
    "start_time": "2024-06-07T07:24:18.844Z"
   },
   {
    "duration": 39,
    "start_time": "2024-06-07T07:24:18.864Z"
   },
   {
    "duration": 33,
    "start_time": "2024-06-07T07:24:18.906Z"
   },
   {
    "duration": 55,
    "start_time": "2024-06-07T07:24:18.942Z"
   },
   {
    "duration": 16,
    "start_time": "2024-06-07T07:24:19.000Z"
   },
   {
    "duration": 15,
    "start_time": "2024-06-07T07:24:19.019Z"
   },
   {
    "duration": 53,
    "start_time": "2024-06-07T07:24:19.037Z"
   },
   {
    "duration": 34,
    "start_time": "2024-06-07T07:24:19.093Z"
   },
   {
    "duration": 34,
    "start_time": "2024-06-07T07:24:19.131Z"
   },
   {
    "duration": 30,
    "start_time": "2024-06-07T07:24:19.193Z"
   },
   {
    "duration": 20,
    "start_time": "2024-06-07T07:24:19.232Z"
   },
   {
    "duration": 76,
    "start_time": "2024-06-07T07:24:19.256Z"
   },
   {
    "duration": 130,
    "start_time": "2024-06-07T07:24:19.335Z"
   },
   {
    "duration": 30,
    "start_time": "2024-06-07T07:24:19.468Z"
   },
   {
    "duration": 13,
    "start_time": "2024-06-07T07:24:19.501Z"
   },
   {
    "duration": 83,
    "start_time": "2024-06-07T07:24:19.517Z"
   },
   {
    "duration": 23,
    "start_time": "2024-06-07T07:24:19.603Z"
   },
   {
    "duration": 16,
    "start_time": "2024-06-07T07:24:19.628Z"
   },
   {
    "duration": 71,
    "start_time": "2024-06-07T07:24:19.647Z"
   },
   {
    "duration": 14,
    "start_time": "2024-06-07T07:24:19.721Z"
   },
   {
    "duration": 4,
    "start_time": "2024-06-07T07:24:19.738Z"
   },
   {
    "duration": 6,
    "start_time": "2024-06-07T07:24:19.745Z"
   },
   {
    "duration": 38,
    "start_time": "2024-06-07T07:24:19.754Z"
   },
   {
    "duration": 4,
    "start_time": "2024-06-07T07:24:19.796Z"
   },
   {
    "duration": 3,
    "start_time": "2024-06-07T07:24:19.804Z"
   },
   {
    "duration": 4,
    "start_time": "2024-06-07T07:24:19.810Z"
   },
   {
    "duration": 3,
    "start_time": "2024-06-07T07:24:19.818Z"
   },
   {
    "duration": 6,
    "start_time": "2024-06-07T07:24:19.825Z"
   },
   {
    "duration": 57,
    "start_time": "2024-06-07T07:24:19.834Z"
   },
   {
    "duration": 3,
    "start_time": "2024-06-07T07:24:19.894Z"
   },
   {
    "duration": 4,
    "start_time": "2024-06-07T07:24:19.900Z"
   },
   {
    "duration": 6,
    "start_time": "2024-06-07T07:24:19.908Z"
   },
   {
    "duration": 3,
    "start_time": "2024-06-07T07:24:19.917Z"
   },
   {
    "duration": 4,
    "start_time": "2024-06-07T07:24:19.923Z"
   },
   {
    "duration": 4,
    "start_time": "2024-06-07T07:24:19.930Z"
   },
   {
    "duration": 116,
    "start_time": "2024-06-07T07:27:08.698Z"
   },
   {
    "duration": 1375,
    "start_time": "2024-06-07T07:27:22.974Z"
   },
   {
    "duration": 298,
    "start_time": "2024-06-07T07:27:24.352Z"
   },
   {
    "duration": 111,
    "start_time": "2024-06-07T07:27:24.653Z"
   },
   {
    "duration": 28,
    "start_time": "2024-06-07T07:27:24.768Z"
   },
   {
    "duration": 26,
    "start_time": "2024-06-07T07:27:24.802Z"
   },
   {
    "duration": 86,
    "start_time": "2024-06-07T07:27:24.833Z"
   },
   {
    "duration": 36,
    "start_time": "2024-06-07T07:27:24.924Z"
   },
   {
    "duration": 36,
    "start_time": "2024-06-07T07:27:24.965Z"
   },
   {
    "duration": 15,
    "start_time": "2024-06-07T07:27:25.004Z"
   },
   {
    "duration": 15,
    "start_time": "2024-06-07T07:27:25.023Z"
   },
   {
    "duration": 65,
    "start_time": "2024-06-07T07:27:25.042Z"
   },
   {
    "duration": 26,
    "start_time": "2024-06-07T07:27:25.111Z"
   },
   {
    "duration": 60,
    "start_time": "2024-06-07T07:27:25.141Z"
   },
   {
    "duration": 28,
    "start_time": "2024-06-07T07:27:25.209Z"
   },
   {
    "duration": 89,
    "start_time": "2024-06-07T07:27:25.240Z"
   },
   {
    "duration": 134,
    "start_time": "2024-06-07T07:27:25.332Z"
   },
   {
    "duration": 36,
    "start_time": "2024-06-07T07:27:25.469Z"
   },
   {
    "duration": 16,
    "start_time": "2024-06-07T07:27:25.508Z"
   },
   {
    "duration": 91,
    "start_time": "2024-06-07T07:27:25.527Z"
   },
   {
    "duration": 23,
    "start_time": "2024-06-07T07:27:25.622Z"
   },
   {
    "duration": 44,
    "start_time": "2024-06-07T07:27:25.648Z"
   },
   {
    "duration": 36,
    "start_time": "2024-06-07T07:27:25.695Z"
   },
   {
    "duration": 15,
    "start_time": "2024-06-07T07:27:25.734Z"
   },
   {
    "duration": 38,
    "start_time": "2024-06-07T07:27:25.752Z"
   },
   {
    "duration": 11,
    "start_time": "2024-06-07T07:27:25.793Z"
   },
   {
    "duration": 6,
    "start_time": "2024-06-07T07:27:25.809Z"
   },
   {
    "duration": 4,
    "start_time": "2024-06-07T07:27:25.819Z"
   },
   {
    "duration": 7,
    "start_time": "2024-06-07T07:27:25.828Z"
   },
   {
    "duration": 12,
    "start_time": "2024-06-07T07:27:25.839Z"
   },
   {
    "duration": 4,
    "start_time": "2024-06-07T07:27:25.854Z"
   },
   {
    "duration": 32,
    "start_time": "2024-06-07T07:27:25.862Z"
   },
   {
    "duration": 6,
    "start_time": "2024-06-07T07:27:25.897Z"
   },
   {
    "duration": 4,
    "start_time": "2024-06-07T07:27:25.906Z"
   },
   {
    "duration": 4,
    "start_time": "2024-06-07T07:27:25.915Z"
   },
   {
    "duration": 3,
    "start_time": "2024-06-07T07:27:25.923Z"
   },
   {
    "duration": 4,
    "start_time": "2024-06-07T07:27:25.931Z"
   },
   {
    "duration": 3,
    "start_time": "2024-06-07T07:27:25.939Z"
   },
   {
    "duration": 3,
    "start_time": "2024-06-07T07:27:25.992Z"
   },
   {
    "duration": 34,
    "start_time": "2024-06-07T08:29:38.620Z"
   },
   {
    "duration": 50,
    "start_time": "2024-06-07T08:31:51.667Z"
   },
   {
    "duration": 80,
    "start_time": "2024-06-07T08:35:09.466Z"
   },
   {
    "duration": 99,
    "start_time": "2024-06-07T08:40:14.658Z"
   },
   {
    "duration": 44,
    "start_time": "2024-06-07T08:47:44.147Z"
   },
   {
    "duration": 64,
    "start_time": "2024-06-07T08:50:00.380Z"
   },
   {
    "duration": 89,
    "start_time": "2024-06-07T08:51:14.945Z"
   },
   {
    "duration": 92,
    "start_time": "2024-06-07T08:58:25.326Z"
   },
   {
    "duration": 17,
    "start_time": "2024-06-07T09:09:40.331Z"
   },
   {
    "duration": 27,
    "start_time": "2024-06-07T09:12:49.798Z"
   },
   {
    "duration": 3,
    "start_time": "2024-06-07T09:14:20.452Z"
   },
   {
    "duration": 2092,
    "start_time": "2024-06-07T09:23:56.137Z"
   },
   {
    "duration": 210,
    "start_time": "2024-06-07T09:24:09.998Z"
   },
   {
    "duration": 294,
    "start_time": "2024-06-07T09:24:21.971Z"
   },
   {
    "duration": 31,
    "start_time": "2024-06-07T09:29:32.440Z"
   },
   {
    "duration": 38,
    "start_time": "2024-06-07T09:42:40.153Z"
   },
   {
    "duration": 39,
    "start_time": "2024-06-07T09:43:01.710Z"
   },
   {
    "duration": 27,
    "start_time": "2024-06-07T09:43:46.081Z"
   },
   {
    "duration": 31,
    "start_time": "2024-06-07T09:57:17.839Z"
   },
   {
    "duration": 25,
    "start_time": "2024-06-07T09:57:29.534Z"
   },
   {
    "duration": 37,
    "start_time": "2024-06-07T09:57:35.512Z"
   },
   {
    "duration": 37,
    "start_time": "2024-06-07T09:57:47.368Z"
   },
   {
    "duration": 36,
    "start_time": "2024-06-07T09:58:03.024Z"
   },
   {
    "duration": 39,
    "start_time": "2024-06-07T09:58:16.002Z"
   },
   {
    "duration": 1206,
    "start_time": "2024-06-07T10:00:27.663Z"
   },
   {
    "duration": 99,
    "start_time": "2024-06-07T10:00:48.516Z"
   },
   {
    "duration": 36,
    "start_time": "2024-06-07T10:01:10.407Z"
   },
   {
    "duration": 36,
    "start_time": "2024-06-07T10:02:23.730Z"
   },
   {
    "duration": 60,
    "start_time": "2024-06-07T10:02:32.172Z"
   },
   {
    "duration": 28,
    "start_time": "2024-06-07T10:06:20.790Z"
   },
   {
    "duration": 111,
    "start_time": "2024-06-07T10:10:25.631Z"
   },
   {
    "duration": 126,
    "start_time": "2024-06-07T10:11:09.315Z"
   },
   {
    "duration": 113,
    "start_time": "2024-06-07T10:11:15.866Z"
   },
   {
    "duration": 123,
    "start_time": "2024-06-07T10:11:38.780Z"
   },
   {
    "duration": 114,
    "start_time": "2024-06-07T10:11:56.149Z"
   },
   {
    "duration": 124,
    "start_time": "2024-06-07T10:12:25.767Z"
   },
   {
    "duration": 22,
    "start_time": "2024-06-07T10:15:12.601Z"
   },
   {
    "duration": 26,
    "start_time": "2024-06-07T10:16:02.845Z"
   },
   {
    "duration": 24,
    "start_time": "2024-06-07T10:18:14.717Z"
   },
   {
    "duration": 24,
    "start_time": "2024-06-07T10:21:14.150Z"
   },
   {
    "duration": 43,
    "start_time": "2024-06-07T10:37:00.105Z"
   },
   {
    "duration": 10,
    "start_time": "2024-06-07T10:37:25.162Z"
   },
   {
    "duration": 40,
    "start_time": "2024-06-07T10:37:31.629Z"
   },
   {
    "duration": 41,
    "start_time": "2024-06-07T10:38:57.682Z"
   },
   {
    "duration": 43,
    "start_time": "2024-06-07T10:43:39.210Z"
   },
   {
    "duration": 7,
    "start_time": "2024-06-07T10:49:25.892Z"
   },
   {
    "duration": 16,
    "start_time": "2024-06-07T10:49:51.322Z"
   },
   {
    "duration": 47,
    "start_time": "2024-06-07T10:52:06.260Z"
   },
   {
    "duration": 47,
    "start_time": "2024-06-07T10:52:18.493Z"
   },
   {
    "duration": 23,
    "start_time": "2024-06-07T10:53:17.895Z"
   },
   {
    "duration": 53,
    "start_time": "2024-06-07T11:01:54.579Z"
   },
   {
    "duration": 56,
    "start_time": "2024-06-07T11:05:04.147Z"
   },
   {
    "duration": 42,
    "start_time": "2024-06-07T11:05:46.211Z"
   },
   {
    "duration": 41,
    "start_time": "2024-06-07T11:05:50.420Z"
   },
   {
    "duration": 53,
    "start_time": "2024-06-07T11:06:23.780Z"
   },
   {
    "duration": 60,
    "start_time": "2024-06-07T11:07:19.379Z"
   },
   {
    "duration": 43,
    "start_time": "2024-06-07T11:08:41.961Z"
   },
   {
    "duration": 17,
    "start_time": "2024-06-07T11:08:49.403Z"
   },
   {
    "duration": 44,
    "start_time": "2024-06-07T11:09:31.122Z"
   },
   {
    "duration": 406,
    "start_time": "2024-06-07T11:09:36.018Z"
   },
   {
    "duration": 52,
    "start_time": "2024-06-07T11:10:59.647Z"
   },
   {
    "duration": 48,
    "start_time": "2024-06-07T11:12:03.740Z"
   },
   {
    "duration": 6,
    "start_time": "2024-06-07T11:13:49.171Z"
   },
   {
    "duration": 58,
    "start_time": "2024-06-07T11:15:01.880Z"
   },
   {
    "duration": 41,
    "start_time": "2024-06-07T11:17:22.231Z"
   },
   {
    "duration": 44,
    "start_time": "2024-06-07T11:18:02.099Z"
   },
   {
    "duration": 41,
    "start_time": "2024-06-07T11:18:32.043Z"
   },
   {
    "duration": 42,
    "start_time": "2024-06-07T11:19:07.543Z"
   },
   {
    "duration": 27,
    "start_time": "2024-06-07T11:19:36.409Z"
   },
   {
    "duration": 28,
    "start_time": "2024-06-07T11:19:45.362Z"
   },
   {
    "duration": 40,
    "start_time": "2024-06-07T11:19:51.836Z"
   },
   {
    "duration": 51,
    "start_time": "2024-06-07T11:19:59.914Z"
   },
   {
    "duration": 60,
    "start_time": "2024-06-07T11:20:12.491Z"
   },
   {
    "duration": 7,
    "start_time": "2024-06-07T11:20:47.094Z"
   },
   {
    "duration": 25,
    "start_time": "2024-06-07T11:20:51.317Z"
   },
   {
    "duration": 43,
    "start_time": "2024-06-07T11:22:21.206Z"
   },
   {
    "duration": 74,
    "start_time": "2024-06-07T11:22:28.743Z"
   },
   {
    "duration": 44,
    "start_time": "2024-06-07T11:23:15.526Z"
   },
   {
    "duration": 46,
    "start_time": "2024-06-07T11:24:17.123Z"
   },
   {
    "duration": 67,
    "start_time": "2024-06-07T11:25:25.961Z"
   },
   {
    "duration": 26,
    "start_time": "2024-06-07T11:25:38.846Z"
   },
   {
    "duration": 50,
    "start_time": "2024-06-07T11:27:24.863Z"
   },
   {
    "duration": 8,
    "start_time": "2024-06-07T11:27:56.873Z"
   },
   {
    "duration": 41,
    "start_time": "2024-06-07T11:31:49.706Z"
   },
   {
    "duration": 5009,
    "start_time": "2024-06-08T01:00:21.218Z"
   },
   {
    "duration": 465,
    "start_time": "2024-06-08T01:00:26.230Z"
   },
   {
    "duration": 83,
    "start_time": "2024-06-08T01:00:26.698Z"
   },
   {
    "duration": 18,
    "start_time": "2024-06-08T01:00:26.801Z"
   },
   {
    "duration": 17,
    "start_time": "2024-06-08T01:00:26.821Z"
   },
   {
    "duration": 68,
    "start_time": "2024-06-08T01:00:26.841Z"
   },
   {
    "duration": 23,
    "start_time": "2024-06-08T01:00:26.912Z"
   },
   {
    "duration": 16,
    "start_time": "2024-06-08T01:00:26.938Z"
   },
   {
    "duration": 47,
    "start_time": "2024-06-08T01:00:26.958Z"
   },
   {
    "duration": 15,
    "start_time": "2024-06-08T01:00:27.013Z"
   },
   {
    "duration": 31,
    "start_time": "2024-06-08T01:00:27.031Z"
   },
   {
    "duration": 59,
    "start_time": "2024-06-08T01:00:27.065Z"
   },
   {
    "duration": 26,
    "start_time": "2024-06-08T01:00:27.127Z"
   },
   {
    "duration": 49,
    "start_time": "2024-06-08T01:00:27.156Z"
   },
   {
    "duration": 45,
    "start_time": "2024-06-08T01:00:27.209Z"
   },
   {
    "duration": 158,
    "start_time": "2024-06-08T01:00:27.257Z"
   },
   {
    "duration": 20,
    "start_time": "2024-06-08T01:00:27.417Z"
   },
   {
    "duration": 14,
    "start_time": "2024-06-08T01:00:27.441Z"
   },
   {
    "duration": 93,
    "start_time": "2024-06-08T01:00:27.458Z"
   },
   {
    "duration": 81,
    "start_time": "2024-06-08T01:00:27.554Z"
   },
   {
    "duration": 23,
    "start_time": "2024-06-08T01:00:27.639Z"
   },
   {
    "duration": 46,
    "start_time": "2024-06-08T01:00:27.665Z"
   },
   {
    "duration": 119,
    "start_time": "2024-06-08T01:00:27.715Z"
   },
   {
    "duration": 101,
    "start_time": "2024-06-08T01:00:27.837Z"
   },
   {
    "duration": 17,
    "start_time": "2024-06-08T01:00:27.943Z"
   },
   {
    "duration": 52,
    "start_time": "2024-06-08T01:00:27.964Z"
   },
   {
    "duration": 26,
    "start_time": "2024-06-08T01:00:28.019Z"
   },
   {
    "duration": 52,
    "start_time": "2024-06-08T01:00:28.053Z"
   },
   {
    "duration": 25,
    "start_time": "2024-06-08T01:00:28.108Z"
   },
   {
    "duration": 6,
    "start_time": "2024-06-08T01:00:28.136Z"
   },
   {
    "duration": 258,
    "start_time": "2024-06-08T01:00:28.145Z"
   },
   {
    "duration": 0,
    "start_time": "2024-06-08T01:00:28.406Z"
   },
   {
    "duration": 0,
    "start_time": "2024-06-08T01:00:28.408Z"
   },
   {
    "duration": 0,
    "start_time": "2024-06-08T01:00:28.411Z"
   },
   {
    "duration": 0,
    "start_time": "2024-06-08T01:00:28.413Z"
   },
   {
    "duration": 0,
    "start_time": "2024-06-08T01:00:28.415Z"
   },
   {
    "duration": 0,
    "start_time": "2024-06-08T01:00:28.418Z"
   },
   {
    "duration": 0,
    "start_time": "2024-06-08T01:00:28.421Z"
   },
   {
    "duration": 0,
    "start_time": "2024-06-08T01:00:28.423Z"
   },
   {
    "duration": 0,
    "start_time": "2024-06-08T01:00:28.426Z"
   },
   {
    "duration": 0,
    "start_time": "2024-06-08T01:00:28.429Z"
   },
   {
    "duration": 0,
    "start_time": "2024-06-08T01:00:28.430Z"
   },
   {
    "duration": 6,
    "start_time": "2024-06-08T01:25:23.563Z"
   },
   {
    "duration": 25,
    "start_time": "2024-06-08T01:25:25.572Z"
   },
   {
    "duration": 61,
    "start_time": "2024-06-08T01:28:37.049Z"
   },
   {
    "duration": 39,
    "start_time": "2024-06-08T01:28:56.761Z"
   },
   {
    "duration": 7,
    "start_time": "2024-06-08T01:29:12.708Z"
   },
   {
    "duration": 5,
    "start_time": "2024-06-08T01:29:18.979Z"
   },
   {
    "duration": 36,
    "start_time": "2024-06-08T01:31:58.415Z"
   },
   {
    "duration": 6,
    "start_time": "2024-06-08T01:32:10.952Z"
   },
   {
    "duration": 40,
    "start_time": "2024-06-08T01:32:51.764Z"
   },
   {
    "duration": 5,
    "start_time": "2024-06-08T01:33:28.475Z"
   },
   {
    "duration": 59,
    "start_time": "2024-06-08T01:33:48.949Z"
   },
   {
    "duration": 54,
    "start_time": "2024-06-08T01:34:33.575Z"
   },
   {
    "duration": 10,
    "start_time": "2024-06-08T01:34:43.953Z"
   },
   {
    "duration": 24,
    "start_time": "2024-06-08T01:34:52.353Z"
   },
   {
    "duration": 42,
    "start_time": "2024-06-08T01:34:59.632Z"
   },
   {
    "duration": 31,
    "start_time": "2024-06-08T01:35:32.477Z"
   },
   {
    "duration": 24,
    "start_time": "2024-06-08T01:35:44.958Z"
   },
   {
    "duration": 39,
    "start_time": "2024-06-08T01:36:43.617Z"
   },
   {
    "duration": 6,
    "start_time": "2024-06-08T01:38:16.678Z"
   },
   {
    "duration": 42,
    "start_time": "2024-06-08T01:39:22.884Z"
   },
   {
    "duration": 49,
    "start_time": "2024-06-08T01:40:21.592Z"
   },
   {
    "duration": 45,
    "start_time": "2024-06-08T01:43:45.220Z"
   },
   {
    "duration": 15,
    "start_time": "2024-06-08T01:43:53.967Z"
   },
   {
    "duration": 43,
    "start_time": "2024-06-08T01:43:59.695Z"
   },
   {
    "duration": 41,
    "start_time": "2024-06-08T01:44:22.984Z"
   },
   {
    "duration": 1331,
    "start_time": "2024-06-08T01:45:05.801Z"
   },
   {
    "duration": 281,
    "start_time": "2024-06-08T01:45:07.137Z"
   },
   {
    "duration": 89,
    "start_time": "2024-06-08T01:45:07.420Z"
   },
   {
    "duration": 18,
    "start_time": "2024-06-08T01:45:07.512Z"
   },
   {
    "duration": 17,
    "start_time": "2024-06-08T01:45:07.536Z"
   },
   {
    "duration": 69,
    "start_time": "2024-06-08T01:45:07.557Z"
   },
   {
    "duration": 24,
    "start_time": "2024-06-08T01:45:07.630Z"
   },
   {
    "duration": 45,
    "start_time": "2024-06-08T01:45:07.657Z"
   },
   {
    "duration": 14,
    "start_time": "2024-06-08T01:45:07.706Z"
   },
   {
    "duration": 16,
    "start_time": "2024-06-08T01:45:07.723Z"
   },
   {
    "duration": 67,
    "start_time": "2024-06-08T01:45:07.743Z"
   },
   {
    "duration": 24,
    "start_time": "2024-06-08T01:45:07.813Z"
   },
   {
    "duration": 25,
    "start_time": "2024-06-08T01:45:07.840Z"
   },
   {
    "duration": 17,
    "start_time": "2024-06-08T01:45:07.902Z"
   },
   {
    "duration": 48,
    "start_time": "2024-06-08T01:45:07.922Z"
   },
   {
    "duration": 164,
    "start_time": "2024-06-08T01:45:07.973Z"
   },
   {
    "duration": 23,
    "start_time": "2024-06-08T01:45:08.140Z"
   },
   {
    "duration": 46,
    "start_time": "2024-06-08T01:45:08.166Z"
   },
   {
    "duration": 59,
    "start_time": "2024-06-08T01:45:08.215Z"
   },
   {
    "duration": 78,
    "start_time": "2024-06-08T01:45:08.277Z"
   },
   {
    "duration": 43,
    "start_time": "2024-06-08T01:45:08.359Z"
   },
   {
    "duration": 16,
    "start_time": "2024-06-08T01:45:08.405Z"
   },
   {
    "duration": 115,
    "start_time": "2024-06-08T01:45:08.424Z"
   },
   {
    "duration": 106,
    "start_time": "2024-06-08T01:45:08.543Z"
   },
   {
    "duration": 17,
    "start_time": "2024-06-08T01:45:08.655Z"
   },
   {
    "duration": 49,
    "start_time": "2024-06-08T01:45:08.675Z"
   },
   {
    "duration": 27,
    "start_time": "2024-06-08T01:45:08.728Z"
   },
   {
    "duration": 49,
    "start_time": "2024-06-08T01:45:08.758Z"
   },
   {
    "duration": 24,
    "start_time": "2024-06-08T01:45:08.810Z"
   },
   {
    "duration": 6,
    "start_time": "2024-06-08T01:45:08.837Z"
   },
   {
    "duration": 7,
    "start_time": "2024-06-08T01:45:08.846Z"
   },
   {
    "duration": 267,
    "start_time": "2024-06-08T01:45:08.857Z"
   },
   {
    "duration": 0,
    "start_time": "2024-06-08T01:45:09.127Z"
   },
   {
    "duration": 0,
    "start_time": "2024-06-08T01:45:09.130Z"
   },
   {
    "duration": 0,
    "start_time": "2024-06-08T01:45:09.131Z"
   },
   {
    "duration": 0,
    "start_time": "2024-06-08T01:45:09.134Z"
   },
   {
    "duration": 0,
    "start_time": "2024-06-08T01:45:09.135Z"
   },
   {
    "duration": 0,
    "start_time": "2024-06-08T01:45:09.138Z"
   },
   {
    "duration": 0,
    "start_time": "2024-06-08T01:45:09.140Z"
   },
   {
    "duration": 0,
    "start_time": "2024-06-08T01:45:09.142Z"
   },
   {
    "duration": 0,
    "start_time": "2024-06-08T01:45:09.144Z"
   },
   {
    "duration": 0,
    "start_time": "2024-06-08T01:45:09.146Z"
   },
   {
    "duration": 0,
    "start_time": "2024-06-08T01:45:09.149Z"
   },
   {
    "duration": 50,
    "start_time": "2024-06-08T01:49:39.087Z"
   },
   {
    "duration": 21,
    "start_time": "2024-06-08T01:49:50.480Z"
   },
   {
    "duration": 43,
    "start_time": "2024-06-08T01:51:22.559Z"
   },
   {
    "duration": 43,
    "start_time": "2024-06-08T01:52:48.072Z"
   },
   {
    "duration": 42,
    "start_time": "2024-06-08T01:55:34.274Z"
   },
   {
    "duration": 44,
    "start_time": "2024-06-08T01:56:43.524Z"
   },
   {
    "duration": 52,
    "start_time": "2024-06-08T01:56:56.466Z"
   },
   {
    "duration": 43,
    "start_time": "2024-06-08T02:04:29.068Z"
   },
   {
    "duration": 47,
    "start_time": "2024-06-08T02:23:11.791Z"
   },
   {
    "duration": 1258,
    "start_time": "2024-06-08T02:23:37.460Z"
   },
   {
    "duration": 293,
    "start_time": "2024-06-08T02:23:38.722Z"
   },
   {
    "duration": 86,
    "start_time": "2024-06-08T02:23:39.019Z"
   },
   {
    "duration": 14,
    "start_time": "2024-06-08T02:23:39.108Z"
   },
   {
    "duration": 15,
    "start_time": "2024-06-08T02:23:39.127Z"
   },
   {
    "duration": 82,
    "start_time": "2024-06-08T02:23:39.145Z"
   },
   {
    "duration": 24,
    "start_time": "2024-06-08T02:23:39.232Z"
   },
   {
    "duration": 13,
    "start_time": "2024-06-08T02:23:39.260Z"
   },
   {
    "duration": 35,
    "start_time": "2024-06-08T02:23:39.276Z"
   },
   {
    "duration": 15,
    "start_time": "2024-06-08T02:23:39.314Z"
   },
   {
    "duration": 29,
    "start_time": "2024-06-08T02:23:39.333Z"
   },
   {
    "duration": 56,
    "start_time": "2024-06-08T02:23:39.365Z"
   },
   {
    "duration": 25,
    "start_time": "2024-06-08T02:23:39.426Z"
   },
   {
    "duration": 55,
    "start_time": "2024-06-08T02:23:39.458Z"
   },
   {
    "duration": 51,
    "start_time": "2024-06-08T02:23:39.516Z"
   },
   {
    "duration": 157,
    "start_time": "2024-06-08T02:23:39.571Z"
   },
   {
    "duration": 19,
    "start_time": "2024-06-08T02:23:39.731Z"
   },
   {
    "duration": 13,
    "start_time": "2024-06-08T02:23:39.753Z"
   },
   {
    "duration": 85,
    "start_time": "2024-06-08T02:23:39.769Z"
   },
   {
    "duration": 79,
    "start_time": "2024-06-08T02:23:39.857Z"
   },
   {
    "duration": 22,
    "start_time": "2024-06-08T02:23:39.939Z"
   },
   {
    "duration": 44,
    "start_time": "2024-06-08T02:23:39.964Z"
   },
   {
    "duration": 118,
    "start_time": "2024-06-08T02:23:40.011Z"
   },
   {
    "duration": 99,
    "start_time": "2024-06-08T02:23:40.133Z"
   },
   {
    "duration": 14,
    "start_time": "2024-06-08T02:23:40.236Z"
   },
   {
    "duration": 50,
    "start_time": "2024-06-08T02:23:40.253Z"
   },
   {
    "duration": 26,
    "start_time": "2024-06-08T02:23:40.306Z"
   },
   {
    "duration": 25,
    "start_time": "2024-06-08T02:23:40.335Z"
   },
   {
    "duration": 56,
    "start_time": "2024-06-08T02:23:40.364Z"
   },
   {
    "duration": 7,
    "start_time": "2024-06-08T02:23:40.423Z"
   },
   {
    "duration": 8,
    "start_time": "2024-06-08T02:23:40.433Z"
   },
   {
    "duration": 61,
    "start_time": "2024-06-08T02:23:40.444Z"
   },
   {
    "duration": 4,
    "start_time": "2024-06-08T02:23:40.508Z"
   },
   {
    "duration": 4,
    "start_time": "2024-06-08T02:23:40.516Z"
   },
   {
    "duration": 3,
    "start_time": "2024-06-08T02:23:40.526Z"
   },
   {
    "duration": 3,
    "start_time": "2024-06-08T02:23:40.535Z"
   },
   {
    "duration": 4,
    "start_time": "2024-06-08T02:23:40.541Z"
   },
   {
    "duration": 4,
    "start_time": "2024-06-08T02:23:40.548Z"
   },
   {
    "duration": 4,
    "start_time": "2024-06-08T02:23:40.603Z"
   },
   {
    "duration": 3,
    "start_time": "2024-06-08T02:23:40.610Z"
   },
   {
    "duration": 3,
    "start_time": "2024-06-08T02:23:40.621Z"
   },
   {
    "duration": 5,
    "start_time": "2024-06-08T02:23:40.627Z"
   },
   {
    "duration": 239,
    "start_time": "2024-06-08T02:25:39.103Z"
   },
   {
    "duration": 50,
    "start_time": "2024-06-08T02:27:33.079Z"
   },
   {
    "duration": 50,
    "start_time": "2024-06-08T02:27:55.698Z"
   },
   {
    "duration": 24,
    "start_time": "2024-06-08T02:33:05.070Z"
   },
   {
    "duration": 350,
    "start_time": "2024-06-08T02:33:46.913Z"
   },
   {
    "duration": 37,
    "start_time": "2024-06-08T02:33:53.650Z"
   },
   {
    "duration": 25,
    "start_time": "2024-06-08T02:33:57.930Z"
   },
   {
    "duration": 26,
    "start_time": "2024-06-08T02:34:10.122Z"
   },
   {
    "duration": 24,
    "start_time": "2024-06-08T02:35:17.200Z"
   },
   {
    "duration": 27,
    "start_time": "2024-06-08T02:35:21.947Z"
   },
   {
    "duration": 26,
    "start_time": "2024-06-08T02:36:02.490Z"
   },
   {
    "duration": 49,
    "start_time": "2024-06-08T02:38:29.707Z"
   },
   {
    "duration": 41,
    "start_time": "2024-06-08T03:37:37.880Z"
   },
   {
    "duration": 40,
    "start_time": "2024-06-08T03:37:49.886Z"
   },
   {
    "duration": 12,
    "start_time": "2024-06-08T03:37:58.769Z"
   },
   {
    "duration": 22,
    "start_time": "2024-06-08T03:38:49.507Z"
   },
   {
    "duration": 23,
    "start_time": "2024-06-08T03:40:46.970Z"
   },
   {
    "duration": 26,
    "start_time": "2024-06-08T04:19:53.348Z"
   },
   {
    "duration": 22,
    "start_time": "2024-06-08T04:21:22.587Z"
   },
   {
    "duration": 26,
    "start_time": "2024-06-08T04:21:58.350Z"
   },
   {
    "duration": 25,
    "start_time": "2024-06-08T05:08:24.567Z"
   },
   {
    "duration": 38,
    "start_time": "2024-06-08T05:08:37.527Z"
   },
   {
    "duration": 342,
    "start_time": "2024-06-08T19:16:42.327Z"
   },
   {
    "duration": 27,
    "start_time": "2024-06-08T19:16:49.030Z"
   },
   {
    "duration": 5309,
    "start_time": "2024-06-08T19:16:56.369Z"
   },
   {
    "duration": 410,
    "start_time": "2024-06-08T19:17:01.682Z"
   },
   {
    "duration": 85,
    "start_time": "2024-06-08T19:17:02.095Z"
   },
   {
    "duration": 16,
    "start_time": "2024-06-08T19:17:02.184Z"
   },
   {
    "duration": 33,
    "start_time": "2024-06-08T19:17:02.203Z"
   },
   {
    "duration": 36,
    "start_time": "2024-06-08T19:17:02.240Z"
   },
   {
    "duration": 59,
    "start_time": "2024-06-08T19:17:02.280Z"
   },
   {
    "duration": 15,
    "start_time": "2024-06-08T19:17:02.342Z"
   },
   {
    "duration": 16,
    "start_time": "2024-06-08T19:17:02.360Z"
   },
   {
    "duration": 17,
    "start_time": "2024-06-08T19:17:02.424Z"
   },
   {
    "duration": 29,
    "start_time": "2024-06-08T19:17:02.444Z"
   },
   {
    "duration": 60,
    "start_time": "2024-06-08T19:17:02.477Z"
   },
   {
    "duration": 26,
    "start_time": "2024-06-08T19:17:02.540Z"
   },
   {
    "duration": 19,
    "start_time": "2024-06-08T19:17:02.568Z"
   },
   {
    "duration": 47,
    "start_time": "2024-06-08T19:17:02.625Z"
   },
   {
    "duration": 156,
    "start_time": "2024-06-08T19:17:02.679Z"
   },
   {
    "duration": 21,
    "start_time": "2024-06-08T19:17:02.839Z"
   },
   {
    "duration": 15,
    "start_time": "2024-06-08T19:17:02.863Z"
   },
   {
    "duration": 91,
    "start_time": "2024-06-08T19:17:02.882Z"
   },
   {
    "duration": 86,
    "start_time": "2024-06-08T19:17:02.977Z"
   },
   {
    "duration": 24,
    "start_time": "2024-06-08T19:17:03.066Z"
   },
   {
    "duration": 42,
    "start_time": "2024-06-08T19:17:03.093Z"
   },
   {
    "duration": 116,
    "start_time": "2024-06-08T19:17:03.139Z"
   },
   {
    "duration": 112,
    "start_time": "2024-06-08T19:17:03.258Z"
   },
   {
    "duration": 17,
    "start_time": "2024-06-08T19:17:03.373Z"
   },
   {
    "duration": 51,
    "start_time": "2024-06-08T19:17:03.394Z"
   },
   {
    "duration": 34,
    "start_time": "2024-06-08T19:17:03.448Z"
   },
   {
    "duration": 51,
    "start_time": "2024-06-08T19:17:03.491Z"
   },
   {
    "duration": 27,
    "start_time": "2024-06-08T19:17:03.545Z"
   },
   {
    "duration": 60,
    "start_time": "2024-06-08T19:17:03.576Z"
   },
   {
    "duration": 266,
    "start_time": "2024-06-08T19:17:03.640Z"
   },
   {
    "duration": 0,
    "start_time": "2024-06-08T19:17:03.911Z"
   },
   {
    "duration": 0,
    "start_time": "2024-06-08T19:17:03.924Z"
   },
   {
    "duration": 0,
    "start_time": "2024-06-08T19:17:03.926Z"
   },
   {
    "duration": 0,
    "start_time": "2024-06-08T19:17:03.934Z"
   },
   {
    "duration": 0,
    "start_time": "2024-06-08T19:17:03.936Z"
   },
   {
    "duration": 0,
    "start_time": "2024-06-08T19:17:03.938Z"
   },
   {
    "duration": 0,
    "start_time": "2024-06-08T19:17:03.940Z"
   },
   {
    "duration": 0,
    "start_time": "2024-06-08T19:17:03.942Z"
   },
   {
    "duration": 0,
    "start_time": "2024-06-08T19:17:03.945Z"
   },
   {
    "duration": 18,
    "start_time": "2024-06-08T19:22:27.608Z"
   },
   {
    "duration": 30,
    "start_time": "2024-06-08T19:24:23.465Z"
   },
   {
    "duration": 43,
    "start_time": "2024-06-08T19:28:36.242Z"
   },
   {
    "duration": 56,
    "start_time": "2024-06-08T19:29:01.995Z"
   },
   {
    "duration": 11,
    "start_time": "2024-06-08T19:30:14.980Z"
   },
   {
    "duration": 85,
    "start_time": "2024-06-08T19:30:25.480Z"
   },
   {
    "duration": 51,
    "start_time": "2024-06-08T19:32:19.712Z"
   },
   {
    "duration": 30,
    "start_time": "2024-06-08T19:35:34.861Z"
   },
   {
    "duration": 26,
    "start_time": "2024-06-08T19:38:53.730Z"
   },
   {
    "duration": 67,
    "start_time": "2024-06-08T19:41:57.601Z"
   },
   {
    "duration": 64,
    "start_time": "2024-06-08T19:42:04.063Z"
   },
   {
    "duration": 4,
    "start_time": "2024-06-08T20:58:10.562Z"
   },
   {
    "duration": 37,
    "start_time": "2024-06-08T21:11:02.531Z"
   },
   {
    "duration": 15,
    "start_time": "2024-06-08T21:11:14.396Z"
   },
   {
    "duration": 17,
    "start_time": "2024-06-08T21:21:36.476Z"
   },
   {
    "duration": 63,
    "start_time": "2024-06-08T21:21:42.068Z"
   },
   {
    "duration": 14,
    "start_time": "2024-06-08T21:21:51.335Z"
   },
   {
    "duration": 10,
    "start_time": "2024-06-08T21:22:48.362Z"
   },
   {
    "duration": 19,
    "start_time": "2024-06-08T21:23:15.069Z"
   },
   {
    "duration": 76,
    "start_time": "2024-06-08T21:23:23.876Z"
   },
   {
    "duration": 244,
    "start_time": "2024-06-08T22:10:07.551Z"
   },
   {
    "duration": 917,
    "start_time": "2024-06-08T22:59:41.252Z"
   },
   {
    "duration": 6,
    "start_time": "2024-06-08T23:00:09.484Z"
   },
   {
    "duration": 8,
    "start_time": "2024-06-08T23:00:21.798Z"
   },
   {
    "duration": 112,
    "start_time": "2024-06-08T23:02:06.143Z"
   },
   {
    "duration": 106,
    "start_time": "2024-06-08T23:15:07.302Z"
   },
   {
    "duration": 8,
    "start_time": "2024-06-08T23:15:35.500Z"
   },
   {
    "duration": 31,
    "start_time": "2024-06-08T23:21:19.377Z"
   },
   {
    "duration": 9,
    "start_time": "2024-06-08T23:21:29.922Z"
   },
   {
    "duration": 18,
    "start_time": "2024-06-08T23:32:42.774Z"
   },
   {
    "duration": 18,
    "start_time": "2024-06-08T23:36:00.990Z"
   },
   {
    "duration": 372,
    "start_time": "2024-06-08T23:39:35.153Z"
   },
   {
    "duration": 759,
    "start_time": "2024-06-08T23:39:53.784Z"
   },
   {
    "duration": 1322,
    "start_time": "2024-06-08T23:41:59.390Z"
   },
   {
    "duration": 795,
    "start_time": "2024-06-08T23:42:41.152Z"
   },
   {
    "duration": 1764,
    "start_time": "2024-06-08T23:45:46.069Z"
   },
   {
    "duration": 21,
    "start_time": "2024-06-08T23:47:15.857Z"
   },
   {
    "duration": 758,
    "start_time": "2024-06-08T23:47:50.253Z"
   },
   {
    "duration": 598,
    "start_time": "2024-06-08T23:48:10.949Z"
   },
   {
    "duration": 776,
    "start_time": "2024-06-08T23:48:30.846Z"
   },
   {
    "duration": 665,
    "start_time": "2024-06-08T23:51:31.729Z"
   },
   {
    "duration": 936,
    "start_time": "2024-06-08T23:52:26.456Z"
   },
   {
    "duration": 661,
    "start_time": "2024-06-08T23:52:44.014Z"
   },
   {
    "duration": 596,
    "start_time": "2024-06-08T23:53:10.304Z"
   },
   {
    "duration": 741,
    "start_time": "2024-06-08T23:53:17.956Z"
   },
   {
    "duration": 23,
    "start_time": "2024-06-09T00:32:34.782Z"
   },
   {
    "duration": 46,
    "start_time": "2024-06-09T00:38:03.779Z"
   },
   {
    "duration": 20,
    "start_time": "2024-06-09T00:44:10.962Z"
   },
   {
    "duration": 22,
    "start_time": "2024-06-09T00:52:23.172Z"
   },
   {
    "duration": 485,
    "start_time": "2024-06-09T00:57:19.895Z"
   },
   {
    "duration": 461,
    "start_time": "2024-06-09T00:57:27.752Z"
   },
   {
    "duration": 505,
    "start_time": "2024-06-09T00:58:13.268Z"
   },
   {
    "duration": 617,
    "start_time": "2024-06-09T00:59:47.669Z"
   },
   {
    "duration": 668,
    "start_time": "2024-06-09T00:59:59.867Z"
   },
   {
    "duration": 585,
    "start_time": "2024-06-09T01:00:06.589Z"
   },
   {
    "duration": 587,
    "start_time": "2024-06-09T01:00:25.138Z"
   },
   {
    "duration": 26,
    "start_time": "2024-06-09T01:02:47.958Z"
   },
   {
    "duration": 10,
    "start_time": "2024-06-09T01:03:13.760Z"
   },
   {
    "duration": 470,
    "start_time": "2024-06-09T01:11:43.653Z"
   },
   {
    "duration": 104,
    "start_time": "2024-06-09T01:12:02.973Z"
   },
   {
    "duration": 833,
    "start_time": "2024-06-09T01:13:06.911Z"
   },
   {
    "duration": 996,
    "start_time": "2024-06-09T01:13:32.928Z"
   },
   {
    "duration": 654,
    "start_time": "2024-06-09T01:14:22.835Z"
   },
   {
    "duration": 726,
    "start_time": "2024-06-09T01:14:40.677Z"
   },
   {
    "duration": 732,
    "start_time": "2024-06-09T01:15:24.961Z"
   },
   {
    "duration": 635,
    "start_time": "2024-06-09T01:15:36.744Z"
   },
   {
    "duration": 664,
    "start_time": "2024-06-09T01:16:16.526Z"
   },
   {
    "duration": 746,
    "start_time": "2024-06-09T01:16:32.774Z"
   },
   {
    "duration": 683,
    "start_time": "2024-06-09T01:21:32.504Z"
   },
   {
    "duration": 612,
    "start_time": "2024-06-09T01:21:41.013Z"
   },
   {
    "duration": 731,
    "start_time": "2024-06-09T01:21:48.377Z"
   },
   {
    "duration": 705,
    "start_time": "2024-06-09T01:27:17.850Z"
   },
   {
    "duration": 650,
    "start_time": "2024-06-09T01:27:34.740Z"
   },
   {
    "duration": 931,
    "start_time": "2024-06-09T01:29:47.063Z"
   },
   {
    "duration": 16,
    "start_time": "2024-06-09T01:36:06.460Z"
   },
   {
    "duration": 263,
    "start_time": "2024-06-09T01:56:04.665Z"
   },
   {
    "duration": 268,
    "start_time": "2024-06-09T02:10:46.987Z"
   },
   {
    "duration": 261,
    "start_time": "2024-06-09T02:11:31.479Z"
   },
   {
    "duration": 282,
    "start_time": "2024-06-09T02:28:20.234Z"
   },
   {
    "duration": 13,
    "start_time": "2024-06-09T02:37:58.604Z"
   },
   {
    "duration": 14,
    "start_time": "2024-06-09T02:40:05.576Z"
   },
   {
    "duration": 13,
    "start_time": "2024-06-09T02:43:11.695Z"
   },
   {
    "duration": 3,
    "start_time": "2025-01-24T18:13:58.714Z"
   }
  ],
  "colab": {
   "provenance": []
  },
  "kernelspec": {
   "display_name": "Python 3 (ipykernel)",
   "language": "python",
   "name": "python3"
  },
  "language_info": {
   "codemirror_mode": {
    "name": "ipython",
    "version": 3
   },
   "file_extension": ".py",
   "mimetype": "text/x-python",
   "name": "python",
   "nbconvert_exporter": "python",
   "pygments_lexer": "ipython3",
   "version": "3.9.19"
  },
  "toc": {
   "base_numbering": 1,
   "nav_menu": {},
   "number_sections": true,
   "sideBar": true,
   "skip_h1_title": false,
   "title_cell": "Table of Contents",
   "title_sidebar": "Contents",
   "toc_cell": false,
   "toc_position": {
    "height": "calc(100% - 180px)",
    "left": "10px",
    "top": "150px",
    "width": "222px"
   },
   "toc_section_display": true,
   "toc_window_display": true
  }
 },
 "nbformat": 4,
 "nbformat_minor": 1
}
